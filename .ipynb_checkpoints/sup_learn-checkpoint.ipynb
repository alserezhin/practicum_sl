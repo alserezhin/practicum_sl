{
 "cells": [
  {
   "cell_type": "markdown",
   "metadata": {},
   "source": [
    "# Отток клиентов"
   ]
  },
  {
   "cell_type": "markdown",
   "metadata": {
    "toc": true
   },
   "source": [
    "<h1>Содержание<span class=\"tocSkip\"></span></h1>\n",
    "<div class=\"toc\"><ul class=\"toc-item\"><li><span><a href=\"#Цель-работы-и-порядок-выполнения\" data-toc-modified-id=\"Цель-работы-и-порядок-выполнения-1\"><span class=\"toc-item-num\">1&nbsp;&nbsp;</span>Цель работы и порядок выполнения</a></span></li><li><span><a href=\"#Описание-данных\" data-toc-modified-id=\"Описание-данных-2\"><span class=\"toc-item-num\">2&nbsp;&nbsp;</span>Описание данных</a></span></li><li><span><a href=\"#Подготовка-данных\" data-toc-modified-id=\"Подготовка-данных-3\"><span class=\"toc-item-num\">3&nbsp;&nbsp;</span>Подготовка данных</a></span></li><li><span><a href=\"#Исследование-задачи\" data-toc-modified-id=\"Исследование-задачи-4\"><span class=\"toc-item-num\">4&nbsp;&nbsp;</span>Исследование задачи</a></span><ul class=\"toc-item\"><li><span><a href=\"#Исследование-дисбаланса\" data-toc-modified-id=\"Исследование-дисбаланса-4.1\"><span class=\"toc-item-num\">4.1&nbsp;&nbsp;</span>Исследование дисбаланса</a></span></li><li><span><a href=\"#Изучение-моделей-без-учета-дисбаланса\" data-toc-modified-id=\"Изучение-моделей-без-учета-дисбаланса-4.2\"><span class=\"toc-item-num\">4.2&nbsp;&nbsp;</span>Изучение моделей без учета дисбаланса</a></span><ul class=\"toc-item\"><li><span><a href=\"#DecisionTreeClassifier\" data-toc-modified-id=\"DecisionTreeClassifier-4.2.1\"><span class=\"toc-item-num\">4.2.1&nbsp;&nbsp;</span>DecisionTreeClassifier</a></span></li><li><span><a href=\"#RandomForestClassifier\" data-toc-modified-id=\"RandomForestClassifier-4.2.2\"><span class=\"toc-item-num\">4.2.2&nbsp;&nbsp;</span>RandomForestClassifier</a></span></li><li><span><a href=\"#LogisticRegression\" data-toc-modified-id=\"LogisticRegression-4.2.3\"><span class=\"toc-item-num\">4.2.3&nbsp;&nbsp;</span>LogisticRegression</a></span></li></ul></li></ul></li><li><span><a href=\"#Борьба-с-дисбалансом\" data-toc-modified-id=\"Борьба-с-дисбалансом-5\"><span class=\"toc-item-num\">5&nbsp;&nbsp;</span>Борьба с дисбалансом</a></span><ul class=\"toc-item\"><li><span><a href=\"#Upsampling\" data-toc-modified-id=\"Upsampling-5.1\"><span class=\"toc-item-num\">5.1&nbsp;&nbsp;</span>Upsampling</a></span><ul class=\"toc-item\"><li><span><a href=\"#DecisionTreeClassifier\" data-toc-modified-id=\"DecisionTreeClassifier-5.1.1\"><span class=\"toc-item-num\">5.1.1&nbsp;&nbsp;</span>DecisionTreeClassifier</a></span></li><li><span><a href=\"#RandomForestClassifier\" data-toc-modified-id=\"RandomForestClassifier-5.1.2\"><span class=\"toc-item-num\">5.1.2&nbsp;&nbsp;</span>RandomForestClassifier</a></span></li><li><span><a href=\"#LogisticRegression\" data-toc-modified-id=\"LogisticRegression-5.1.3\"><span class=\"toc-item-num\">5.1.3&nbsp;&nbsp;</span>LogisticRegression</a></span></li></ul></li><li><span><a href=\"#Downsampling\" data-toc-modified-id=\"Downsampling-5.2\"><span class=\"toc-item-num\">5.2&nbsp;&nbsp;</span>Downsampling</a></span><ul class=\"toc-item\"><li><span><a href=\"#DecisionTreeClassifier\" data-toc-modified-id=\"DecisionTreeClassifier-5.2.1\"><span class=\"toc-item-num\">5.2.1&nbsp;&nbsp;</span>DecisionTreeClassifier</a></span></li><li><span><a href=\"#RandomForestClassifier\" data-toc-modified-id=\"RandomForestClassifier-5.2.2\"><span class=\"toc-item-num\">5.2.2&nbsp;&nbsp;</span>RandomForestClassifier</a></span></li><li><span><a href=\"#LogisticRegression\" data-toc-modified-id=\"LogisticRegression-5.2.3\"><span class=\"toc-item-num\">5.2.3&nbsp;&nbsp;</span>LogisticRegression</a></span></li></ul></li></ul></li><li><span><a href=\"#Тестирование-модели\" data-toc-modified-id=\"Тестирование-модели-6\"><span class=\"toc-item-num\">6&nbsp;&nbsp;</span>Тестирование модели</a></span></li><li><span><a href=\"#Вывод\" data-toc-modified-id=\"Вывод-7\"><span class=\"toc-item-num\">7&nbsp;&nbsp;</span>Вывод</a></span></li><li><span><a href=\"#Чек-лист-готовности-проекта\" data-toc-modified-id=\"Чек-лист-готовности-проекта-8\"><span class=\"toc-item-num\">8&nbsp;&nbsp;</span>Чек-лист готовности проекта</a></span></li></ul></div>"
   ]
  },
  {
   "cell_type": "markdown",
   "metadata": {},
   "source": [
    "Из «Бета-Банка» стали уходить клиенты. Каждый месяц. Немного, но заметно. Банковские маркетологи посчитали: сохранять текущих клиентов дешевле, чем привлекать новых.\n",
    "\n",
    "Нужно спрогнозировать, уйдёт клиент из банка в ближайшее время или нет. Вам предоставлены исторические данные о поведении клиентов и расторжении договоров с банком. \n",
    "\n",
    "Постройте модель с предельно большим значением *F1*-меры. Чтобы сдать проект успешно, нужно довести метрику до 0.59. Проверьте *F1*-меру на тестовой выборке самостоятельно.\n",
    "\n",
    "Дополнительно измеряйте *AUC-ROC*, сравнивайте её значение с *F1*-мерой.\n",
    "\n",
    "Источник данных: [https://www.kaggle.com/barelydedicated/bank-customer-churn-modeling](https://www.kaggle.com/barelydedicated/bank-customer-churn-modeling)"
   ]
  },
  {
   "cell_type": "markdown",
   "metadata": {},
   "source": [
    "## Цель работы и порядок выполнения\n",
    "\n",
    "Цель работы: спрогнозировать уход клиента из банка, построив модель со значением _F1_-меры не менее 0.59.\n",
    "\n",
    "Порядок выполнения: \n",
    "1. Загрузить данные и выполнить их предобратботку.\n",
    "2. Исследование задачи: исследование дисбаланса, построение модели без учета дисбаланса, вывод по результату работы такой модели.\n",
    "3. Устранение дисбаланса и построение новой модели.\n",
    "4. Тестирование новой модели.\n",
    "5. Исследование метрики _AUC-ROC_."
   ]
  },
  {
   "cell_type": "markdown",
   "metadata": {},
   "source": [
    "## Описание данных\n",
    "Данные находятся в файле _/datasets/Churn.csv_\n",
    "\n",
    "Признаки:\n",
    "\n",
    "__RowNumber__ — индекс строки в данных\n",
    "\n",
    "__CustomerId__ — уникальный идентификатор клиента\n",
    "\n",
    "__Surname__ — фамилия\n",
    "\n",
    "__CreditScore__ — кредитный рейтинг\n",
    "\n",
    "__Geography__ — страна проживания\n",
    "\n",
    "__Gender__ — пол\n",
    "\n",
    "__Age__ — возраст\n",
    "\n",
    "__Tenure__ — сколько лет человек является клиентом банка\n",
    "\n",
    "__Balance__ — баланс на счёте\n",
    "\n",
    "__NumOfProducts__ — количество продуктов банка, используемых клиентом\n",
    "\n",
    "__HasCrCard__ — наличие кредитной карты\n",
    "\n",
    "__IsActiveMember__ — активность клиента\n",
    "\n",
    "__EstimatedSalary__ — предполагаемая зарплата\n",
    "\n",
    "Целевой признак:\n",
    "\n",
    "__Exited__ — факт ухода клиента"
   ]
  },
  {
   "cell_type": "markdown",
   "metadata": {},
   "source": [
    "## Подготовка данных"
   ]
  },
  {
   "cell_type": "markdown",
   "metadata": {},
   "source": [
    "Импорт необходимых библиотек:"
   ]
  },
  {
   "cell_type": "code",
   "execution_count": 1,
   "metadata": {},
   "outputs": [],
   "source": [
    "import pandas as pd\n",
    "import numpy as np\n",
    "from sklearn.tree import DecisionTreeClassifier\n",
    "from sklearn.ensemble import RandomForestClassifier\n",
    "from sklearn.linear_model import LogisticRegression\n",
    "from sklearn.model_selection import train_test_split, GridSearchCV\n",
    "from sklearn.preprocessing import StandardScaler, OneHotEncoder\n",
    "from sklearn.metrics import recall_score, precision_score, f1_score, confusion_matrix, ConfusionMatrixDisplay, \\\n",
    "roc_curve, auc, roc_auc_score\n",
    "from sklearn.utils import shuffle\n",
    "from matplotlib import pyplot as plt\n",
    "from random import randint"
   ]
  },
  {
   "cell_type": "markdown",
   "metadata": {},
   "source": [
    "Загрузим данные в переменную _df_ :"
   ]
  },
  {
   "cell_type": "code",
   "execution_count": 2,
   "metadata": {},
   "outputs": [],
   "source": [
    "df = pd.read_csv(r'C:\\Users\\asere\\projects\\supervised_learning\\churn.csv')"
   ]
  },
  {
   "cell_type": "markdown",
   "metadata": {},
   "source": [
    "Посмотрим на первые 5 строк таблицы и общую информацию по датафрейму:"
   ]
  },
  {
   "cell_type": "code",
   "execution_count": 3,
   "metadata": {},
   "outputs": [
    {
     "data": {
      "text/html": [
       "<div>\n",
       "<style scoped>\n",
       "    .dataframe tbody tr th:only-of-type {\n",
       "        vertical-align: middle;\n",
       "    }\n",
       "\n",
       "    .dataframe tbody tr th {\n",
       "        vertical-align: top;\n",
       "    }\n",
       "\n",
       "    .dataframe thead th {\n",
       "        text-align: right;\n",
       "    }\n",
       "</style>\n",
       "<table border=\"1\" class=\"dataframe\">\n",
       "  <thead>\n",
       "    <tr style=\"text-align: right;\">\n",
       "      <th></th>\n",
       "      <th>RowNumber</th>\n",
       "      <th>CustomerId</th>\n",
       "      <th>Surname</th>\n",
       "      <th>CreditScore</th>\n",
       "      <th>Geography</th>\n",
       "      <th>Gender</th>\n",
       "      <th>Age</th>\n",
       "      <th>Tenure</th>\n",
       "      <th>Balance</th>\n",
       "      <th>NumOfProducts</th>\n",
       "      <th>HasCrCard</th>\n",
       "      <th>IsActiveMember</th>\n",
       "      <th>EstimatedSalary</th>\n",
       "      <th>Exited</th>\n",
       "    </tr>\n",
       "  </thead>\n",
       "  <tbody>\n",
       "    <tr>\n",
       "      <th>0</th>\n",
       "      <td>1</td>\n",
       "      <td>15634602</td>\n",
       "      <td>Hargrave</td>\n",
       "      <td>619</td>\n",
       "      <td>France</td>\n",
       "      <td>Female</td>\n",
       "      <td>42</td>\n",
       "      <td>2.0</td>\n",
       "      <td>0.00</td>\n",
       "      <td>1</td>\n",
       "      <td>1</td>\n",
       "      <td>1</td>\n",
       "      <td>101348.88</td>\n",
       "      <td>1</td>\n",
       "    </tr>\n",
       "    <tr>\n",
       "      <th>1</th>\n",
       "      <td>2</td>\n",
       "      <td>15647311</td>\n",
       "      <td>Hill</td>\n",
       "      <td>608</td>\n",
       "      <td>Spain</td>\n",
       "      <td>Female</td>\n",
       "      <td>41</td>\n",
       "      <td>1.0</td>\n",
       "      <td>83807.86</td>\n",
       "      <td>1</td>\n",
       "      <td>0</td>\n",
       "      <td>1</td>\n",
       "      <td>112542.58</td>\n",
       "      <td>0</td>\n",
       "    </tr>\n",
       "    <tr>\n",
       "      <th>2</th>\n",
       "      <td>3</td>\n",
       "      <td>15619304</td>\n",
       "      <td>Onio</td>\n",
       "      <td>502</td>\n",
       "      <td>France</td>\n",
       "      <td>Female</td>\n",
       "      <td>42</td>\n",
       "      <td>8.0</td>\n",
       "      <td>159660.80</td>\n",
       "      <td>3</td>\n",
       "      <td>1</td>\n",
       "      <td>0</td>\n",
       "      <td>113931.57</td>\n",
       "      <td>1</td>\n",
       "    </tr>\n",
       "    <tr>\n",
       "      <th>3</th>\n",
       "      <td>4</td>\n",
       "      <td>15701354</td>\n",
       "      <td>Boni</td>\n",
       "      <td>699</td>\n",
       "      <td>France</td>\n",
       "      <td>Female</td>\n",
       "      <td>39</td>\n",
       "      <td>1.0</td>\n",
       "      <td>0.00</td>\n",
       "      <td>2</td>\n",
       "      <td>0</td>\n",
       "      <td>0</td>\n",
       "      <td>93826.63</td>\n",
       "      <td>0</td>\n",
       "    </tr>\n",
       "    <tr>\n",
       "      <th>4</th>\n",
       "      <td>5</td>\n",
       "      <td>15737888</td>\n",
       "      <td>Mitchell</td>\n",
       "      <td>850</td>\n",
       "      <td>Spain</td>\n",
       "      <td>Female</td>\n",
       "      <td>43</td>\n",
       "      <td>2.0</td>\n",
       "      <td>125510.82</td>\n",
       "      <td>1</td>\n",
       "      <td>1</td>\n",
       "      <td>1</td>\n",
       "      <td>79084.10</td>\n",
       "      <td>0</td>\n",
       "    </tr>\n",
       "  </tbody>\n",
       "</table>\n",
       "</div>"
      ],
      "text/plain": [
       "   RowNumber  CustomerId   Surname  CreditScore Geography  Gender  Age  \\\n",
       "0          1    15634602  Hargrave          619    France  Female   42   \n",
       "1          2    15647311      Hill          608     Spain  Female   41   \n",
       "2          3    15619304      Onio          502    France  Female   42   \n",
       "3          4    15701354      Boni          699    France  Female   39   \n",
       "4          5    15737888  Mitchell          850     Spain  Female   43   \n",
       "\n",
       "   Tenure    Balance  NumOfProducts  HasCrCard  IsActiveMember  \\\n",
       "0     2.0       0.00              1          1               1   \n",
       "1     1.0   83807.86              1          0               1   \n",
       "2     8.0  159660.80              3          1               0   \n",
       "3     1.0       0.00              2          0               0   \n",
       "4     2.0  125510.82              1          1               1   \n",
       "\n",
       "   EstimatedSalary  Exited  \n",
       "0        101348.88       1  \n",
       "1        112542.58       0  \n",
       "2        113931.57       1  \n",
       "3         93826.63       0  \n",
       "4         79084.10       0  "
      ]
     },
     "execution_count": 3,
     "metadata": {},
     "output_type": "execute_result"
    }
   ],
   "source": [
    "df.head()"
   ]
  },
  {
   "cell_type": "code",
   "execution_count": 4,
   "metadata": {},
   "outputs": [
    {
     "name": "stdout",
     "output_type": "stream",
     "text": [
      "<class 'pandas.core.frame.DataFrame'>\n",
      "RangeIndex: 10000 entries, 0 to 9999\n",
      "Data columns (total 14 columns):\n",
      " #   Column           Non-Null Count  Dtype  \n",
      "---  ------           --------------  -----  \n",
      " 0   RowNumber        10000 non-null  int64  \n",
      " 1   CustomerId       10000 non-null  int64  \n",
      " 2   Surname          10000 non-null  object \n",
      " 3   CreditScore      10000 non-null  int64  \n",
      " 4   Geography        10000 non-null  object \n",
      " 5   Gender           10000 non-null  object \n",
      " 6   Age              10000 non-null  int64  \n",
      " 7   Tenure           9091 non-null   float64\n",
      " 8   Balance          10000 non-null  float64\n",
      " 9   NumOfProducts    10000 non-null  int64  \n",
      " 10  HasCrCard        10000 non-null  int64  \n",
      " 11  IsActiveMember   10000 non-null  int64  \n",
      " 12  EstimatedSalary  10000 non-null  float64\n",
      " 13  Exited           10000 non-null  int64  \n",
      "dtypes: float64(3), int64(8), object(3)\n",
      "memory usage: 1.1+ MB\n"
     ]
    }
   ],
   "source": [
    "df.info()"
   ]
  },
  {
   "cell_type": "markdown",
   "metadata": {},
   "source": [
    "Приведем все названия столбцов к нижнему регистру и добавим разделитель '_':"
   ]
  },
  {
   "cell_type": "code",
   "execution_count": 5,
   "metadata": {},
   "outputs": [],
   "source": [
    "df.columns = [_.lower() for _ in df.columns]"
   ]
  },
  {
   "cell_type": "code",
   "execution_count": 6,
   "metadata": {},
   "outputs": [],
   "source": [
    "df.columns = ['row_number', 'customer_id', 'surname', 'credit_score', 'geography',\n",
    "       'gender', 'age', 'tenure', 'balance', 'num_of_products', 'has_cr_card',\n",
    "       'is_active_member', 'estimated_salary', 'exited']"
   ]
  },
  {
   "cell_type": "code",
   "execution_count": 7,
   "metadata": {},
   "outputs": [
    {
     "data": {
      "text/plain": [
       "Index(['row_number', 'customer_id', 'surname', 'credit_score', 'geography',\n",
       "       'gender', 'age', 'tenure', 'balance', 'num_of_products', 'has_cr_card',\n",
       "       'is_active_member', 'estimated_salary', 'exited'],\n",
       "      dtype='object')"
      ]
     },
     "execution_count": 7,
     "metadata": {},
     "output_type": "execute_result"
    }
   ],
   "source": [
    "df.columns"
   ]
  },
  {
   "cell_type": "markdown",
   "metadata": {},
   "source": [
    "Пропуски и дубликаты:"
   ]
  },
  {
   "cell_type": "code",
   "execution_count": 8,
   "metadata": {},
   "outputs": [
    {
     "data": {
      "text/plain": [
       "tenure              0.0909\n",
       "row_number          0.0000\n",
       "customer_id         0.0000\n",
       "surname             0.0000\n",
       "credit_score        0.0000\n",
       "geography           0.0000\n",
       "gender              0.0000\n",
       "age                 0.0000\n",
       "balance             0.0000\n",
       "num_of_products     0.0000\n",
       "has_cr_card         0.0000\n",
       "is_active_member    0.0000\n",
       "estimated_salary    0.0000\n",
       "exited              0.0000\n",
       "dtype: float64"
      ]
     },
     "execution_count": 8,
     "metadata": {},
     "output_type": "execute_result"
    }
   ],
   "source": [
    "df.isna().mean().sort_values(ascending=False)"
   ]
  },
  {
   "cell_type": "markdown",
   "metadata": {},
   "source": [
    "Пропуски в столбце содержащем информацию о времени, которое человек является клиентом банка (возможно, важная информация для нашего исследования). Заменим пропуски случайным значением из диапазона между макимальным и минимальным значением, чтобы не исказить распреление."
   ]
  },
  {
   "cell_type": "code",
   "execution_count": 9,
   "metadata": {},
   "outputs": [],
   "source": [
    "df['tenure'] = df['tenure'].apply([lambda x: randint(min(df['tenure']), max(df['tenure']))])"
   ]
  },
  {
   "cell_type": "code",
   "execution_count": 10,
   "metadata": {},
   "outputs": [
    {
     "data": {
      "text/plain": [
       "row_number          0.0\n",
       "customer_id         0.0\n",
       "surname             0.0\n",
       "credit_score        0.0\n",
       "geography           0.0\n",
       "gender              0.0\n",
       "age                 0.0\n",
       "tenure              0.0\n",
       "balance             0.0\n",
       "num_of_products     0.0\n",
       "has_cr_card         0.0\n",
       "is_active_member    0.0\n",
       "estimated_salary    0.0\n",
       "exited              0.0\n",
       "dtype: float64"
      ]
     },
     "execution_count": 10,
     "metadata": {},
     "output_type": "execute_result"
    }
   ],
   "source": [
    "df.isna().mean().sort_values(ascending=False)"
   ]
  },
  {
   "cell_type": "markdown",
   "metadata": {},
   "source": [
    "Проверим на явные дубликаты:"
   ]
  },
  {
   "cell_type": "code",
   "execution_count": 11,
   "metadata": {},
   "outputs": [
    {
     "data": {
      "text/plain": [
       "0"
      ]
     },
     "execution_count": 11,
     "metadata": {},
     "output_type": "execute_result"
    }
   ],
   "source": [
    "df.duplicated().sum()"
   ]
  },
  {
   "cell_type": "markdown",
   "metadata": {},
   "source": [
    "Явных дубликатов нет."
   ]
  },
  {
   "cell_type": "markdown",
   "metadata": {},
   "source": [
    "Проверим _ID_ пользователей:"
   ]
  },
  {
   "cell_type": "code",
   "execution_count": 12,
   "metadata": {},
   "outputs": [
    {
     "data": {
      "text/plain": [
       "0"
      ]
     },
     "execution_count": 12,
     "metadata": {},
     "output_type": "execute_result"
    }
   ],
   "source": [
    "df['customer_id'].duplicated().sum()"
   ]
  },
  {
   "cell_type": "markdown",
   "metadata": {},
   "source": [
    "Все нормально."
   ]
  },
  {
   "cell_type": "markdown",
   "metadata": {},
   "source": [
    "Общий взгляд на распределения:"
   ]
  },
  {
   "cell_type": "code",
   "execution_count": 13,
   "metadata": {},
   "outputs": [
    {
     "data": {
      "image/png": "[encoded data removed]",
      "text/plain": [
       "<Figure size 1500x1500 with 12 Axes>"
      ]
     },
     "metadata": {},
     "output_type": "display_data"
    }
   ],
   "source": [
    "df.hist(figsize=(15,15));"
   ]
  },
  {
   "cell_type": "markdown",
   "metadata": {},
   "source": [
    "Сразу видно дисбаланс в целевом признаке: ушедших пользователей в 4 раза больше, чем оставшихся.\n",
    "\n",
    "Из-за замены пропусков на медианное значение в столбце _'tenure'_ виден явный всплекс в середине распределения (возмжно, этого не надо было делать, но пока оставим).\n",
    "\n",
    "Людей с кредитками более чем в 2 раза больше чем людей без. \n",
    "\n",
    "Активных участников примерно столько же, сколько и неактивных.\n",
    "\n",
    "Предполагаемая зарплата близка к равномерному распределению."
   ]
  },
  {
   "cell_type": "markdown",
   "metadata": {},
   "source": [
    "Далее разобьем выборку на тренировочную, валидационную и тестовую, при этом избавимся от неинформатиных для наших моделей столбцов. К ним можно отнести: _'row_number', 'customer_id', 'surname'_. А также изменим категориальные столбцы _'gender'_ и _'\n",
    "geography'_ методом OHE. Мужской пол примем за 1."
   ]
  },
  {
   "cell_type": "code",
   "execution_count": 18,
   "metadata": {},
   "outputs": [
    {
     "name": "stderr",
     "output_type": "stream",
     "text": [
      "C:\\Users\\asere\\anaconda3\\lib\\site-packages\\sklearn\\preprocessing\\_encoders.py:828: FutureWarning: `sparse` was renamed to `sparse_output` in version 1.2 and will be removed in 1.4. `sparse_output` is ignored unless you leave `sparse` to its default value.\n",
      "  warnings.warn(\n",
      "C:\\Users\\asere\\AppData\\Local\\Temp\\ipykernel_11260\\2273657537.py:6: VisibleDeprecationWarning: Creating an ndarray from ragged nested sequences (which is a list-or-tuple of lists-or-tuples-or ndarrays with different lengths or shapes) is deprecated. If you meant to do this, you must specify 'dtype=object' when creating the ndarray.\n",
      "  features_labels = np.hstack(np.array(enc.categories_))\n"
     ]
    }
   ],
   "source": [
    "enc = OneHotEncoder(handle_unknown='ignore', sparse=False)\n",
    "\n",
    "enc.fit(df[['gender', 'geography']])\n",
    "\n",
    "df_ohe = enc.transform(df[['gender', 'geography']])\n",
    "features_labels = np.hstack(np.array(enc.categories_))\n",
    "\n",
    "df_ohe = pd.DataFrame(df_ohe, columns=features_labels)\n",
    "\n",
    "df_ohe = pd.concat([df, df_ohe], axis=1)\n",
    "\n",
    "df_ohe = df_ohe.drop(['gender', 'geography'], axis=1)"
   ]
  },
  {
   "cell_type": "code",
   "execution_count": 19,
   "metadata": {},
   "outputs": [
    {
     "data": {
      "text/plain": [
       "Index(['row_number', 'customer_id', 'surname', 'credit_score', 'age', 'tenure',\n",
       "       'balance', 'num_of_products', 'has_cr_card', 'is_active_member',\n",
       "       'estimated_salary', 'exited', 'Female', 'Male', 'France', 'Germany',\n",
       "       'Spain'],\n",
       "      dtype='object')"
      ]
     },
     "execution_count": 19,
     "metadata": {},
     "output_type": "execute_result"
    }
   ],
   "source": [
    "df_ohe.columns"
   ]
  },
  {
   "cell_type": "code",
   "execution_count": 20,
   "metadata": {},
   "outputs": [],
   "source": [
    "features = df_ohe.drop(['row_number', 'customer_id', 'surname', 'exited'], axis=1)\n",
    "target = df_ohe['exited']"
   ]
  },
  {
   "cell_type": "code",
   "execution_count": 21,
   "metadata": {},
   "outputs": [],
   "source": [
    "features_train, features_valid_test, target_train, target_valid_test = train_test_split(\n",
    "    features, target,\n",
    "    test_size=0.4,\n",
    "    random_state=12345\n",
    ")\n",
    "\n",
    "features_valid, features_test, target_valid, target_test = train_test_split(\n",
    "    features_valid_test,\n",
    "    target_valid_test,\n",
    "    test_size=0.5,\n",
    "    random_state=12345\n",
    ")"
   ]
  },
  {
   "cell_type": "markdown",
   "metadata": {},
   "source": [
    "Проверим размеры выборок:"
   ]
  },
  {
   "cell_type": "code",
   "execution_count": 22,
   "metadata": {},
   "outputs": [
    {
     "data": {
      "text/plain": [
       "(6000, 2000, 2000)"
      ]
     },
     "execution_count": 22,
     "metadata": {},
     "output_type": "execute_result"
    }
   ],
   "source": [
    "len(features_train), len(features_valid), len(features_test)"
   ]
  },
  {
   "cell_type": "code",
   "execution_count": 23,
   "metadata": {},
   "outputs": [
    {
     "data": {
      "text/plain": [
       "(6000, 2000, 2000)"
      ]
     },
     "execution_count": 23,
     "metadata": {},
     "output_type": "execute_result"
    }
   ],
   "source": [
    "len(target_train), len(target_valid), len(target_test)"
   ]
  },
  {
   "cell_type": "markdown",
   "metadata": {},
   "source": [
    "Все четко!"
   ]
  },
  {
   "cell_type": "markdown",
   "metadata": {},
   "source": [
    "## Исследование задачи"
   ]
  },
  {
   "cell_type": "markdown",
   "metadata": {},
   "source": [
    "### Исследование дисбаланса"
   ]
  },
  {
   "cell_type": "markdown",
   "metadata": {},
   "source": [
    "Посмотрим, как соотносятся количество людей, которые остались клиентами банка к тем, кто прекратил обслуживание."
   ]
  },
  {
   "cell_type": "code",
   "execution_count": 24,
   "metadata": {},
   "outputs": [
    {
     "data": {
      "text/plain": [
       "(0    7963\n",
       " 1    2037\n",
       " Name: exited, dtype: int64,\n",
       " 0.2037)"
      ]
     },
     "execution_count": 24,
     "metadata": {},
     "output_type": "execute_result"
    }
   ],
   "source": [
    "df_ohe['exited'].value_counts(), df['exited'].mean()"
   ]
  },
  {
   "cell_type": "markdown",
   "metadata": {},
   "source": [
    "Классы несбалансированы: перестали быть клиентами банка только 20% пользователей."
   ]
  },
  {
   "cell_type": "markdown",
   "metadata": {},
   "source": [
    "### Изучение моделей без учета дисбаланса"
   ]
  },
  {
   "cell_type": "markdown",
   "metadata": {},
   "source": [
    "Создадим датафрейм, в который будем записывать метрики качества валидационной выбороки для моделей классификации _'DecisionTree', 'RandomForest' и 'LogisticRegression'_ до и после борьбы с дисбалансом. В качестве метрик качества будем использовать _'recall'_, _'precision', 'F1-score'_."
   ]
  },
  {
   "cell_type": "code",
   "execution_count": 25,
   "metadata": {},
   "outputs": [
    {
     "data": {
      "text/html": [
       "<div>\n",
       "<style scoped>\n",
       "    .dataframe tbody tr th:only-of-type {\n",
       "        vertical-align: middle;\n",
       "    }\n",
       "\n",
       "    .dataframe tbody tr th {\n",
       "        vertical-align: top;\n",
       "    }\n",
       "\n",
       "    .dataframe thead th {\n",
       "        text-align: right;\n",
       "    }\n",
       "</style>\n",
       "<table border=\"1\" class=\"dataframe\">\n",
       "  <thead>\n",
       "    <tr style=\"text-align: right;\">\n",
       "      <th></th>\n",
       "      <th>recall_disbal</th>\n",
       "      <th>precision_disbal</th>\n",
       "      <th>f1_disbal</th>\n",
       "      <th>recall_bal</th>\n",
       "      <th>precision_bal</th>\n",
       "      <th>f1_bal</th>\n",
       "    </tr>\n",
       "  </thead>\n",
       "  <tbody>\n",
       "    <tr>\n",
       "      <th>DecisionTreeClassifier</th>\n",
       "      <td>NaN</td>\n",
       "      <td>NaN</td>\n",
       "      <td>NaN</td>\n",
       "      <td>NaN</td>\n",
       "      <td>NaN</td>\n",
       "      <td>NaN</td>\n",
       "    </tr>\n",
       "    <tr>\n",
       "      <th>RandomForestClassifier</th>\n",
       "      <td>NaN</td>\n",
       "      <td>NaN</td>\n",
       "      <td>NaN</td>\n",
       "      <td>NaN</td>\n",
       "      <td>NaN</td>\n",
       "      <td>NaN</td>\n",
       "    </tr>\n",
       "    <tr>\n",
       "      <th>LogisticRegression</th>\n",
       "      <td>NaN</td>\n",
       "      <td>NaN</td>\n",
       "      <td>NaN</td>\n",
       "      <td>NaN</td>\n",
       "      <td>NaN</td>\n",
       "      <td>NaN</td>\n",
       "    </tr>\n",
       "  </tbody>\n",
       "</table>\n",
       "</div>"
      ],
      "text/plain": [
       "                       recall_disbal precision_disbal f1_disbal recall_bal  \\\n",
       "DecisionTreeClassifier           NaN              NaN       NaN        NaN   \n",
       "RandomForestClassifier           NaN              NaN       NaN        NaN   \n",
       "LogisticRegression               NaN              NaN       NaN        NaN   \n",
       "\n",
       "                       precision_bal f1_bal  \n",
       "DecisionTreeClassifier           NaN    NaN  \n",
       "RandomForestClassifier           NaN    NaN  \n",
       "LogisticRegression               NaN    NaN  "
      ]
     },
     "execution_count": 25,
     "metadata": {},
     "output_type": "execute_result"
    }
   ],
   "source": [
    "result_valid = pd.DataFrame(index=['DecisionTreeClassifier', 'RandomForestClassifier', 'LogisticRegression'],\n",
    "                          columns=[\n",
    "                              'recall_disbal',\n",
    "                              'precision_disbal',\n",
    "                              'f1_disbal',\n",
    "                              'recall_bal',\n",
    "                              'precision_bal',\n",
    "                              'f1_bal',\n",
    "                                  ]\n",
    ")\n",
    "\n",
    "result_valid"
   ]
  },
  {
   "cell_type": "markdown",
   "metadata": {},
   "source": [
    "Проведем масштабирование данных. Это никак не повлияет на модели _'DecisionTreeClassifier'_, _'RandomForestClassifier'_, зато модели _'LogisticRegression'_ это необходимо."
   ]
  },
  {
   "cell_type": "code",
   "execution_count": 26,
   "metadata": {},
   "outputs": [],
   "source": [
    "sclr = StandardScaler()"
   ]
  },
  {
   "cell_type": "code",
   "execution_count": 27,
   "metadata": {},
   "outputs": [
    {
     "data": {
      "text/html": [
       "<style>#sk-container-id-1 {color: black;background-color: white;}#sk-container-id-1 pre{padding: 0;}#sk-container-id-1 div.sk-toggleable {background-color: white;}#sk-container-id-1 label.sk-toggleable__label {cursor: pointer;display: block;width: 100%;margin-bottom: 0;padding: 0.3em;box-sizing: border-box;text-align: center;}#sk-container-id-1 label.sk-toggleable__label-arrow:before {content: \"▸\";float: left;margin-right: 0.25em;color: #696969;}#sk-container-id-1 label.sk-toggleable__label-arrow:hover:before {color: black;}#sk-container-id-1 div.sk-estimator:hover label.sk-toggleable__label-arrow:before {color: black;}#sk-container-id-1 div.sk-toggleable__content {max-height: 0;max-width: 0;overflow: hidden;text-align: left;background-color: #f0f8ff;}#sk-container-id-1 div.sk-toggleable__content pre {margin: 0.2em;color: black;border-radius: 0.25em;background-color: #f0f8ff;}#sk-container-id-1 input.sk-toggleable__control:checked~div.sk-toggleable__content {max-height: 200px;max-width: 100%;overflow: auto;}#sk-container-id-1 input.sk-toggleable__control:checked~label.sk-toggleable__label-arrow:before {content: \"▾\";}#sk-container-id-1 div.sk-estimator input.sk-toggleable__control:checked~label.sk-toggleable__label {background-color: #d4ebff;}#sk-container-id-1 div.sk-label input.sk-toggleable__control:checked~label.sk-toggleable__label {background-color: #d4ebff;}#sk-container-id-1 input.sk-hidden--visually {border: 0;clip: rect(1px 1px 1px 1px);clip: rect(1px, 1px, 1px, 1px);height: 1px;margin: -1px;overflow: hidden;padding: 0;position: absolute;width: 1px;}#sk-container-id-1 div.sk-estimator {font-family: monospace;background-color: #f0f8ff;border: 1px dotted black;border-radius: 0.25em;box-sizing: border-box;margin-bottom: 0.5em;}#sk-container-id-1 div.sk-estimator:hover {background-color: #d4ebff;}#sk-container-id-1 div.sk-parallel-item::after {content: \"\";width: 100%;border-bottom: 1px solid gray;flex-grow: 1;}#sk-container-id-1 div.sk-label:hover label.sk-toggleable__label {background-color: #d4ebff;}#sk-container-id-1 div.sk-serial::before {content: \"\";position: absolute;border-left: 1px solid gray;box-sizing: border-box;top: 0;bottom: 0;left: 50%;z-index: 0;}#sk-container-id-1 div.sk-serial {display: flex;flex-direction: column;align-items: center;background-color: white;padding-right: 0.2em;padding-left: 0.2em;position: relative;}#sk-container-id-1 div.sk-item {position: relative;z-index: 1;}#sk-container-id-1 div.sk-parallel {display: flex;align-items: stretch;justify-content: center;background-color: white;position: relative;}#sk-container-id-1 div.sk-item::before, #sk-container-id-1 div.sk-parallel-item::before {content: \"\";position: absolute;border-left: 1px solid gray;box-sizing: border-box;top: 0;bottom: 0;left: 50%;z-index: -1;}#sk-container-id-1 div.sk-parallel-item {display: flex;flex-direction: column;z-index: 1;position: relative;background-color: white;}#sk-container-id-1 div.sk-parallel-item:first-child::after {align-self: flex-end;width: 50%;}#sk-container-id-1 div.sk-parallel-item:last-child::after {align-self: flex-start;width: 50%;}#sk-container-id-1 div.sk-parallel-item:only-child::after {width: 0;}#sk-container-id-1 div.sk-dashed-wrapped {border: 1px dashed gray;margin: 0 0.4em 0.5em 0.4em;box-sizing: border-box;padding-bottom: 0.4em;background-color: white;}#sk-container-id-1 div.sk-label label {font-family: monospace;font-weight: bold;display: inline-block;line-height: 1.2em;}#sk-container-id-1 div.sk-label-container {text-align: center;}#sk-container-id-1 div.sk-container {/* jupyter's `normalize.less` sets `[hidden] { display: none; }` but bootstrap.min.css set `[hidden] { display: none !important; }` so we also need the `!important` here to be able to override the default hidden behavior on the sphinx rendered scikit-learn.org. See: https://github.com/scikit-learn/scikit-learn/issues/21755 */display: inline-block !important;position: relative;}#sk-container-id-1 div.sk-text-repr-fallback {display: none;}</style><div id=\"sk-container-id-1\" class=\"sk-top-container\"><div class=\"sk-text-repr-fallback\"><pre>StandardScaler()</pre><b>In a Jupyter environment, please rerun this cell to show the HTML representation or trust the notebook. <br />On GitHub, the HTML representation is unable to render, please try loading this page with nbviewer.org.</b></div><div class=\"sk-container\" hidden><div class=\"sk-item\"><div class=\"sk-estimator sk-toggleable\"><input class=\"sk-toggleable__control sk-hidden--visually\" id=\"sk-estimator-id-1\" type=\"checkbox\" checked><label for=\"sk-estimator-id-1\" class=\"sk-toggleable__label sk-toggleable__label-arrow\">StandardScaler</label><div class=\"sk-toggleable__content\"><pre>StandardScaler()</pre></div></div></div></div></div>"
      ],
      "text/plain": [
       "StandardScaler()"
      ]
     },
     "execution_count": 27,
     "metadata": {},
     "output_type": "execute_result"
    }
   ],
   "source": [
    "sclr.fit(features_train)"
   ]
  },
  {
   "cell_type": "code",
   "execution_count": 28,
   "metadata": {},
   "outputs": [
    {
     "data": {
      "text/html": [
       "<div>\n",
       "<style scoped>\n",
       "    .dataframe tbody tr th:only-of-type {\n",
       "        vertical-align: middle;\n",
       "    }\n",
       "\n",
       "    .dataframe tbody tr th {\n",
       "        vertical-align: top;\n",
       "    }\n",
       "\n",
       "    .dataframe thead th {\n",
       "        text-align: right;\n",
       "    }\n",
       "</style>\n",
       "<table border=\"1\" class=\"dataframe\">\n",
       "  <thead>\n",
       "    <tr style=\"text-align: right;\">\n",
       "      <th></th>\n",
       "      <th>credit_score</th>\n",
       "      <th>age</th>\n",
       "      <th>tenure</th>\n",
       "      <th>balance</th>\n",
       "      <th>num_of_products</th>\n",
       "      <th>has_cr_card</th>\n",
       "      <th>is_active_member</th>\n",
       "      <th>estimated_salary</th>\n",
       "      <th>Female</th>\n",
       "      <th>Male</th>\n",
       "      <th>France</th>\n",
       "      <th>Germany</th>\n",
       "      <th>Spain</th>\n",
       "    </tr>\n",
       "  </thead>\n",
       "  <tbody>\n",
       "    <tr>\n",
       "      <th>7479</th>\n",
       "      <td>-0.886751</td>\n",
       "      <td>-0.373192</td>\n",
       "      <td>1.584875</td>\n",
       "      <td>1.232271</td>\n",
       "      <td>-0.891560</td>\n",
       "      <td>0.642466</td>\n",
       "      <td>-1.055187</td>\n",
       "      <td>-0.187705</td>\n",
       "      <td>-0.907278</td>\n",
       "      <td>0.907278</td>\n",
       "      <td>-1.005013</td>\n",
       "      <td>-0.572475</td>\n",
       "      <td>1.728977</td>\n",
       "    </tr>\n",
       "    <tr>\n",
       "      <th>3411</th>\n",
       "      <td>0.608663</td>\n",
       "      <td>-0.183385</td>\n",
       "      <td>0.326871</td>\n",
       "      <td>0.600563</td>\n",
       "      <td>-0.891560</td>\n",
       "      <td>-1.556504</td>\n",
       "      <td>-1.055187</td>\n",
       "      <td>-0.333945</td>\n",
       "      <td>1.102198</td>\n",
       "      <td>-1.102198</td>\n",
       "      <td>0.995012</td>\n",
       "      <td>-0.572475</td>\n",
       "      <td>-0.578377</td>\n",
       "    </tr>\n",
       "    <tr>\n",
       "      <th>6027</th>\n",
       "      <td>2.052152</td>\n",
       "      <td>0.480939</td>\n",
       "      <td>-0.302131</td>\n",
       "      <td>1.027098</td>\n",
       "      <td>0.830152</td>\n",
       "      <td>-1.556504</td>\n",
       "      <td>0.947699</td>\n",
       "      <td>1.503095</td>\n",
       "      <td>-0.907278</td>\n",
       "      <td>0.907278</td>\n",
       "      <td>-1.005013</td>\n",
       "      <td>1.746802</td>\n",
       "      <td>-0.578377</td>\n",
       "    </tr>\n",
       "    <tr>\n",
       "      <th>1247</th>\n",
       "      <td>-1.457915</td>\n",
       "      <td>-1.417129</td>\n",
       "      <td>0.012370</td>\n",
       "      <td>-1.233163</td>\n",
       "      <td>0.830152</td>\n",
       "      <td>0.642466</td>\n",
       "      <td>-1.055187</td>\n",
       "      <td>-1.071061</td>\n",
       "      <td>-0.907278</td>\n",
       "      <td>0.907278</td>\n",
       "      <td>0.995012</td>\n",
       "      <td>-0.572475</td>\n",
       "      <td>-0.578377</td>\n",
       "    </tr>\n",
       "    <tr>\n",
       "      <th>3716</th>\n",
       "      <td>0.130961</td>\n",
       "      <td>-1.132419</td>\n",
       "      <td>0.641372</td>\n",
       "      <td>1.140475</td>\n",
       "      <td>-0.891560</td>\n",
       "      <td>-1.556504</td>\n",
       "      <td>-1.055187</td>\n",
       "      <td>1.524268</td>\n",
       "      <td>1.102198</td>\n",
       "      <td>-1.102198</td>\n",
       "      <td>-1.005013</td>\n",
       "      <td>1.746802</td>\n",
       "      <td>-0.578377</td>\n",
       "    </tr>\n",
       "    <tr>\n",
       "      <th>...</th>\n",
       "      <td>...</td>\n",
       "      <td>...</td>\n",
       "      <td>...</td>\n",
       "      <td>...</td>\n",
       "      <td>...</td>\n",
       "      <td>...</td>\n",
       "      <td>...</td>\n",
       "      <td>...</td>\n",
       "      <td>...</td>\n",
       "      <td>...</td>\n",
       "      <td>...</td>\n",
       "      <td>...</td>\n",
       "      <td>...</td>\n",
       "    </tr>\n",
       "    <tr>\n",
       "      <th>4478</th>\n",
       "      <td>-1.073677</td>\n",
       "      <td>-0.752805</td>\n",
       "      <td>-0.302131</td>\n",
       "      <td>-1.233163</td>\n",
       "      <td>0.830152</td>\n",
       "      <td>-1.556504</td>\n",
       "      <td>0.947699</td>\n",
       "      <td>-1.278361</td>\n",
       "      <td>-0.907278</td>\n",
       "      <td>0.907278</td>\n",
       "      <td>0.995012</td>\n",
       "      <td>-0.572475</td>\n",
       "      <td>-0.578377</td>\n",
       "    </tr>\n",
       "    <tr>\n",
       "      <th>4094</th>\n",
       "      <td>-1.447531</td>\n",
       "      <td>-0.942612</td>\n",
       "      <td>-0.616631</td>\n",
       "      <td>-1.233163</td>\n",
       "      <td>0.830152</td>\n",
       "      <td>-1.556504</td>\n",
       "      <td>0.947699</td>\n",
       "      <td>-1.281307</td>\n",
       "      <td>-0.907278</td>\n",
       "      <td>0.907278</td>\n",
       "      <td>0.995012</td>\n",
       "      <td>-0.572475</td>\n",
       "      <td>-0.578377</td>\n",
       "    </tr>\n",
       "    <tr>\n",
       "      <th>3492</th>\n",
       "      <td>0.027113</td>\n",
       "      <td>0.575842</td>\n",
       "      <td>-1.560134</td>\n",
       "      <td>-0.310229</td>\n",
       "      <td>-0.891560</td>\n",
       "      <td>-1.556504</td>\n",
       "      <td>0.947699</td>\n",
       "      <td>-0.903158</td>\n",
       "      <td>1.102198</td>\n",
       "      <td>-1.102198</td>\n",
       "      <td>0.995012</td>\n",
       "      <td>-0.572475</td>\n",
       "      <td>-0.578377</td>\n",
       "    </tr>\n",
       "    <tr>\n",
       "      <th>2177</th>\n",
       "      <td>0.151731</td>\n",
       "      <td>-1.417129</td>\n",
       "      <td>-0.616631</td>\n",
       "      <td>-1.233163</td>\n",
       "      <td>0.830152</td>\n",
       "      <td>-1.556504</td>\n",
       "      <td>0.947699</td>\n",
       "      <td>-1.128539</td>\n",
       "      <td>1.102198</td>\n",
       "      <td>-1.102198</td>\n",
       "      <td>0.995012</td>\n",
       "      <td>-0.572475</td>\n",
       "      <td>-0.578377</td>\n",
       "    </tr>\n",
       "    <tr>\n",
       "      <th>4578</th>\n",
       "      <td>0.400966</td>\n",
       "      <td>-0.088482</td>\n",
       "      <td>-1.245633</td>\n",
       "      <td>-1.233163</td>\n",
       "      <td>0.830152</td>\n",
       "      <td>-1.556504</td>\n",
       "      <td>-1.055187</td>\n",
       "      <td>-0.949841</td>\n",
       "      <td>-0.907278</td>\n",
       "      <td>0.907278</td>\n",
       "      <td>0.995012</td>\n",
       "      <td>-0.572475</td>\n",
       "      <td>-0.578377</td>\n",
       "    </tr>\n",
       "  </tbody>\n",
       "</table>\n",
       "<p>6000 rows × 13 columns</p>\n",
       "</div>"
      ],
      "text/plain": [
       "      credit_score       age    tenure   balance  num_of_products  \\\n",
       "7479     -0.886751 -0.373192  1.584875  1.232271        -0.891560   \n",
       "3411      0.608663 -0.183385  0.326871  0.600563        -0.891560   \n",
       "6027      2.052152  0.480939 -0.302131  1.027098         0.830152   \n",
       "1247     -1.457915 -1.417129  0.012370 -1.233163         0.830152   \n",
       "3716      0.130961 -1.132419  0.641372  1.140475        -0.891560   \n",
       "...            ...       ...       ...       ...              ...   \n",
       "4478     -1.073677 -0.752805 -0.302131 -1.233163         0.830152   \n",
       "4094     -1.447531 -0.942612 -0.616631 -1.233163         0.830152   \n",
       "3492      0.027113  0.575842 -1.560134 -0.310229        -0.891560   \n",
       "2177      0.151731 -1.417129 -0.616631 -1.233163         0.830152   \n",
       "4578      0.400966 -0.088482 -1.245633 -1.233163         0.830152   \n",
       "\n",
       "      has_cr_card  is_active_member  estimated_salary    Female      Male  \\\n",
       "7479     0.642466         -1.055187         -0.187705 -0.907278  0.907278   \n",
       "3411    -1.556504         -1.055187         -0.333945  1.102198 -1.102198   \n",
       "6027    -1.556504          0.947699          1.503095 -0.907278  0.907278   \n",
       "1247     0.642466         -1.055187         -1.071061 -0.907278  0.907278   \n",
       "3716    -1.556504         -1.055187          1.524268  1.102198 -1.102198   \n",
       "...           ...               ...               ...       ...       ...   \n",
       "4478    -1.556504          0.947699         -1.278361 -0.907278  0.907278   \n",
       "4094    -1.556504          0.947699         -1.281307 -0.907278  0.907278   \n",
       "3492    -1.556504          0.947699         -0.903158  1.102198 -1.102198   \n",
       "2177    -1.556504          0.947699         -1.128539  1.102198 -1.102198   \n",
       "4578    -1.556504         -1.055187         -0.949841 -0.907278  0.907278   \n",
       "\n",
       "        France   Germany     Spain  \n",
       "7479 -1.005013 -0.572475  1.728977  \n",
       "3411  0.995012 -0.572475 -0.578377  \n",
       "6027 -1.005013  1.746802 -0.578377  \n",
       "1247  0.995012 -0.572475 -0.578377  \n",
       "3716 -1.005013  1.746802 -0.578377  \n",
       "...        ...       ...       ...  \n",
       "4478  0.995012 -0.572475 -0.578377  \n",
       "4094  0.995012 -0.572475 -0.578377  \n",
       "3492  0.995012 -0.572475 -0.578377  \n",
       "2177  0.995012 -0.572475 -0.578377  \n",
       "4578  0.995012 -0.572475 -0.578377  \n",
       "\n",
       "[6000 rows x 13 columns]"
      ]
     },
     "execution_count": 28,
     "metadata": {},
     "output_type": "execute_result"
    }
   ],
   "source": [
    "features_train_scale = pd.DataFrame(\n",
    "    sclr.transform(features_train),\n",
    "    columns=features_train.columns,\n",
    "    index=features_train.index\n",
    ")\n",
    "\n",
    "features_train_scale"
   ]
  },
  {
   "cell_type": "code",
   "execution_count": 29,
   "metadata": {},
   "outputs": [
    {
     "data": {
      "text/html": [
       "<div>\n",
       "<style scoped>\n",
       "    .dataframe tbody tr th:only-of-type {\n",
       "        vertical-align: middle;\n",
       "    }\n",
       "\n",
       "    .dataframe tbody tr th {\n",
       "        vertical-align: top;\n",
       "    }\n",
       "\n",
       "    .dataframe thead th {\n",
       "        text-align: right;\n",
       "    }\n",
       "</style>\n",
       "<table border=\"1\" class=\"dataframe\">\n",
       "  <thead>\n",
       "    <tr style=\"text-align: right;\">\n",
       "      <th></th>\n",
       "      <th>credit_score</th>\n",
       "      <th>age</th>\n",
       "      <th>tenure</th>\n",
       "      <th>balance</th>\n",
       "      <th>num_of_products</th>\n",
       "      <th>has_cr_card</th>\n",
       "      <th>is_active_member</th>\n",
       "      <th>estimated_salary</th>\n",
       "      <th>Female</th>\n",
       "      <th>Male</th>\n",
       "      <th>France</th>\n",
       "      <th>Germany</th>\n",
       "      <th>Spain</th>\n",
       "    </tr>\n",
       "  </thead>\n",
       "  <tbody>\n",
       "    <tr>\n",
       "      <th>8532</th>\n",
       "      <td>-0.699824</td>\n",
       "      <td>-0.373192</td>\n",
       "      <td>1.270374</td>\n",
       "      <td>-1.233163</td>\n",
       "      <td>0.830152</td>\n",
       "      <td>0.642466</td>\n",
       "      <td>-1.055187</td>\n",
       "      <td>-0.015173</td>\n",
       "      <td>1.102198</td>\n",
       "      <td>-1.102198</td>\n",
       "      <td>0.995012</td>\n",
       "      <td>-0.572475</td>\n",
       "      <td>-0.578377</td>\n",
       "    </tr>\n",
       "    <tr>\n",
       "      <th>5799</th>\n",
       "      <td>-0.284431</td>\n",
       "      <td>0.575842</td>\n",
       "      <td>1.584875</td>\n",
       "      <td>-1.233163</td>\n",
       "      <td>-0.891560</td>\n",
       "      <td>0.642466</td>\n",
       "      <td>0.947699</td>\n",
       "      <td>1.471724</td>\n",
       "      <td>1.102198</td>\n",
       "      <td>-1.102198</td>\n",
       "      <td>0.995012</td>\n",
       "      <td>-0.572475</td>\n",
       "      <td>-0.578377</td>\n",
       "    </tr>\n",
       "    <tr>\n",
       "      <th>5511</th>\n",
       "      <td>0.151731</td>\n",
       "      <td>-0.657902</td>\n",
       "      <td>1.584875</td>\n",
       "      <td>0.438711</td>\n",
       "      <td>-0.891560</td>\n",
       "      <td>0.642466</td>\n",
       "      <td>-1.055187</td>\n",
       "      <td>-1.367107</td>\n",
       "      <td>-0.907278</td>\n",
       "      <td>0.907278</td>\n",
       "      <td>-1.005013</td>\n",
       "      <td>1.746802</td>\n",
       "      <td>-0.578377</td>\n",
       "    </tr>\n",
       "    <tr>\n",
       "      <th>7365</th>\n",
       "      <td>-0.876366</td>\n",
       "      <td>-0.278288</td>\n",
       "      <td>0.641372</td>\n",
       "      <td>1.239884</td>\n",
       "      <td>-0.891560</td>\n",
       "      <td>0.642466</td>\n",
       "      <td>0.947699</td>\n",
       "      <td>-0.786517</td>\n",
       "      <td>1.102198</td>\n",
       "      <td>-1.102198</td>\n",
       "      <td>-1.005013</td>\n",
       "      <td>-0.572475</td>\n",
       "      <td>1.728977</td>\n",
       "    </tr>\n",
       "    <tr>\n",
       "      <th>7367</th>\n",
       "      <td>-0.481743</td>\n",
       "      <td>0.291132</td>\n",
       "      <td>0.641372</td>\n",
       "      <td>-1.233163</td>\n",
       "      <td>0.830152</td>\n",
       "      <td>0.642466</td>\n",
       "      <td>-1.055187</td>\n",
       "      <td>1.358533</td>\n",
       "      <td>-0.907278</td>\n",
       "      <td>0.907278</td>\n",
       "      <td>-1.005013</td>\n",
       "      <td>-0.572475</td>\n",
       "      <td>1.728977</td>\n",
       "    </tr>\n",
       "    <tr>\n",
       "      <th>...</th>\n",
       "      <td>...</td>\n",
       "      <td>...</td>\n",
       "      <td>...</td>\n",
       "      <td>...</td>\n",
       "      <td>...</td>\n",
       "      <td>...</td>\n",
       "      <td>...</td>\n",
       "      <td>...</td>\n",
       "      <td>...</td>\n",
       "      <td>...</td>\n",
       "      <td>...</td>\n",
       "      <td>...</td>\n",
       "      <td>...</td>\n",
       "    </tr>\n",
       "    <tr>\n",
       "      <th>6480</th>\n",
       "      <td>0.276349</td>\n",
       "      <td>-1.417129</td>\n",
       "      <td>-0.616631</td>\n",
       "      <td>0.617449</td>\n",
       "      <td>0.830152</td>\n",
       "      <td>-1.556504</td>\n",
       "      <td>0.947699</td>\n",
       "      <td>0.628182</td>\n",
       "      <td>1.102198</td>\n",
       "      <td>-1.102198</td>\n",
       "      <td>0.995012</td>\n",
       "      <td>-0.572475</td>\n",
       "      <td>-0.578377</td>\n",
       "    </tr>\n",
       "    <tr>\n",
       "      <th>8194</th>\n",
       "      <td>-0.211738</td>\n",
       "      <td>0.291132</td>\n",
       "      <td>-1.560134</td>\n",
       "      <td>0.797229</td>\n",
       "      <td>-0.891560</td>\n",
       "      <td>0.642466</td>\n",
       "      <td>-1.055187</td>\n",
       "      <td>0.026002</td>\n",
       "      <td>-0.907278</td>\n",
       "      <td>0.907278</td>\n",
       "      <td>0.995012</td>\n",
       "      <td>-0.572475</td>\n",
       "      <td>-0.578377</td>\n",
       "    </tr>\n",
       "    <tr>\n",
       "      <th>1279</th>\n",
       "      <td>-1.364452</td>\n",
       "      <td>0.006422</td>\n",
       "      <td>-0.302131</td>\n",
       "      <td>-1.233163</td>\n",
       "      <td>0.830152</td>\n",
       "      <td>-1.556504</td>\n",
       "      <td>0.947699</td>\n",
       "      <td>-1.249087</td>\n",
       "      <td>1.102198</td>\n",
       "      <td>-1.102198</td>\n",
       "      <td>0.995012</td>\n",
       "      <td>-0.572475</td>\n",
       "      <td>-0.578377</td>\n",
       "    </tr>\n",
       "    <tr>\n",
       "      <th>6532</th>\n",
       "      <td>1.075979</td>\n",
       "      <td>2.663716</td>\n",
       "      <td>0.641372</td>\n",
       "      <td>-1.233163</td>\n",
       "      <td>2.551864</td>\n",
       "      <td>0.642466</td>\n",
       "      <td>0.947699</td>\n",
       "      <td>-0.111107</td>\n",
       "      <td>-0.907278</td>\n",
       "      <td>0.907278</td>\n",
       "      <td>0.995012</td>\n",
       "      <td>-0.572475</td>\n",
       "      <td>-0.578377</td>\n",
       "    </tr>\n",
       "    <tr>\n",
       "      <th>6895</th>\n",
       "      <td>-0.440204</td>\n",
       "      <td>0.955455</td>\n",
       "      <td>-1.560134</td>\n",
       "      <td>0.600280</td>\n",
       "      <td>-0.891560</td>\n",
       "      <td>0.642466</td>\n",
       "      <td>-1.055187</td>\n",
       "      <td>1.668116</td>\n",
       "      <td>-0.907278</td>\n",
       "      <td>0.907278</td>\n",
       "      <td>-1.005013</td>\n",
       "      <td>1.746802</td>\n",
       "      <td>-0.578377</td>\n",
       "    </tr>\n",
       "  </tbody>\n",
       "</table>\n",
       "<p>2000 rows × 13 columns</p>\n",
       "</div>"
      ],
      "text/plain": [
       "      credit_score       age    tenure   balance  num_of_products  \\\n",
       "8532     -0.699824 -0.373192  1.270374 -1.233163         0.830152   \n",
       "5799     -0.284431  0.575842  1.584875 -1.233163        -0.891560   \n",
       "5511      0.151731 -0.657902  1.584875  0.438711        -0.891560   \n",
       "7365     -0.876366 -0.278288  0.641372  1.239884        -0.891560   \n",
       "7367     -0.481743  0.291132  0.641372 -1.233163         0.830152   \n",
       "...            ...       ...       ...       ...              ...   \n",
       "6480      0.276349 -1.417129 -0.616631  0.617449         0.830152   \n",
       "8194     -0.211738  0.291132 -1.560134  0.797229        -0.891560   \n",
       "1279     -1.364452  0.006422 -0.302131 -1.233163         0.830152   \n",
       "6532      1.075979  2.663716  0.641372 -1.233163         2.551864   \n",
       "6895     -0.440204  0.955455 -1.560134  0.600280        -0.891560   \n",
       "\n",
       "      has_cr_card  is_active_member  estimated_salary    Female      Male  \\\n",
       "8532     0.642466         -1.055187         -0.015173  1.102198 -1.102198   \n",
       "5799     0.642466          0.947699          1.471724  1.102198 -1.102198   \n",
       "5511     0.642466         -1.055187         -1.367107 -0.907278  0.907278   \n",
       "7365     0.642466          0.947699         -0.786517  1.102198 -1.102198   \n",
       "7367     0.642466         -1.055187          1.358533 -0.907278  0.907278   \n",
       "...           ...               ...               ...       ...       ...   \n",
       "6480    -1.556504          0.947699          0.628182  1.102198 -1.102198   \n",
       "8194     0.642466         -1.055187          0.026002 -0.907278  0.907278   \n",
       "1279    -1.556504          0.947699         -1.249087  1.102198 -1.102198   \n",
       "6532     0.642466          0.947699         -0.111107 -0.907278  0.907278   \n",
       "6895     0.642466         -1.055187          1.668116 -0.907278  0.907278   \n",
       "\n",
       "        France   Germany     Spain  \n",
       "8532  0.995012 -0.572475 -0.578377  \n",
       "5799  0.995012 -0.572475 -0.578377  \n",
       "5511 -1.005013  1.746802 -0.578377  \n",
       "7365 -1.005013 -0.572475  1.728977  \n",
       "7367 -1.005013 -0.572475  1.728977  \n",
       "...        ...       ...       ...  \n",
       "6480  0.995012 -0.572475 -0.578377  \n",
       "8194  0.995012 -0.572475 -0.578377  \n",
       "1279  0.995012 -0.572475 -0.578377  \n",
       "6532  0.995012 -0.572475 -0.578377  \n",
       "6895 -1.005013  1.746802 -0.578377  \n",
       "\n",
       "[2000 rows x 13 columns]"
      ]
     },
     "execution_count": 29,
     "metadata": {},
     "output_type": "execute_result"
    }
   ],
   "source": [
    "features_valid_scale = pd.DataFrame(\n",
    "    sclr.transform(features_valid),\n",
    "    columns=features_valid.columns,\n",
    "    index=features_valid.index\n",
    ")\n",
    "\n",
    "features_valid_scale"
   ]
  },
  {
   "cell_type": "code",
   "execution_count": 30,
   "metadata": {},
   "outputs": [
    {
     "data": {
      "text/html": [
       "<div>\n",
       "<style scoped>\n",
       "    .dataframe tbody tr th:only-of-type {\n",
       "        vertical-align: middle;\n",
       "    }\n",
       "\n",
       "    .dataframe tbody tr th {\n",
       "        vertical-align: top;\n",
       "    }\n",
       "\n",
       "    .dataframe thead th {\n",
       "        text-align: right;\n",
       "    }\n",
       "</style>\n",
       "<table border=\"1\" class=\"dataframe\">\n",
       "  <thead>\n",
       "    <tr style=\"text-align: right;\">\n",
       "      <th></th>\n",
       "      <th>credit_score</th>\n",
       "      <th>age</th>\n",
       "      <th>tenure</th>\n",
       "      <th>balance</th>\n",
       "      <th>num_of_products</th>\n",
       "      <th>has_cr_card</th>\n",
       "      <th>is_active_member</th>\n",
       "      <th>estimated_salary</th>\n",
       "      <th>Female</th>\n",
       "      <th>Male</th>\n",
       "      <th>France</th>\n",
       "      <th>Germany</th>\n",
       "      <th>Spain</th>\n",
       "    </tr>\n",
       "  </thead>\n",
       "  <tbody>\n",
       "    <tr>\n",
       "      <th>7041</th>\n",
       "      <td>-2.226392</td>\n",
       "      <td>-0.088482</td>\n",
       "      <td>1.584875</td>\n",
       "      <td>-1.233163</td>\n",
       "      <td>0.830152</td>\n",
       "      <td>0.642466</td>\n",
       "      <td>-1.055187</td>\n",
       "      <td>0.647083</td>\n",
       "      <td>-0.907278</td>\n",
       "      <td>0.907278</td>\n",
       "      <td>0.995012</td>\n",
       "      <td>-0.572475</td>\n",
       "      <td>-0.578377</td>\n",
       "    </tr>\n",
       "    <tr>\n",
       "      <th>5709</th>\n",
       "      <td>-0.087120</td>\n",
       "      <td>0.006422</td>\n",
       "      <td>1.270374</td>\n",
       "      <td>-1.233163</td>\n",
       "      <td>-0.891560</td>\n",
       "      <td>0.642466</td>\n",
       "      <td>-1.055187</td>\n",
       "      <td>-1.658410</td>\n",
       "      <td>1.102198</td>\n",
       "      <td>-1.102198</td>\n",
       "      <td>0.995012</td>\n",
       "      <td>-0.572475</td>\n",
       "      <td>-0.578377</td>\n",
       "    </tr>\n",
       "    <tr>\n",
       "      <th>7117</th>\n",
       "      <td>-0.917905</td>\n",
       "      <td>-0.752805</td>\n",
       "      <td>0.012370</td>\n",
       "      <td>0.722307</td>\n",
       "      <td>-0.891560</td>\n",
       "      <td>0.642466</td>\n",
       "      <td>0.947699</td>\n",
       "      <td>-1.369334</td>\n",
       "      <td>-0.907278</td>\n",
       "      <td>0.907278</td>\n",
       "      <td>-1.005013</td>\n",
       "      <td>-0.572475</td>\n",
       "      <td>1.728977</td>\n",
       "    </tr>\n",
       "    <tr>\n",
       "      <th>7775</th>\n",
       "      <td>-0.253277</td>\n",
       "      <td>0.101325</td>\n",
       "      <td>-0.931132</td>\n",
       "      <td>-1.233163</td>\n",
       "      <td>0.830152</td>\n",
       "      <td>0.642466</td>\n",
       "      <td>-1.055187</td>\n",
       "      <td>0.075086</td>\n",
       "      <td>-0.907278</td>\n",
       "      <td>0.907278</td>\n",
       "      <td>-1.005013</td>\n",
       "      <td>-0.572475</td>\n",
       "      <td>1.728977</td>\n",
       "    </tr>\n",
       "    <tr>\n",
       "      <th>8735</th>\n",
       "      <td>0.785204</td>\n",
       "      <td>-0.847708</td>\n",
       "      <td>-1.245633</td>\n",
       "      <td>0.615625</td>\n",
       "      <td>-0.891560</td>\n",
       "      <td>-1.556504</td>\n",
       "      <td>0.947699</td>\n",
       "      <td>-1.070919</td>\n",
       "      <td>-0.907278</td>\n",
       "      <td>0.907278</td>\n",
       "      <td>0.995012</td>\n",
       "      <td>-0.572475</td>\n",
       "      <td>-0.578377</td>\n",
       "    </tr>\n",
       "    <tr>\n",
       "      <th>...</th>\n",
       "      <td>...</td>\n",
       "      <td>...</td>\n",
       "      <td>...</td>\n",
       "      <td>...</td>\n",
       "      <td>...</td>\n",
       "      <td>...</td>\n",
       "      <td>...</td>\n",
       "      <td>...</td>\n",
       "      <td>...</td>\n",
       "      <td>...</td>\n",
       "      <td>...</td>\n",
       "      <td>...</td>\n",
       "      <td>...</td>\n",
       "    </tr>\n",
       "    <tr>\n",
       "      <th>9335</th>\n",
       "      <td>0.878668</td>\n",
       "      <td>1.050359</td>\n",
       "      <td>-0.302131</td>\n",
       "      <td>0.820368</td>\n",
       "      <td>0.830152</td>\n",
       "      <td>0.642466</td>\n",
       "      <td>-1.055187</td>\n",
       "      <td>-1.650024</td>\n",
       "      <td>-0.907278</td>\n",
       "      <td>0.907278</td>\n",
       "      <td>-1.005013</td>\n",
       "      <td>1.746802</td>\n",
       "      <td>-0.578377</td>\n",
       "    </tr>\n",
       "    <tr>\n",
       "      <th>7999</th>\n",
       "      <td>1.802916</td>\n",
       "      <td>-1.227322</td>\n",
       "      <td>0.326871</td>\n",
       "      <td>1.063628</td>\n",
       "      <td>-0.891560</td>\n",
       "      <td>-1.556504</td>\n",
       "      <td>-1.055187</td>\n",
       "      <td>-0.679113</td>\n",
       "      <td>-0.907278</td>\n",
       "      <td>0.907278</td>\n",
       "      <td>0.995012</td>\n",
       "      <td>-0.572475</td>\n",
       "      <td>-0.578377</td>\n",
       "    </tr>\n",
       "    <tr>\n",
       "      <th>6139</th>\n",
       "      <td>-0.004041</td>\n",
       "      <td>-0.183385</td>\n",
       "      <td>-1.560134</td>\n",
       "      <td>-1.233163</td>\n",
       "      <td>0.830152</td>\n",
       "      <td>0.642466</td>\n",
       "      <td>-1.055187</td>\n",
       "      <td>0.760240</td>\n",
       "      <td>1.102198</td>\n",
       "      <td>-1.102198</td>\n",
       "      <td>0.995012</td>\n",
       "      <td>-0.572475</td>\n",
       "      <td>-0.578377</td>\n",
       "    </tr>\n",
       "    <tr>\n",
       "      <th>9473</th>\n",
       "      <td>-0.460973</td>\n",
       "      <td>0.575842</td>\n",
       "      <td>0.012370</td>\n",
       "      <td>-1.233163</td>\n",
       "      <td>0.830152</td>\n",
       "      <td>-1.556504</td>\n",
       "      <td>-1.055187</td>\n",
       "      <td>-1.087632</td>\n",
       "      <td>-0.907278</td>\n",
       "      <td>0.907278</td>\n",
       "      <td>-1.005013</td>\n",
       "      <td>-0.572475</td>\n",
       "      <td>1.728977</td>\n",
       "    </tr>\n",
       "    <tr>\n",
       "      <th>3366</th>\n",
       "      <td>-0.128659</td>\n",
       "      <td>3.328040</td>\n",
       "      <td>1.270374</td>\n",
       "      <td>0.647257</td>\n",
       "      <td>-0.891560</td>\n",
       "      <td>0.642466</td>\n",
       "      <td>0.947699</td>\n",
       "      <td>-1.132091</td>\n",
       "      <td>1.102198</td>\n",
       "      <td>-1.102198</td>\n",
       "      <td>-1.005013</td>\n",
       "      <td>1.746802</td>\n",
       "      <td>-0.578377</td>\n",
       "    </tr>\n",
       "  </tbody>\n",
       "</table>\n",
       "<p>2000 rows × 13 columns</p>\n",
       "</div>"
      ],
      "text/plain": [
       "      credit_score       age    tenure   balance  num_of_products  \\\n",
       "7041     -2.226392 -0.088482  1.584875 -1.233163         0.830152   \n",
       "5709     -0.087120  0.006422  1.270374 -1.233163        -0.891560   \n",
       "7117     -0.917905 -0.752805  0.012370  0.722307        -0.891560   \n",
       "7775     -0.253277  0.101325 -0.931132 -1.233163         0.830152   \n",
       "8735      0.785204 -0.847708 -1.245633  0.615625        -0.891560   \n",
       "...            ...       ...       ...       ...              ...   \n",
       "9335      0.878668  1.050359 -0.302131  0.820368         0.830152   \n",
       "7999      1.802916 -1.227322  0.326871  1.063628        -0.891560   \n",
       "6139     -0.004041 -0.183385 -1.560134 -1.233163         0.830152   \n",
       "9473     -0.460973  0.575842  0.012370 -1.233163         0.830152   \n",
       "3366     -0.128659  3.328040  1.270374  0.647257        -0.891560   \n",
       "\n",
       "      has_cr_card  is_active_member  estimated_salary    Female      Male  \\\n",
       "7041     0.642466         -1.055187          0.647083 -0.907278  0.907278   \n",
       "5709     0.642466         -1.055187         -1.658410  1.102198 -1.102198   \n",
       "7117     0.642466          0.947699         -1.369334 -0.907278  0.907278   \n",
       "7775     0.642466         -1.055187          0.075086 -0.907278  0.907278   \n",
       "8735    -1.556504          0.947699         -1.070919 -0.907278  0.907278   \n",
       "...           ...               ...               ...       ...       ...   \n",
       "9335     0.642466         -1.055187         -1.650024 -0.907278  0.907278   \n",
       "7999    -1.556504         -1.055187         -0.679113 -0.907278  0.907278   \n",
       "6139     0.642466         -1.055187          0.760240  1.102198 -1.102198   \n",
       "9473    -1.556504         -1.055187         -1.087632 -0.907278  0.907278   \n",
       "3366     0.642466          0.947699         -1.132091  1.102198 -1.102198   \n",
       "\n",
       "        France   Germany     Spain  \n",
       "7041  0.995012 -0.572475 -0.578377  \n",
       "5709  0.995012 -0.572475 -0.578377  \n",
       "7117 -1.005013 -0.572475  1.728977  \n",
       "7775 -1.005013 -0.572475  1.728977  \n",
       "8735  0.995012 -0.572475 -0.578377  \n",
       "...        ...       ...       ...  \n",
       "9335 -1.005013  1.746802 -0.578377  \n",
       "7999  0.995012 -0.572475 -0.578377  \n",
       "6139  0.995012 -0.572475 -0.578377  \n",
       "9473 -1.005013 -0.572475  1.728977  \n",
       "3366 -1.005013  1.746802 -0.578377  \n",
       "\n",
       "[2000 rows x 13 columns]"
      ]
     },
     "execution_count": 30,
     "metadata": {},
     "output_type": "execute_result"
    }
   ],
   "source": [
    "features_test_scale = pd.DataFrame(\n",
    "    sclr.transform(features_test),\n",
    "    columns=features_test.columns,\n",
    "    index=features_test.index\n",
    ")\n",
    "\n",
    "features_test_scale"
   ]
  },
  {
   "cell_type": "markdown",
   "metadata": {},
   "source": [
    "Напишем функцию, которая будет обучать модель и добавлять в таблицу значение метрик качества."
   ]
  },
  {
   "cell_type": "code",
   "execution_count": 31,
   "metadata": {},
   "outputs": [],
   "source": [
    "def model_train(x_train, y_train, x_valid, y_valid, model, model_name, data_type):\n",
    "    model.fit(x_train, y_train)\n",
    "    \n",
    "    y_pred_valid = model.predict(x_valid)\n",
    "    \n",
    "    result_valid.loc[model_name, 'recall_'+data_type] = recall_score(y_valid, y_pred_valid)\n",
    "    result_valid.loc[model_name, 'precision_'+data_type] = precision_score(y_valid, y_pred_valid)\n",
    "    result_valid.loc[model_name, 'f1_'+data_type] = f1_score(y_valid, y_pred_valid)"
   ]
  },
  {
   "cell_type": "markdown",
   "metadata": {},
   "source": [
    "Перейдем к обучению моделей.\n",
    "\n",
    "Автоматизируем поиск оптимальных гиперпараметров с помощью _'GridSearchCV'_."
   ]
  },
  {
   "cell_type": "markdown",
   "metadata": {},
   "source": [
    "#### DecisionTreeClassifier"
   ]
  },
  {
   "cell_type": "markdown",
   "metadata": {},
   "source": [
    "Модель решающего дерева:"
   ]
  },
  {
   "cell_type": "code",
   "execution_count": 32,
   "metadata": {},
   "outputs": [],
   "source": [
    "dt = DecisionTreeClassifier(random_state=12345)"
   ]
  },
  {
   "cell_type": "code",
   "execution_count": 39,
   "metadata": {},
   "outputs": [],
   "source": [
    "parametrs = { 'criterion': ['gini', 'entropy'],\n",
    "              'max_depth': range (1,13, 2),\n",
    "              'min_samples_leaf': range (1,8),\n",
    "              'min_samples_split': range (2,10,2)}"
   ]
  },
  {
   "cell_type": "code",
   "execution_count": null,
   "metadata": {},
   "outputs": [],
   "source": [
    "grid = GridSearchCV(dt, parametrs, cv=5, scoring='f1')\n",
    "grid.fit(features_train_scale, target_train)"
   ]
  },
  {
   "cell_type": "code",
   "execution_count": null,
   "metadata": {},
   "outputs": [],
   "source": [
    "grid.best_params_"
   ]
  },
  {
   "cell_type": "markdown",
   "metadata": {},
   "source": [
    "Обучим модель решающего дерева с этими значениями гиперпараметров:"
   ]
  },
  {
   "cell_type": "code",
   "execution_count": 33,
   "metadata": {},
   "outputs": [],
   "source": [
    "dt = DecisionTreeClassifier(criterion='entropy',\n",
    "                            max_depth=7,\n",
    "                            min_samples_leaf=1,\n",
    "                            min_samples_split=4,\n",
    "                            random_state=12345)"
   ]
  },
  {
   "cell_type": "code",
   "execution_count": 34,
   "metadata": {},
   "outputs": [],
   "source": [
    "model_train(\n",
    "    features_train_scale,\n",
    "    target_train,\n",
    "    features_valid_scale,\n",
    "    target_valid,\n",
    "    dt,\n",
    "    'DecisionTreeClassifier',\n",
    "    'disbal'\n",
    ")"
   ]
  },
  {
   "cell_type": "code",
   "execution_count": 35,
   "metadata": {},
   "outputs": [
    {
     "data": {
      "text/html": [
       "<div>\n",
       "<style scoped>\n",
       "    .dataframe tbody tr th:only-of-type {\n",
       "        vertical-align: middle;\n",
       "    }\n",
       "\n",
       "    .dataframe tbody tr th {\n",
       "        vertical-align: top;\n",
       "    }\n",
       "\n",
       "    .dataframe thead th {\n",
       "        text-align: right;\n",
       "    }\n",
       "</style>\n",
       "<table border=\"1\" class=\"dataframe\">\n",
       "  <thead>\n",
       "    <tr style=\"text-align: right;\">\n",
       "      <th></th>\n",
       "      <th>recall_disbal</th>\n",
       "      <th>precision_disbal</th>\n",
       "      <th>f1_disbal</th>\n",
       "      <th>recall_bal</th>\n",
       "      <th>precision_bal</th>\n",
       "      <th>f1_bal</th>\n",
       "    </tr>\n",
       "  </thead>\n",
       "  <tbody>\n",
       "    <tr>\n",
       "      <th>DecisionTreeClassifier</th>\n",
       "      <td>0.425837</td>\n",
       "      <td>0.773913</td>\n",
       "      <td>0.549383</td>\n",
       "      <td>NaN</td>\n",
       "      <td>NaN</td>\n",
       "      <td>NaN</td>\n",
       "    </tr>\n",
       "    <tr>\n",
       "      <th>RandomForestClassifier</th>\n",
       "      <td>NaN</td>\n",
       "      <td>NaN</td>\n",
       "      <td>NaN</td>\n",
       "      <td>NaN</td>\n",
       "      <td>NaN</td>\n",
       "      <td>NaN</td>\n",
       "    </tr>\n",
       "    <tr>\n",
       "      <th>LogisticRegression</th>\n",
       "      <td>NaN</td>\n",
       "      <td>NaN</td>\n",
       "      <td>NaN</td>\n",
       "      <td>NaN</td>\n",
       "      <td>NaN</td>\n",
       "      <td>NaN</td>\n",
       "    </tr>\n",
       "  </tbody>\n",
       "</table>\n",
       "</div>"
      ],
      "text/plain": [
       "                       recall_disbal precision_disbal f1_disbal recall_bal  \\\n",
       "DecisionTreeClassifier      0.425837         0.773913  0.549383        NaN   \n",
       "RandomForestClassifier           NaN              NaN       NaN        NaN   \n",
       "LogisticRegression               NaN              NaN       NaN        NaN   \n",
       "\n",
       "                       precision_bal f1_bal  \n",
       "DecisionTreeClassifier           NaN    NaN  \n",
       "RandomForestClassifier           NaN    NaN  \n",
       "LogisticRegression               NaN    NaN  "
      ]
     },
     "execution_count": 35,
     "metadata": {},
     "output_type": "execute_result"
    }
   ],
   "source": [
    "result_valid"
   ]
  },
  {
   "cell_type": "markdown",
   "metadata": {},
   "source": [
    "Видим, что метрика точности значительно превышает полноту, так как данные несбалансированы. Наша модель лучше научилась выявлять нулевой класс. Ожидаемо\n",
    "\n",
    "Среднее гармоническое полноты и точность не превышает необходимый порог в 0.59."
   ]
  },
  {
   "cell_type": "markdown",
   "metadata": {},
   "source": [
    "#### RandomForestClassifier"
   ]
  },
  {
   "cell_type": "markdown",
   "metadata": {},
   "source": [
    "Аналогично поступим с моделью решающего леса: найдем оптимальные параметры, обучим модель и посчитаем метрики качества."
   ]
  },
  {
   "cell_type": "code",
   "execution_count": 36,
   "metadata": {},
   "outputs": [],
   "source": [
    "rf = RandomForestClassifier(random_state=12345)"
   ]
  },
  {
   "cell_type": "code",
   "execution_count": 44,
   "metadata": {},
   "outputs": [],
   "source": [
    "parametrs = { 'n_estimators': range (10, 51, 10),\n",
    "              'max_depth': range (1,13, 2),\n",
    "              'min_samples_leaf': range (1,8),\n",
    "              'min_samples_split': range (2,10,2) }"
   ]
  },
  {
   "cell_type": "code",
   "execution_count": null,
   "metadata": {},
   "outputs": [],
   "source": [
    "grid = GridSearchCV(rf, parametrs, cv=5, scoring='f1')\n",
    "grid.fit(features_train_scale, target_train)"
   ]
  },
  {
   "cell_type": "code",
   "execution_count": null,
   "metadata": {},
   "outputs": [],
   "source": [
    "grid.best_params_"
   ]
  },
  {
   "cell_type": "markdown",
   "metadata": {},
   "source": [
    "Обучим модель случайного леса, используя найденные оптимальные гиперпараметры:"
   ]
  },
  {
   "cell_type": "code",
   "execution_count": 37,
   "metadata": {},
   "outputs": [],
   "source": [
    "rf = RandomForestClassifier(\n",
    "    max_depth=11,\n",
    "    min_samples_leaf=1,\n",
    "    min_samples_split=2,\n",
    "    n_estimators=50,\n",
    "    random_state=12345\n",
    ")"
   ]
  },
  {
   "cell_type": "code",
   "execution_count": 38,
   "metadata": {},
   "outputs": [],
   "source": [
    "model_train(\n",
    "    features_train_scale,\n",
    "    target_train,\n",
    "    features_valid_scale,\n",
    "    target_valid,\n",
    "    rf,\n",
    "    'RandomForestClassifier',\n",
    "    'disbal'\n",
    ")"
   ]
  },
  {
   "cell_type": "code",
   "execution_count": 39,
   "metadata": {},
   "outputs": [
    {
     "data": {
      "text/html": [
       "<div>\n",
       "<style scoped>\n",
       "    .dataframe tbody tr th:only-of-type {\n",
       "        vertical-align: middle;\n",
       "    }\n",
       "\n",
       "    .dataframe tbody tr th {\n",
       "        vertical-align: top;\n",
       "    }\n",
       "\n",
       "    .dataframe thead th {\n",
       "        text-align: right;\n",
       "    }\n",
       "</style>\n",
       "<table border=\"1\" class=\"dataframe\">\n",
       "  <thead>\n",
       "    <tr style=\"text-align: right;\">\n",
       "      <th></th>\n",
       "      <th>recall_disbal</th>\n",
       "      <th>precision_disbal</th>\n",
       "      <th>f1_disbal</th>\n",
       "      <th>recall_bal</th>\n",
       "      <th>precision_bal</th>\n",
       "      <th>f1_bal</th>\n",
       "    </tr>\n",
       "  </thead>\n",
       "  <tbody>\n",
       "    <tr>\n",
       "      <th>DecisionTreeClassifier</th>\n",
       "      <td>0.425837</td>\n",
       "      <td>0.773913</td>\n",
       "      <td>0.549383</td>\n",
       "      <td>NaN</td>\n",
       "      <td>NaN</td>\n",
       "      <td>NaN</td>\n",
       "    </tr>\n",
       "    <tr>\n",
       "      <th>RandomForestClassifier</th>\n",
       "      <td>0.437799</td>\n",
       "      <td>0.799127</td>\n",
       "      <td>0.565688</td>\n",
       "      <td>NaN</td>\n",
       "      <td>NaN</td>\n",
       "      <td>NaN</td>\n",
       "    </tr>\n",
       "    <tr>\n",
       "      <th>LogisticRegression</th>\n",
       "      <td>NaN</td>\n",
       "      <td>NaN</td>\n",
       "      <td>NaN</td>\n",
       "      <td>NaN</td>\n",
       "      <td>NaN</td>\n",
       "      <td>NaN</td>\n",
       "    </tr>\n",
       "  </tbody>\n",
       "</table>\n",
       "</div>"
      ],
      "text/plain": [
       "                       recall_disbal precision_disbal f1_disbal recall_bal  \\\n",
       "DecisionTreeClassifier      0.425837         0.773913  0.549383        NaN   \n",
       "RandomForestClassifier      0.437799         0.799127  0.565688        NaN   \n",
       "LogisticRegression               NaN              NaN       NaN        NaN   \n",
       "\n",
       "                       precision_bal f1_bal  \n",
       "DecisionTreeClassifier           NaN    NaN  \n",
       "RandomForestClassifier           NaN    NaN  \n",
       "LogisticRegression               NaN    NaN  "
      ]
     },
     "execution_count": 39,
     "metadata": {},
     "output_type": "execute_result"
    }
   ],
   "source": [
    "result_valid"
   ]
  },
  {
   "cell_type": "markdown",
   "metadata": {},
   "source": [
    "Результаты схожи с решающим деревом. Точность выше, полнота ниже. Приэтом их среднее гармоническое не достигает необходимого значения."
   ]
  },
  {
   "cell_type": "markdown",
   "metadata": {},
   "source": [
    "#### LogisticRegression"
   ]
  },
  {
   "cell_type": "markdown",
   "metadata": {},
   "source": [
    "Аналогично поступим с моделью логистической регрессии."
   ]
  },
  {
   "cell_type": "code",
   "execution_count": 40,
   "metadata": {},
   "outputs": [],
   "source": [
    "lr = LogisticRegression(penalty='l2', random_state=12345)"
   ]
  },
  {
   "cell_type": "code",
   "execution_count": null,
   "metadata": {},
   "outputs": [],
   "source": [
    "parametrs = {'solver': ['newton-cg', 'lbfgs', 'liblinear', 'sag', 'saga'],\n",
    "             'C': [0.001,0.01,0.1,1,10,100,1000],\n",
    "             'max_iter': range(50, 1000, 50)\n",
    "            }"
   ]
  },
  {
   "cell_type": "code",
   "execution_count": null,
   "metadata": {},
   "outputs": [],
   "source": [
    "grid = GridSearchCV(lr, parametrs, cv=5, scoring='f1')\n",
    "grid.fit(features_train_scale, target_train)"
   ]
  },
  {
   "cell_type": "code",
   "execution_count": null,
   "metadata": {},
   "outputs": [],
   "source": [
    "grid.best_params_"
   ]
  },
  {
   "cell_type": "code",
   "execution_count": 41,
   "metadata": {},
   "outputs": [],
   "source": [
    "lr = LogisticRegression(penalty='l2',\n",
    "                        C=1,\n",
    "                        solver='newton-cg',\n",
    "                        max_iter=50, \n",
    "                        random_state=12345)"
   ]
  },
  {
   "cell_type": "code",
   "execution_count": 42,
   "metadata": {},
   "outputs": [],
   "source": [
    "model_train(\n",
    "    features_train_scale,\n",
    "    target_train,\n",
    "    features_valid_scale,\n",
    "    target_valid,\n",
    "    lr,\n",
    "    'LogisticRegression',\n",
    "    'disbal'\n",
    ")"
   ]
  },
  {
   "cell_type": "code",
   "execution_count": 43,
   "metadata": {},
   "outputs": [
    {
     "data": {
      "text/html": [
       "<div>\n",
       "<style scoped>\n",
       "    .dataframe tbody tr th:only-of-type {\n",
       "        vertical-align: middle;\n",
       "    }\n",
       "\n",
       "    .dataframe tbody tr th {\n",
       "        vertical-align: top;\n",
       "    }\n",
       "\n",
       "    .dataframe thead th {\n",
       "        text-align: right;\n",
       "    }\n",
       "</style>\n",
       "<table border=\"1\" class=\"dataframe\">\n",
       "  <thead>\n",
       "    <tr style=\"text-align: right;\">\n",
       "      <th></th>\n",
       "      <th>recall_disbal</th>\n",
       "      <th>precision_disbal</th>\n",
       "      <th>f1_disbal</th>\n",
       "      <th>recall_bal</th>\n",
       "      <th>precision_bal</th>\n",
       "      <th>f1_bal</th>\n",
       "    </tr>\n",
       "  </thead>\n",
       "  <tbody>\n",
       "    <tr>\n",
       "      <th>DecisionTreeClassifier</th>\n",
       "      <td>0.425837</td>\n",
       "      <td>0.773913</td>\n",
       "      <td>0.549383</td>\n",
       "      <td>NaN</td>\n",
       "      <td>NaN</td>\n",
       "      <td>NaN</td>\n",
       "    </tr>\n",
       "    <tr>\n",
       "      <th>RandomForestClassifier</th>\n",
       "      <td>0.437799</td>\n",
       "      <td>0.799127</td>\n",
       "      <td>0.565688</td>\n",
       "      <td>NaN</td>\n",
       "      <td>NaN</td>\n",
       "      <td>NaN</td>\n",
       "    </tr>\n",
       "    <tr>\n",
       "      <th>LogisticRegression</th>\n",
       "      <td>0.22488</td>\n",
       "      <td>0.552941</td>\n",
       "      <td>0.319728</td>\n",
       "      <td>NaN</td>\n",
       "      <td>NaN</td>\n",
       "      <td>NaN</td>\n",
       "    </tr>\n",
       "  </tbody>\n",
       "</table>\n",
       "</div>"
      ],
      "text/plain": [
       "                       recall_disbal precision_disbal f1_disbal recall_bal  \\\n",
       "DecisionTreeClassifier      0.425837         0.773913  0.549383        NaN   \n",
       "RandomForestClassifier      0.437799         0.799127  0.565688        NaN   \n",
       "LogisticRegression           0.22488         0.552941  0.319728        NaN   \n",
       "\n",
       "                       precision_bal f1_bal  \n",
       "DecisionTreeClassifier           NaN    NaN  \n",
       "RandomForestClassifier           NaN    NaN  \n",
       "LogisticRegression               NaN    NaN  "
      ]
     },
     "execution_count": 43,
     "metadata": {},
     "output_type": "execute_result"
    }
   ],
   "source": [
    "result_valid"
   ]
  },
  {
   "cell_type": "markdown",
   "metadata": {},
   "source": [
    "<div class=\"alert alert-info\">\n",
    "<b> Вывод: без балансировки классов ни одна модель не достигает заданного значения метрики F1. Все модели неудовлетворительно выявляют положительный класс объектов.</b> \n",
    "</div>"
   ]
  },
  {
   "cell_type": "markdown",
   "metadata": {},
   "source": [
    "## Борьба с дисбалансом"
   ]
  },
  {
   "cell_type": "markdown",
   "metadata": {},
   "source": [
    "### Upsampling"
   ]
  },
  {
   "cell_type": "markdown",
   "metadata": {},
   "source": [
    "Устраним дисбаланс между положительным и отрицательным классом техникой _'upsampling'_."
   ]
  },
  {
   "cell_type": "code",
   "execution_count": 44,
   "metadata": {},
   "outputs": [],
   "source": [
    "def upsample(features, target, repeat):\n",
    "    features_zeros = features[target == 0]\n",
    "    features_ones = features[target == 1]\n",
    "    target_zeros = target[target == 0]\n",
    "    target_ones = target[target == 1]\n",
    "    \n",
    "    features_upsampled = pd.concat([features_zeros] + [features_ones] * repeat)\n",
    "    target_upsampled = pd.concat([target_zeros] + [target_ones] * repeat)\n",
    "    \n",
    "    features_upsampled, target_upsampled = shuffle(features_upsampled, target_upsampled, random_state=42)\n",
    "    \n",
    "    return features_upsampled, target_upsampled"
   ]
  },
  {
   "cell_type": "code",
   "execution_count": 45,
   "metadata": {},
   "outputs": [],
   "source": [
    "features_train_scale_upsam, target_train_upsam = upsample(features_train_scale, target_train, 4)"
   ]
  },
  {
   "cell_type": "code",
   "execution_count": 46,
   "metadata": {},
   "outputs": [
    {
     "data": {
      "text/plain": [
       "(0    4804\n",
       " 1    4784\n",
       " Name: exited, dtype: int64,\n",
       " 0.49895702962035876)"
      ]
     },
     "execution_count": 46,
     "metadata": {},
     "output_type": "execute_result"
    }
   ],
   "source": [
    "target_train_upsam.value_counts(), target_train_upsam.mean()"
   ]
  },
  {
   "cell_type": "markdown",
   "metadata": {},
   "source": [
    "В дальнейшем, оптимальные параметры модели найденные с помощью _'GridSearchCV'_ будем использовать в качестве начальных приближений, в дальнейшем меняя для увеличения показателей нужных нам метрик."
   ]
  },
  {
   "cell_type": "markdown",
   "metadata": {},
   "source": [
    "#### DecisionTreeClassifier"
   ]
  },
  {
   "cell_type": "markdown",
   "metadata": {},
   "source": [
    "Обучим модель на сбалансированных данных и посчитаем метрики качества:"
   ]
  },
  {
   "cell_type": "code",
   "execution_count": 47,
   "metadata": {},
   "outputs": [],
   "source": [
    "dt = DecisionTreeClassifier(random_state=12345)"
   ]
  },
  {
   "cell_type": "code",
   "execution_count": 57,
   "metadata": {},
   "outputs": [],
   "source": [
    "parametrs = { 'criterion': ['gini', 'entropy'],\n",
    "              'max_depth': range (1,13, 2),\n",
    "              'min_samples_leaf': range (1,8),\n",
    "              'min_samples_split': range (2,10,2)}"
   ]
  },
  {
   "cell_type": "code",
   "execution_count": null,
   "metadata": {},
   "outputs": [],
   "source": [
    "grid = GridSearchCV(dt, parametrs, cv=5, scoring='f1')\n",
    "grid.fit(features_train_scale_upsam, target_train_upsam)"
   ]
  },
  {
   "cell_type": "code",
   "execution_count": null,
   "metadata": {},
   "outputs": [],
   "source": [
    "grid.best_params_"
   ]
  },
  {
   "cell_type": "markdown",
   "metadata": {},
   "source": [
    "Обучим модель решающего дерева с этими значениями гиперпараметров:"
   ]
  },
  {
   "cell_type": "code",
   "execution_count": 48,
   "metadata": {},
   "outputs": [],
   "source": [
    "dt = DecisionTreeClassifier(criterion='gini',\n",
    "                            max_depth=5,\n",
    "                            min_samples_leaf=1,\n",
    "                            min_samples_split=2, \n",
    "                            random_state=12345)"
   ]
  },
  {
   "cell_type": "code",
   "execution_count": 49,
   "metadata": {},
   "outputs": [],
   "source": [
    "model_train(\n",
    "    features_train_scale_upsam,\n",
    "    target_train_upsam,\n",
    "    features_valid_scale,\n",
    "    target_valid,\n",
    "    dt,\n",
    "    'DecisionTreeClassifier',\n",
    "    'bal'\n",
    ")"
   ]
  },
  {
   "cell_type": "code",
   "execution_count": 50,
   "metadata": {},
   "outputs": [
    {
     "data": {
      "text/html": [
       "<div>\n",
       "<style scoped>\n",
       "    .dataframe tbody tr th:only-of-type {\n",
       "        vertical-align: middle;\n",
       "    }\n",
       "\n",
       "    .dataframe tbody tr th {\n",
       "        vertical-align: top;\n",
       "    }\n",
       "\n",
       "    .dataframe thead th {\n",
       "        text-align: right;\n",
       "    }\n",
       "</style>\n",
       "<table border=\"1\" class=\"dataframe\">\n",
       "  <thead>\n",
       "    <tr style=\"text-align: right;\">\n",
       "      <th></th>\n",
       "      <th>recall_disbal</th>\n",
       "      <th>precision_disbal</th>\n",
       "      <th>f1_disbal</th>\n",
       "      <th>recall_bal</th>\n",
       "      <th>precision_bal</th>\n",
       "      <th>f1_bal</th>\n",
       "    </tr>\n",
       "  </thead>\n",
       "  <tbody>\n",
       "    <tr>\n",
       "      <th>DecisionTreeClassifier</th>\n",
       "      <td>0.425837</td>\n",
       "      <td>0.773913</td>\n",
       "      <td>0.549383</td>\n",
       "      <td>0.669856</td>\n",
       "      <td>0.537428</td>\n",
       "      <td>0.596379</td>\n",
       "    </tr>\n",
       "    <tr>\n",
       "      <th>RandomForestClassifier</th>\n",
       "      <td>0.437799</td>\n",
       "      <td>0.799127</td>\n",
       "      <td>0.565688</td>\n",
       "      <td>NaN</td>\n",
       "      <td>NaN</td>\n",
       "      <td>NaN</td>\n",
       "    </tr>\n",
       "    <tr>\n",
       "      <th>LogisticRegression</th>\n",
       "      <td>0.22488</td>\n",
       "      <td>0.552941</td>\n",
       "      <td>0.319728</td>\n",
       "      <td>NaN</td>\n",
       "      <td>NaN</td>\n",
       "      <td>NaN</td>\n",
       "    </tr>\n",
       "  </tbody>\n",
       "</table>\n",
       "</div>"
      ],
      "text/plain": [
       "                       recall_disbal precision_disbal f1_disbal recall_bal  \\\n",
       "DecisionTreeClassifier      0.425837         0.773913  0.549383   0.669856   \n",
       "RandomForestClassifier      0.437799         0.799127  0.565688        NaN   \n",
       "LogisticRegression           0.22488         0.552941  0.319728        NaN   \n",
       "\n",
       "                       precision_bal    f1_bal  \n",
       "DecisionTreeClassifier      0.537428  0.596379  \n",
       "RandomForestClassifier           NaN       NaN  \n",
       "LogisticRegression               NaN       NaN  "
      ]
     },
     "execution_count": 50,
     "metadata": {},
     "output_type": "execute_result"
    }
   ],
   "source": [
    "result_valid"
   ]
  },
  {
   "cell_type": "markdown",
   "metadata": {},
   "source": [
    "__Вывод:__ после балансировки классов методом _'upsampling'_ и подбором гиперпараметров удалость увеличить полноту и метрику _F1_ до нужного значения."
   ]
  },
  {
   "cell_type": "markdown",
   "metadata": {},
   "source": [
    "#### RandomForestClassifier"
   ]
  },
  {
   "cell_type": "markdown",
   "metadata": {},
   "source": [
    "Аналогично для случайного леса."
   ]
  },
  {
   "cell_type": "code",
   "execution_count": 51,
   "metadata": {},
   "outputs": [],
   "source": [
    "rf = RandomForestClassifier(random_state=12345)"
   ]
  },
  {
   "cell_type": "code",
   "execution_count": 62,
   "metadata": {},
   "outputs": [],
   "source": [
    "parametrs = { 'n_estimators': range (10, 51, 10),\n",
    "              'max_depth': range (1,13, 2),\n",
    "              'min_samples_leaf': range (1,8),\n",
    "              'min_samples_split': range (2,10,2) }"
   ]
  },
  {
   "cell_type": "code",
   "execution_count": null,
   "metadata": {},
   "outputs": [],
   "source": [
    "grid = GridSearchCV(rf, parametrs, cv=5, scoring='f1')\n",
    "grid.fit(features_train_scale_upsam, target_train_upsam)"
   ]
  },
  {
   "cell_type": "code",
   "execution_count": null,
   "metadata": {},
   "outputs": [],
   "source": [
    "grid.best_params_"
   ]
  },
  {
   "cell_type": "markdown",
   "metadata": {},
   "source": [
    "Обучим модель случайного леса, используя найденные оптимальные гиперпараметры:"
   ]
  },
  {
   "cell_type": "code",
   "execution_count": 52,
   "metadata": {},
   "outputs": [],
   "source": [
    "rf = RandomForestClassifier(\n",
    "    max_depth=11,\n",
    "    min_samples_leaf=1,\n",
    "    min_samples_split=2,\n",
    "    n_estimators=40,\n",
    "    random_state=12345\n",
    ")"
   ]
  },
  {
   "cell_type": "code",
   "execution_count": 53,
   "metadata": {},
   "outputs": [],
   "source": [
    "model_train(\n",
    "    features_train_scale_upsam,\n",
    "    target_train_upsam,\n",
    "    features_valid_scale,\n",
    "    target_valid,\n",
    "    rf,\n",
    "    'RandomForestClassifier',\n",
    "    'bal'\n",
    ")"
   ]
  },
  {
   "cell_type": "code",
   "execution_count": 54,
   "metadata": {},
   "outputs": [
    {
     "data": {
      "text/html": [
       "<div>\n",
       "<style scoped>\n",
       "    .dataframe tbody tr th:only-of-type {\n",
       "        vertical-align: middle;\n",
       "    }\n",
       "\n",
       "    .dataframe tbody tr th {\n",
       "        vertical-align: top;\n",
       "    }\n",
       "\n",
       "    .dataframe thead th {\n",
       "        text-align: right;\n",
       "    }\n",
       "</style>\n",
       "<table border=\"1\" class=\"dataframe\">\n",
       "  <thead>\n",
       "    <tr style=\"text-align: right;\">\n",
       "      <th></th>\n",
       "      <th>recall_disbal</th>\n",
       "      <th>precision_disbal</th>\n",
       "      <th>f1_disbal</th>\n",
       "      <th>recall_bal</th>\n",
       "      <th>precision_bal</th>\n",
       "      <th>f1_bal</th>\n",
       "    </tr>\n",
       "  </thead>\n",
       "  <tbody>\n",
       "    <tr>\n",
       "      <th>DecisionTreeClassifier</th>\n",
       "      <td>0.425837</td>\n",
       "      <td>0.773913</td>\n",
       "      <td>0.549383</td>\n",
       "      <td>0.669856</td>\n",
       "      <td>0.537428</td>\n",
       "      <td>0.596379</td>\n",
       "    </tr>\n",
       "    <tr>\n",
       "      <th>RandomForestClassifier</th>\n",
       "      <td>0.437799</td>\n",
       "      <td>0.799127</td>\n",
       "      <td>0.565688</td>\n",
       "      <td>0.65311</td>\n",
       "      <td>0.58209</td>\n",
       "      <td>0.615558</td>\n",
       "    </tr>\n",
       "    <tr>\n",
       "      <th>LogisticRegression</th>\n",
       "      <td>0.22488</td>\n",
       "      <td>0.552941</td>\n",
       "      <td>0.319728</td>\n",
       "      <td>NaN</td>\n",
       "      <td>NaN</td>\n",
       "      <td>NaN</td>\n",
       "    </tr>\n",
       "  </tbody>\n",
       "</table>\n",
       "</div>"
      ],
      "text/plain": [
       "                       recall_disbal precision_disbal f1_disbal recall_bal  \\\n",
       "DecisionTreeClassifier      0.425837         0.773913  0.549383   0.669856   \n",
       "RandomForestClassifier      0.437799         0.799127  0.565688    0.65311   \n",
       "LogisticRegression           0.22488         0.552941  0.319728        NaN   \n",
       "\n",
       "                       precision_bal    f1_bal  \n",
       "DecisionTreeClassifier      0.537428  0.596379  \n",
       "RandomForestClassifier       0.58209  0.615558  \n",
       "LogisticRegression               NaN       NaN  "
      ]
     },
     "execution_count": 54,
     "metadata": {},
     "output_type": "execute_result"
    }
   ],
   "source": [
    "result_valid"
   ]
  },
  {
   "cell_type": "markdown",
   "metadata": {},
   "source": [
    "__Вывод:__ после балансировки классов методом _'upsampling'_ и подбором гиперпараметров удалость увеличить полноту и метрику _F1_ до нужного значения."
   ]
  },
  {
   "cell_type": "markdown",
   "metadata": {},
   "source": [
    "#### LogisticRegression"
   ]
  },
  {
   "cell_type": "markdown",
   "metadata": {},
   "source": [
    "Аналогично поступим для модели логистической регресси."
   ]
  },
  {
   "cell_type": "code",
   "execution_count": 55,
   "metadata": {},
   "outputs": [],
   "source": [
    "lr = LogisticRegression(penalty='l2', random_state=12345)"
   ]
  },
  {
   "cell_type": "code",
   "execution_count": null,
   "metadata": {},
   "outputs": [],
   "source": [
    "parametrs = {'solver': ['newton-cg', 'lbfgs', 'liblinear', 'sag', 'saga'],\n",
    "             'C': [0.001,0.01,0.1,1,10,100,1000],\n",
    "             'max_iter': range(50, 1000, 50)\n",
    "            }"
   ]
  },
  {
   "cell_type": "code",
   "execution_count": null,
   "metadata": {},
   "outputs": [],
   "source": [
    "grid = GridSearchCV(lr, parametrs, cv=5, scoring='f1')\n",
    "grid.fit(features_train_scale_upsam, target_train_upsam)"
   ]
  },
  {
   "cell_type": "code",
   "execution_count": null,
   "metadata": {},
   "outputs": [],
   "source": [
    "grid.best_params_"
   ]
  },
  {
   "cell_type": "code",
   "execution_count": 56,
   "metadata": {},
   "outputs": [],
   "source": [
    "lr = LogisticRegression(penalty='l2',\n",
    "                        C=0.01,\n",
    "                        solver='liblinear',\n",
    "                        max_iter=50,\n",
    "                        random_state=12345)"
   ]
  },
  {
   "cell_type": "code",
   "execution_count": 57,
   "metadata": {},
   "outputs": [],
   "source": [
    "model_train(\n",
    "    features_train_scale_upsam,\n",
    "    target_train_upsam,\n",
    "    features_valid_scale,\n",
    "    target_valid,\n",
    "    lr,\n",
    "    'LogisticRegression',\n",
    "    'bal'\n",
    ")"
   ]
  },
  {
   "cell_type": "code",
   "execution_count": 58,
   "metadata": {},
   "outputs": [
    {
     "data": {
      "text/html": [
       "<div>\n",
       "<style scoped>\n",
       "    .dataframe tbody tr th:only-of-type {\n",
       "        vertical-align: middle;\n",
       "    }\n",
       "\n",
       "    .dataframe tbody tr th {\n",
       "        vertical-align: top;\n",
       "    }\n",
       "\n",
       "    .dataframe thead th {\n",
       "        text-align: right;\n",
       "    }\n",
       "</style>\n",
       "<table border=\"1\" class=\"dataframe\">\n",
       "  <thead>\n",
       "    <tr style=\"text-align: right;\">\n",
       "      <th></th>\n",
       "      <th>recall_disbal</th>\n",
       "      <th>precision_disbal</th>\n",
       "      <th>f1_disbal</th>\n",
       "      <th>recall_bal</th>\n",
       "      <th>precision_bal</th>\n",
       "      <th>f1_bal</th>\n",
       "    </tr>\n",
       "  </thead>\n",
       "  <tbody>\n",
       "    <tr>\n",
       "      <th>DecisionTreeClassifier</th>\n",
       "      <td>0.425837</td>\n",
       "      <td>0.773913</td>\n",
       "      <td>0.549383</td>\n",
       "      <td>0.669856</td>\n",
       "      <td>0.537428</td>\n",
       "      <td>0.596379</td>\n",
       "    </tr>\n",
       "    <tr>\n",
       "      <th>RandomForestClassifier</th>\n",
       "      <td>0.437799</td>\n",
       "      <td>0.799127</td>\n",
       "      <td>0.565688</td>\n",
       "      <td>0.65311</td>\n",
       "      <td>0.58209</td>\n",
       "      <td>0.615558</td>\n",
       "    </tr>\n",
       "    <tr>\n",
       "      <th>LogisticRegression</th>\n",
       "      <td>0.22488</td>\n",
       "      <td>0.552941</td>\n",
       "      <td>0.319728</td>\n",
       "      <td>0.686603</td>\n",
       "      <td>0.37963</td>\n",
       "      <td>0.488927</td>\n",
       "    </tr>\n",
       "  </tbody>\n",
       "</table>\n",
       "</div>"
      ],
      "text/plain": [
       "                       recall_disbal precision_disbal f1_disbal recall_bal  \\\n",
       "DecisionTreeClassifier      0.425837         0.773913  0.549383   0.669856   \n",
       "RandomForestClassifier      0.437799         0.799127  0.565688    0.65311   \n",
       "LogisticRegression           0.22488         0.552941  0.319728   0.686603   \n",
       "\n",
       "                       precision_bal    f1_bal  \n",
       "DecisionTreeClassifier      0.537428  0.596379  \n",
       "RandomForestClassifier       0.58209  0.615558  \n",
       "LogisticRegression           0.37963  0.488927  "
      ]
     },
     "execution_count": 58,
     "metadata": {},
     "output_type": "execute_result"
    }
   ],
   "source": [
    "result_valid"
   ]
  },
  {
   "cell_type": "markdown",
   "metadata": {},
   "source": [
    "Модель логистической регрессии дает относительно высокую полноту, но точность оказывается очень низкой. Метрика _F1_ имеет неудовлетворительное значение."
   ]
  },
  {
   "cell_type": "markdown",
   "metadata": {},
   "source": [
    "<div class=\"alert alert-info\">\n",
    "<b> Из всех моделей классификации достаточное значение метрики F1 имеет модель случайного леса и решающего дерева.</b> \n",
    "</div>"
   ]
  },
  {
   "cell_type": "code",
   "execution_count": 59,
   "metadata": {},
   "outputs": [
    {
     "data": {
      "text/html": [
       "<div>\n",
       "<style scoped>\n",
       "    .dataframe tbody tr th:only-of-type {\n",
       "        vertical-align: middle;\n",
       "    }\n",
       "\n",
       "    .dataframe tbody tr th {\n",
       "        vertical-align: top;\n",
       "    }\n",
       "\n",
       "    .dataframe thead th {\n",
       "        text-align: right;\n",
       "    }\n",
       "</style>\n",
       "<table border=\"1\" class=\"dataframe\">\n",
       "  <thead>\n",
       "    <tr style=\"text-align: right;\">\n",
       "      <th></th>\n",
       "      <th>recall_disbal</th>\n",
       "      <th>precision_disbal</th>\n",
       "      <th>f1_disbal</th>\n",
       "      <th>recall_bal</th>\n",
       "      <th>precision_bal</th>\n",
       "      <th>f1_bal</th>\n",
       "    </tr>\n",
       "  </thead>\n",
       "  <tbody>\n",
       "    <tr>\n",
       "      <th>DecisionTreeClassifier</th>\n",
       "      <td>0.425837</td>\n",
       "      <td>0.773913</td>\n",
       "      <td>0.549383</td>\n",
       "      <td>0.669856</td>\n",
       "      <td>0.537428</td>\n",
       "      <td>0.596379</td>\n",
       "    </tr>\n",
       "    <tr>\n",
       "      <th>RandomForestClassifier</th>\n",
       "      <td>0.437799</td>\n",
       "      <td>0.799127</td>\n",
       "      <td>0.565688</td>\n",
       "      <td>0.65311</td>\n",
       "      <td>0.58209</td>\n",
       "      <td>0.615558</td>\n",
       "    </tr>\n",
       "    <tr>\n",
       "      <th>LogisticRegression</th>\n",
       "      <td>0.22488</td>\n",
       "      <td>0.552941</td>\n",
       "      <td>0.319728</td>\n",
       "      <td>0.686603</td>\n",
       "      <td>0.37963</td>\n",
       "      <td>0.488927</td>\n",
       "    </tr>\n",
       "  </tbody>\n",
       "</table>\n",
       "</div>"
      ],
      "text/plain": [
       "                       recall_disbal precision_disbal f1_disbal recall_bal  \\\n",
       "DecisionTreeClassifier      0.425837         0.773913  0.549383   0.669856   \n",
       "RandomForestClassifier      0.437799         0.799127  0.565688    0.65311   \n",
       "LogisticRegression           0.22488         0.552941  0.319728   0.686603   \n",
       "\n",
       "                       precision_bal    f1_bal  \n",
       "DecisionTreeClassifier      0.537428  0.596379  \n",
       "RandomForestClassifier       0.58209  0.615558  \n",
       "LogisticRegression           0.37963  0.488927  "
      ]
     },
     "execution_count": 59,
     "metadata": {},
     "output_type": "execute_result"
    }
   ],
   "source": [
    "result_valid_up = result_valid.copy()\n",
    "\n",
    "result_valid_up"
   ]
  },
  {
   "cell_type": "markdown",
   "metadata": {},
   "source": [
    "### Downsampling"
   ]
  },
  {
   "cell_type": "markdown",
   "metadata": {},
   "source": [
    "Устраним дисбаланс между положительным и отрицательным классом техникой _'downsampling'_."
   ]
  },
  {
   "cell_type": "code",
   "execution_count": 60,
   "metadata": {},
   "outputs": [],
   "source": [
    "def downsample(features, target, fraction):\n",
    "    features_zeros = features[target == 0]\n",
    "    features_ones = features[target == 1]\n",
    "    target_zeros = target[target == 0]\n",
    "    target_ones = target[target == 1]\n",
    "    \n",
    "    features_downsampled = pd.concat(\n",
    "        [features_zeros.sample(frac=fraction, random_state=42)] + [features_ones])\n",
    "    target_downsampled = pd.concat(\n",
    "        [target_zeros.sample(frac=fraction, random_state=42)] + [target_ones])\n",
    "    \n",
    "    features_downsampled, target_downsampled = shuffle(\n",
    "        features_downsampled, target_downsampled, random_state=42)\n",
    "    \n",
    "    return features_downsampled, target_downsampled"
   ]
  },
  {
   "cell_type": "code",
   "execution_count": 61,
   "metadata": {},
   "outputs": [],
   "source": [
    "features_train_scale_dsam, target_train_dsam = downsample(features_train_scale, target_train, 0.25)"
   ]
  },
  {
   "cell_type": "markdown",
   "metadata": {},
   "source": [
    "#### DecisionTreeClassifier"
   ]
  },
  {
   "cell_type": "markdown",
   "metadata": {},
   "source": [
    "Обучим модель на сбалансированных данных и посчитаем метрики качества:"
   ]
  },
  {
   "cell_type": "code",
   "execution_count": 62,
   "metadata": {},
   "outputs": [],
   "source": [
    "dt = DecisionTreeClassifier(random_state=12345)"
   ]
  },
  {
   "cell_type": "code",
   "execution_count": 64,
   "metadata": {},
   "outputs": [],
   "source": [
    "parametrs = { 'criterion': ['gini', 'entropy'],\n",
    "              'max_depth': range (1,13, 2),\n",
    "              'min_samples_leaf': range (1,8),\n",
    "              'min_samples_split': range (2,10,2)}"
   ]
  },
  {
   "cell_type": "code",
   "execution_count": null,
   "metadata": {},
   "outputs": [],
   "source": [
    "grid = GridSearchCV(dt, parametrs, cv=5)\n",
    "grid.fit(features_train_scale_dsam, target_train_dsam)"
   ]
  },
  {
   "cell_type": "code",
   "execution_count": null,
   "metadata": {},
   "outputs": [],
   "source": [
    "grid.best_params_"
   ]
  },
  {
   "cell_type": "markdown",
   "metadata": {},
   "source": [
    "Обучим модель решающего дерева с этими значениями гиперпараметров:"
   ]
  },
  {
   "cell_type": "code",
   "execution_count": 63,
   "metadata": {},
   "outputs": [],
   "source": [
    "dt = DecisionTreeClassifier(criterion='gini',\n",
    "                            max_depth=3,\n",
    "                            min_samples_leaf=1,\n",
    "                            min_samples_split=2, \n",
    "                            random_state=12345)"
   ]
  },
  {
   "cell_type": "code",
   "execution_count": 64,
   "metadata": {},
   "outputs": [],
   "source": [
    "model_train(\n",
    "    features_train_scale_dsam,\n",
    "    target_train_dsam,\n",
    "    features_valid_scale,\n",
    "    target_valid,\n",
    "    dt,\n",
    "    'DecisionTreeClassifier',\n",
    "    'bal'\n",
    ")"
   ]
  },
  {
   "cell_type": "code",
   "execution_count": 65,
   "metadata": {},
   "outputs": [
    {
     "data": {
      "text/html": [
       "<div>\n",
       "<style scoped>\n",
       "    .dataframe tbody tr th:only-of-type {\n",
       "        vertical-align: middle;\n",
       "    }\n",
       "\n",
       "    .dataframe tbody tr th {\n",
       "        vertical-align: top;\n",
       "    }\n",
       "\n",
       "    .dataframe thead th {\n",
       "        text-align: right;\n",
       "    }\n",
       "</style>\n",
       "<table border=\"1\" class=\"dataframe\">\n",
       "  <thead>\n",
       "    <tr style=\"text-align: right;\">\n",
       "      <th></th>\n",
       "      <th>recall_disbal</th>\n",
       "      <th>precision_disbal</th>\n",
       "      <th>f1_disbal</th>\n",
       "      <th>recall_bal</th>\n",
       "      <th>precision_bal</th>\n",
       "      <th>f1_bal</th>\n",
       "    </tr>\n",
       "  </thead>\n",
       "  <tbody>\n",
       "    <tr>\n",
       "      <th>DecisionTreeClassifier</th>\n",
       "      <td>0.425837</td>\n",
       "      <td>0.773913</td>\n",
       "      <td>0.549383</td>\n",
       "      <td>0.576555</td>\n",
       "      <td>0.482</td>\n",
       "      <td>0.525054</td>\n",
       "    </tr>\n",
       "    <tr>\n",
       "      <th>RandomForestClassifier</th>\n",
       "      <td>0.437799</td>\n",
       "      <td>0.799127</td>\n",
       "      <td>0.565688</td>\n",
       "      <td>0.65311</td>\n",
       "      <td>0.58209</td>\n",
       "      <td>0.615558</td>\n",
       "    </tr>\n",
       "    <tr>\n",
       "      <th>LogisticRegression</th>\n",
       "      <td>0.22488</td>\n",
       "      <td>0.552941</td>\n",
       "      <td>0.319728</td>\n",
       "      <td>0.686603</td>\n",
       "      <td>0.37963</td>\n",
       "      <td>0.488927</td>\n",
       "    </tr>\n",
       "  </tbody>\n",
       "</table>\n",
       "</div>"
      ],
      "text/plain": [
       "                       recall_disbal precision_disbal f1_disbal recall_bal  \\\n",
       "DecisionTreeClassifier      0.425837         0.773913  0.549383   0.576555   \n",
       "RandomForestClassifier      0.437799         0.799127  0.565688    0.65311   \n",
       "LogisticRegression           0.22488         0.552941  0.319728   0.686603   \n",
       "\n",
       "                       precision_bal    f1_bal  \n",
       "DecisionTreeClassifier         0.482  0.525054  \n",
       "RandomForestClassifier       0.58209  0.615558  \n",
       "LogisticRegression           0.37963  0.488927  "
      ]
     },
     "execution_count": 65,
     "metadata": {},
     "output_type": "execute_result"
    }
   ],
   "source": [
    "result_valid"
   ]
  },
  {
   "cell_type": "markdown",
   "metadata": {},
   "source": [
    "__Вывод:__ полнота увеличилась, точность и среднее гармоническое полноты и точности уменьшилось. Не проходит."
   ]
  },
  {
   "cell_type": "markdown",
   "metadata": {},
   "source": [
    "#### RandomForestClassifier"
   ]
  },
  {
   "cell_type": "markdown",
   "metadata": {},
   "source": [
    "Аналогично для случайного леса."
   ]
  },
  {
   "cell_type": "code",
   "execution_count": 66,
   "metadata": {},
   "outputs": [],
   "source": [
    "rf = RandomForestClassifier(random_state=12345)"
   ]
  },
  {
   "cell_type": "code",
   "execution_count": 67,
   "metadata": {},
   "outputs": [],
   "source": [
    "parametrs = { 'n_estimators': range (10, 51, 10),\n",
    "              'max_depth': range (1,13, 2),\n",
    "              'min_samples_leaf': range (1,8),\n",
    "              'min_samples_split': range (2,10,2) }"
   ]
  },
  {
   "cell_type": "code",
   "execution_count": null,
   "metadata": {},
   "outputs": [],
   "source": [
    "grid = GridSearchCV(rf, parametrs, cv=5)\n",
    "grid.fit(features_train_scale_dsam, target_train_dsam)"
   ]
  },
  {
   "cell_type": "code",
   "execution_count": null,
   "metadata": {},
   "outputs": [],
   "source": [
    "grid.best_params_"
   ]
  },
  {
   "cell_type": "markdown",
   "metadata": {},
   "source": [
    "Обучим модель случайного леса, используя найденные оптимальные гиперпараметры:"
   ]
  },
  {
   "cell_type": "code",
   "execution_count": 68,
   "metadata": {},
   "outputs": [],
   "source": [
    "rf = RandomForestClassifier(\n",
    "    max_depth=9,\n",
    "    min_samples_leaf=1,\n",
    "    min_samples_split=8,\n",
    "    n_estimators=50,\n",
    "    random_state=12345\n",
    ")"
   ]
  },
  {
   "cell_type": "code",
   "execution_count": 69,
   "metadata": {},
   "outputs": [],
   "source": [
    "model_train(\n",
    "    features_train_scale_dsam,\n",
    "    target_train_dsam,\n",
    "    features_valid_scale,\n",
    "    target_valid,\n",
    "    rf,\n",
    "    'RandomForestClassifier',\n",
    "    'bal'\n",
    ")"
   ]
  },
  {
   "cell_type": "code",
   "execution_count": 70,
   "metadata": {},
   "outputs": [
    {
     "data": {
      "text/html": [
       "<div>\n",
       "<style scoped>\n",
       "    .dataframe tbody tr th:only-of-type {\n",
       "        vertical-align: middle;\n",
       "    }\n",
       "\n",
       "    .dataframe tbody tr th {\n",
       "        vertical-align: top;\n",
       "    }\n",
       "\n",
       "    .dataframe thead th {\n",
       "        text-align: right;\n",
       "    }\n",
       "</style>\n",
       "<table border=\"1\" class=\"dataframe\">\n",
       "  <thead>\n",
       "    <tr style=\"text-align: right;\">\n",
       "      <th></th>\n",
       "      <th>recall_disbal</th>\n",
       "      <th>precision_disbal</th>\n",
       "      <th>f1_disbal</th>\n",
       "      <th>recall_bal</th>\n",
       "      <th>precision_bal</th>\n",
       "      <th>f1_bal</th>\n",
       "    </tr>\n",
       "  </thead>\n",
       "  <tbody>\n",
       "    <tr>\n",
       "      <th>DecisionTreeClassifier</th>\n",
       "      <td>0.425837</td>\n",
       "      <td>0.773913</td>\n",
       "      <td>0.549383</td>\n",
       "      <td>0.576555</td>\n",
       "      <td>0.482</td>\n",
       "      <td>0.525054</td>\n",
       "    </tr>\n",
       "    <tr>\n",
       "      <th>RandomForestClassifier</th>\n",
       "      <td>0.437799</td>\n",
       "      <td>0.799127</td>\n",
       "      <td>0.565688</td>\n",
       "      <td>0.751196</td>\n",
       "      <td>0.496835</td>\n",
       "      <td>0.598095</td>\n",
       "    </tr>\n",
       "    <tr>\n",
       "      <th>LogisticRegression</th>\n",
       "      <td>0.22488</td>\n",
       "      <td>0.552941</td>\n",
       "      <td>0.319728</td>\n",
       "      <td>0.686603</td>\n",
       "      <td>0.37963</td>\n",
       "      <td>0.488927</td>\n",
       "    </tr>\n",
       "  </tbody>\n",
       "</table>\n",
       "</div>"
      ],
      "text/plain": [
       "                       recall_disbal precision_disbal f1_disbal recall_bal  \\\n",
       "DecisionTreeClassifier      0.425837         0.773913  0.549383   0.576555   \n",
       "RandomForestClassifier      0.437799         0.799127  0.565688   0.751196   \n",
       "LogisticRegression           0.22488         0.552941  0.319728   0.686603   \n",
       "\n",
       "                       precision_bal    f1_bal  \n",
       "DecisionTreeClassifier         0.482  0.525054  \n",
       "RandomForestClassifier      0.496835  0.598095  \n",
       "LogisticRegression           0.37963  0.488927  "
      ]
     },
     "execution_count": 70,
     "metadata": {},
     "output_type": "execute_result"
    }
   ],
   "source": [
    "result_valid"
   ]
  },
  {
   "cell_type": "markdown",
   "metadata": {},
   "source": [
    "__Вывод:__ аналогчно. Но значение метрики _F1_ ниже, чем при технике _'upsampling'_."
   ]
  },
  {
   "cell_type": "markdown",
   "metadata": {},
   "source": [
    "#### LogisticRegression"
   ]
  },
  {
   "cell_type": "code",
   "execution_count": 71,
   "metadata": {},
   "outputs": [],
   "source": [
    "lr = LogisticRegression(penalty='l2', random_state=12345)"
   ]
  },
  {
   "cell_type": "code",
   "execution_count": null,
   "metadata": {},
   "outputs": [],
   "source": [
    "parametrs = {'solver': ['newton-cg', 'lbfgs', 'liblinear', 'sag', 'saga'],\n",
    "             'C': [0.001,0.01,0.1,1,10,100,1000],\n",
    "             'max_iter': range(50, 1000, 50)\n",
    "            }"
   ]
  },
  {
   "cell_type": "code",
   "execution_count": null,
   "metadata": {},
   "outputs": [],
   "source": [
    "grid = GridSearchCV(lr, parametrs, cv=5)\n",
    "grid.fit(features_train_scale_dsam, target_train_dsam)"
   ]
  },
  {
   "cell_type": "code",
   "execution_count": null,
   "metadata": {},
   "outputs": [],
   "source": [
    "grid.best_params_"
   ]
  },
  {
   "cell_type": "code",
   "execution_count": 72,
   "metadata": {},
   "outputs": [],
   "source": [
    "lr = LogisticRegression(penalty='l2', C=0.01, solver='liblinear', max_iter=50, random_state=12345)"
   ]
  },
  {
   "cell_type": "code",
   "execution_count": 73,
   "metadata": {},
   "outputs": [],
   "source": [
    "model_train(\n",
    "    features_train_scale_dsam,\n",
    "    target_train_dsam,\n",
    "    features_valid_scale,\n",
    "    target_valid,\n",
    "    lr,\n",
    "    'LogisticRegression',\n",
    "    'bal'\n",
    ")"
   ]
  },
  {
   "cell_type": "code",
   "execution_count": 74,
   "metadata": {},
   "outputs": [
    {
     "data": {
      "text/html": [
       "<div>\n",
       "<style scoped>\n",
       "    .dataframe tbody tr th:only-of-type {\n",
       "        vertical-align: middle;\n",
       "    }\n",
       "\n",
       "    .dataframe tbody tr th {\n",
       "        vertical-align: top;\n",
       "    }\n",
       "\n",
       "    .dataframe thead th {\n",
       "        text-align: right;\n",
       "    }\n",
       "</style>\n",
       "<table border=\"1\" class=\"dataframe\">\n",
       "  <thead>\n",
       "    <tr style=\"text-align: right;\">\n",
       "      <th></th>\n",
       "      <th>recall_disbal</th>\n",
       "      <th>precision_disbal</th>\n",
       "      <th>f1_disbal</th>\n",
       "      <th>recall_bal</th>\n",
       "      <th>precision_bal</th>\n",
       "      <th>f1_bal</th>\n",
       "    </tr>\n",
       "  </thead>\n",
       "  <tbody>\n",
       "    <tr>\n",
       "      <th>DecisionTreeClassifier</th>\n",
       "      <td>0.425837</td>\n",
       "      <td>0.773913</td>\n",
       "      <td>0.549383</td>\n",
       "      <td>0.576555</td>\n",
       "      <td>0.482</td>\n",
       "      <td>0.525054</td>\n",
       "    </tr>\n",
       "    <tr>\n",
       "      <th>RandomForestClassifier</th>\n",
       "      <td>0.437799</td>\n",
       "      <td>0.799127</td>\n",
       "      <td>0.565688</td>\n",
       "      <td>0.751196</td>\n",
       "      <td>0.496835</td>\n",
       "      <td>0.598095</td>\n",
       "    </tr>\n",
       "    <tr>\n",
       "      <th>LogisticRegression</th>\n",
       "      <td>0.22488</td>\n",
       "      <td>0.552941</td>\n",
       "      <td>0.319728</td>\n",
       "      <td>0.696172</td>\n",
       "      <td>0.366499</td>\n",
       "      <td>0.480198</td>\n",
       "    </tr>\n",
       "  </tbody>\n",
       "</table>\n",
       "</div>"
      ],
      "text/plain": [
       "                       recall_disbal precision_disbal f1_disbal recall_bal  \\\n",
       "DecisionTreeClassifier      0.425837         0.773913  0.549383   0.576555   \n",
       "RandomForestClassifier      0.437799         0.799127  0.565688   0.751196   \n",
       "LogisticRegression           0.22488         0.552941  0.319728   0.696172   \n",
       "\n",
       "                       precision_bal    f1_bal  \n",
       "DecisionTreeClassifier         0.482  0.525054  \n",
       "RandomForestClassifier      0.496835  0.598095  \n",
       "LogisticRegression          0.366499  0.480198  "
      ]
     },
     "execution_count": 74,
     "metadata": {},
     "output_type": "execute_result"
    }
   ],
   "source": [
    "result_valid"
   ]
  },
  {
   "cell_type": "markdown",
   "metadata": {},
   "source": [
    "__Вывод:__ модель логистической регрессии дает относительно высокую полноту, но точность оказывается очень низкой. Метрика _F1_ имеет неудовлетворительное значение."
   ]
  },
  {
   "cell_type": "code",
   "execution_count": 75,
   "metadata": {},
   "outputs": [],
   "source": [
    "result_valid_d = result_valid"
   ]
  },
  {
   "cell_type": "code",
   "execution_count": 76,
   "metadata": {},
   "outputs": [
    {
     "data": {
      "text/html": [
       "<div>\n",
       "<style scoped>\n",
       "    .dataframe tbody tr th:only-of-type {\n",
       "        vertical-align: middle;\n",
       "    }\n",
       "\n",
       "    .dataframe tbody tr th {\n",
       "        vertical-align: top;\n",
       "    }\n",
       "\n",
       "    .dataframe thead th {\n",
       "        text-align: right;\n",
       "    }\n",
       "</style>\n",
       "<table border=\"1\" class=\"dataframe\">\n",
       "  <thead>\n",
       "    <tr style=\"text-align: right;\">\n",
       "      <th></th>\n",
       "      <th>recall_disbal</th>\n",
       "      <th>precision_disbal</th>\n",
       "      <th>f1_disbal</th>\n",
       "      <th>recall_bal</th>\n",
       "      <th>precision_bal</th>\n",
       "      <th>f1_bal</th>\n",
       "    </tr>\n",
       "  </thead>\n",
       "  <tbody>\n",
       "    <tr>\n",
       "      <th>DecisionTreeClassifier</th>\n",
       "      <td>0.425837</td>\n",
       "      <td>0.773913</td>\n",
       "      <td>0.549383</td>\n",
       "      <td>0.669856</td>\n",
       "      <td>0.537428</td>\n",
       "      <td>0.596379</td>\n",
       "    </tr>\n",
       "    <tr>\n",
       "      <th>RandomForestClassifier</th>\n",
       "      <td>0.437799</td>\n",
       "      <td>0.799127</td>\n",
       "      <td>0.565688</td>\n",
       "      <td>0.65311</td>\n",
       "      <td>0.58209</td>\n",
       "      <td>0.615558</td>\n",
       "    </tr>\n",
       "    <tr>\n",
       "      <th>LogisticRegression</th>\n",
       "      <td>0.22488</td>\n",
       "      <td>0.552941</td>\n",
       "      <td>0.319728</td>\n",
       "      <td>0.686603</td>\n",
       "      <td>0.37963</td>\n",
       "      <td>0.488927</td>\n",
       "    </tr>\n",
       "  </tbody>\n",
       "</table>\n",
       "</div>"
      ],
      "text/plain": [
       "                       recall_disbal precision_disbal f1_disbal recall_bal  \\\n",
       "DecisionTreeClassifier      0.425837         0.773913  0.549383   0.669856   \n",
       "RandomForestClassifier      0.437799         0.799127  0.565688    0.65311   \n",
       "LogisticRegression           0.22488         0.552941  0.319728   0.686603   \n",
       "\n",
       "                       precision_bal    f1_bal  \n",
       "DecisionTreeClassifier      0.537428  0.596379  \n",
       "RandomForestClassifier       0.58209  0.615558  \n",
       "LogisticRegression           0.37963  0.488927  "
      ]
     },
     "execution_count": 76,
     "metadata": {},
     "output_type": "execute_result"
    }
   ],
   "source": [
    "result_valid_up"
   ]
  },
  {
   "cell_type": "code",
   "execution_count": 77,
   "metadata": {},
   "outputs": [
    {
     "data": {
      "text/html": [
       "<div>\n",
       "<style scoped>\n",
       "    .dataframe tbody tr th:only-of-type {\n",
       "        vertical-align: middle;\n",
       "    }\n",
       "\n",
       "    .dataframe tbody tr th {\n",
       "        vertical-align: top;\n",
       "    }\n",
       "\n",
       "    .dataframe thead th {\n",
       "        text-align: right;\n",
       "    }\n",
       "</style>\n",
       "<table border=\"1\" class=\"dataframe\">\n",
       "  <thead>\n",
       "    <tr style=\"text-align: right;\">\n",
       "      <th></th>\n",
       "      <th>recall_disbal</th>\n",
       "      <th>precision_disbal</th>\n",
       "      <th>f1_disbal</th>\n",
       "      <th>recall_bal</th>\n",
       "      <th>precision_bal</th>\n",
       "      <th>f1_bal</th>\n",
       "    </tr>\n",
       "  </thead>\n",
       "  <tbody>\n",
       "    <tr>\n",
       "      <th>DecisionTreeClassifier</th>\n",
       "      <td>0.425837</td>\n",
       "      <td>0.773913</td>\n",
       "      <td>0.549383</td>\n",
       "      <td>0.576555</td>\n",
       "      <td>0.482</td>\n",
       "      <td>0.525054</td>\n",
       "    </tr>\n",
       "    <tr>\n",
       "      <th>RandomForestClassifier</th>\n",
       "      <td>0.437799</td>\n",
       "      <td>0.799127</td>\n",
       "      <td>0.565688</td>\n",
       "      <td>0.751196</td>\n",
       "      <td>0.496835</td>\n",
       "      <td>0.598095</td>\n",
       "    </tr>\n",
       "    <tr>\n",
       "      <th>LogisticRegression</th>\n",
       "      <td>0.22488</td>\n",
       "      <td>0.552941</td>\n",
       "      <td>0.319728</td>\n",
       "      <td>0.696172</td>\n",
       "      <td>0.366499</td>\n",
       "      <td>0.480198</td>\n",
       "    </tr>\n",
       "  </tbody>\n",
       "</table>\n",
       "</div>"
      ],
      "text/plain": [
       "                       recall_disbal precision_disbal f1_disbal recall_bal  \\\n",
       "DecisionTreeClassifier      0.425837         0.773913  0.549383   0.576555   \n",
       "RandomForestClassifier      0.437799         0.799127  0.565688   0.751196   \n",
       "LogisticRegression           0.22488         0.552941  0.319728   0.696172   \n",
       "\n",
       "                       precision_bal    f1_bal  \n",
       "DecisionTreeClassifier         0.482  0.525054  \n",
       "RandomForestClassifier      0.496835  0.598095  \n",
       "LogisticRegression          0.366499  0.480198  "
      ]
     },
     "execution_count": 77,
     "metadata": {},
     "output_type": "execute_result"
    }
   ],
   "source": [
    "result_valid_d"
   ]
  },
  {
   "cell_type": "markdown",
   "metadata": {},
   "source": [
    "<div class=\"alert alert-info\">\n",
    "<b> Вывод по разделу: после балансировки нужное значение метрики F1 удалось добиться на модели случайного леса, которая обучалась на данных, обработанных техникой 'upsampling'. F1 = 0.61.</b> \n",
    "</div>"
   ]
  },
  {
   "cell_type": "markdown",
   "metadata": {},
   "source": [
    "## Тестирование модели"
   ]
  },
  {
   "cell_type": "markdown",
   "metadata": {},
   "source": [
    "Протестируем модель:"
   ]
  },
  {
   "cell_type": "markdown",
   "metadata": {},
   "source": [
    "Для начала, создадим датафрейм, куда будем складывать результаты:"
   ]
  },
  {
   "cell_type": "code",
   "execution_count": 78,
   "metadata": {},
   "outputs": [
    {
     "data": {
      "text/html": [
       "<div>\n",
       "<style scoped>\n",
       "    .dataframe tbody tr th:only-of-type {\n",
       "        vertical-align: middle;\n",
       "    }\n",
       "\n",
       "    .dataframe tbody tr th {\n",
       "        vertical-align: top;\n",
       "    }\n",
       "\n",
       "    .dataframe thead th {\n",
       "        text-align: right;\n",
       "    }\n",
       "</style>\n",
       "<table border=\"1\" class=\"dataframe\">\n",
       "  <thead>\n",
       "    <tr style=\"text-align: right;\">\n",
       "      <th></th>\n",
       "      <th>recall_train</th>\n",
       "      <th>precision_train</th>\n",
       "      <th>f1_train</th>\n",
       "      <th>recall_valid</th>\n",
       "      <th>precision_valid</th>\n",
       "      <th>f1_valid</th>\n",
       "      <th>recall_test</th>\n",
       "      <th>precision_test</th>\n",
       "      <th>f1_test</th>\n",
       "    </tr>\n",
       "  </thead>\n",
       "  <tbody>\n",
       "    <tr>\n",
       "      <th>RandomForestClassifier</th>\n",
       "      <td>NaN</td>\n",
       "      <td>NaN</td>\n",
       "      <td>NaN</td>\n",
       "      <td>NaN</td>\n",
       "      <td>NaN</td>\n",
       "      <td>NaN</td>\n",
       "      <td>NaN</td>\n",
       "      <td>NaN</td>\n",
       "      <td>NaN</td>\n",
       "    </tr>\n",
       "  </tbody>\n",
       "</table>\n",
       "</div>"
      ],
      "text/plain": [
       "                       recall_train precision_train f1_train recall_valid  \\\n",
       "RandomForestClassifier          NaN             NaN      NaN          NaN   \n",
       "\n",
       "                       precision_valid f1_valid recall_test precision_test  \\\n",
       "RandomForestClassifier             NaN      NaN         NaN            NaN   \n",
       "\n",
       "                       f1_test  \n",
       "RandomForestClassifier     NaN  "
      ]
     },
     "execution_count": 78,
     "metadata": {},
     "output_type": "execute_result"
    }
   ],
   "source": [
    "result = pd.DataFrame(index=['RandomForestClassifier'],\n",
    "                          columns=[\n",
    "                              'recall_train',\n",
    "                              'precision_train',\n",
    "                              'f1_train',\n",
    "                              'recall_valid',\n",
    "                              'precision_valid',\n",
    "                              'f1_valid',\n",
    "                              'recall_test',\n",
    "                              'precision_test',\n",
    "                              'f1_test',\n",
    "                                  ]\n",
    ")\n",
    "\n",
    "result"
   ]
  },
  {
   "cell_type": "code",
   "execution_count": 79,
   "metadata": {},
   "outputs": [],
   "source": [
    "def model_train_valid_test(x_train, y_train, x_valid, y_valid, x_test, y_test, model, model_name):\n",
    "    model.fit(x_train, y_train)\n",
    "    \n",
    "    y_pred_train = model.predict(x_train)\n",
    "    y_pred_valid = model.predict(x_valid)\n",
    "    y_pred_test = model.predict(x_test)\n",
    "    \n",
    "    result.loc[model_name, 'recall_train'] = recall_score(y_train, y_pred_train)\n",
    "    result.loc[model_name, 'precision_train'] = precision_score(y_train, y_pred_train)\n",
    "    result.loc[model_name, 'f1_train'] = f1_score(y_train, y_pred_train)\n",
    "    \n",
    "    result.loc[model_name, 'recall_valid'] = recall_score(y_valid, y_pred_valid)\n",
    "    result.loc[model_name, 'precision_valid'] = precision_score(y_valid, y_pred_valid)\n",
    "    result.loc[model_name, 'f1_valid'] = f1_score(y_valid, y_pred_valid)\n",
    "    \n",
    "    result.loc[model_name, 'recall_test'] = recall_score(y_test, y_pred_test)\n",
    "    result.loc[model_name, 'precision_test'] = precision_score(y_test, y_pred_test)\n",
    "    result.loc[model_name, 'f1_test'] = f1_score(y_test, y_pred_test)"
   ]
  },
  {
   "cell_type": "code",
   "execution_count": 80,
   "metadata": {},
   "outputs": [],
   "source": [
    "rfc = RandomForestClassifier(\n",
    "    max_depth=11,\n",
    "    min_samples_leaf=1,\n",
    "    min_samples_split=2,\n",
    "    n_estimators=40,\n",
    "    random_state=12345\n",
    ")"
   ]
  },
  {
   "cell_type": "code",
   "execution_count": 81,
   "metadata": {},
   "outputs": [],
   "source": [
    "model_train_valid_test(\n",
    "    features_train_scale_upsam,\n",
    "    target_train_upsam,\n",
    "    features_valid_scale,\n",
    "    target_valid,\n",
    "    features_test_scale,\n",
    "    target_test,\n",
    "    rfc,\n",
    "    'RandomForestClassifier'\n",
    ")"
   ]
  },
  {
   "cell_type": "code",
   "execution_count": 82,
   "metadata": {},
   "outputs": [
    {
     "data": {
      "text/html": [
       "<div>\n",
       "<style scoped>\n",
       "    .dataframe tbody tr th:only-of-type {\n",
       "        vertical-align: middle;\n",
       "    }\n",
       "\n",
       "    .dataframe tbody tr th {\n",
       "        vertical-align: top;\n",
       "    }\n",
       "\n",
       "    .dataframe thead th {\n",
       "        text-align: right;\n",
       "    }\n",
       "</style>\n",
       "<table border=\"1\" class=\"dataframe\">\n",
       "  <thead>\n",
       "    <tr style=\"text-align: right;\">\n",
       "      <th></th>\n",
       "      <th>recall_train</th>\n",
       "      <th>precision_train</th>\n",
       "      <th>f1_train</th>\n",
       "      <th>recall_valid</th>\n",
       "      <th>precision_valid</th>\n",
       "      <th>f1_valid</th>\n",
       "      <th>recall_test</th>\n",
       "      <th>precision_test</th>\n",
       "      <th>f1_test</th>\n",
       "    </tr>\n",
       "  </thead>\n",
       "  <tbody>\n",
       "    <tr>\n",
       "      <th>RandomForestClassifier</th>\n",
       "      <td>0.959866</td>\n",
       "      <td>0.943497</td>\n",
       "      <td>0.951611</td>\n",
       "      <td>0.65311</td>\n",
       "      <td>0.58209</td>\n",
       "      <td>0.615558</td>\n",
       "      <td>0.628842</td>\n",
       "      <td>0.578261</td>\n",
       "      <td>0.602492</td>\n",
       "    </tr>\n",
       "  </tbody>\n",
       "</table>\n",
       "</div>"
      ],
      "text/plain": [
       "                       recall_train precision_train  f1_train recall_valid  \\\n",
       "RandomForestClassifier     0.959866        0.943497  0.951611      0.65311   \n",
       "\n",
       "                       precision_valid  f1_valid recall_test precision_test  \\\n",
       "RandomForestClassifier         0.58209  0.615558    0.628842       0.578261   \n",
       "\n",
       "                         f1_test  \n",
       "RandomForestClassifier  0.602492  "
      ]
     },
     "execution_count": 82,
     "metadata": {},
     "output_type": "execute_result"
    }
   ],
   "source": [
    "result"
   ]
  },
  {
   "cell_type": "markdown",
   "metadata": {},
   "source": [
    "Метрика _F1_ на тестовой выборке равна 0.61. Что удовлетворяет условию задания."
   ]
  },
  {
   "cell_type": "markdown",
   "metadata": {},
   "source": [
    "Посмотрим на матрицу ошибок для нашей модели:"
   ]
  },
  {
   "cell_type": "code",
   "execution_count": 83,
   "metadata": {},
   "outputs": [],
   "source": [
    "y_pred_test = rfc.predict(features_test_scale)"
   ]
  },
  {
   "cell_type": "code",
   "execution_count": 84,
   "metadata": {},
   "outputs": [
    {
     "data": {
      "image/png": "[encoded data removed]",
      "text/plain": [
       "<Figure size 640x480 with 2 Axes>"
      ]
     },
     "metadata": {},
     "output_type": "display_data"
    }
   ],
   "source": [
    "cm = confusion_matrix(target_test, y_pred_test, labels=rfc.classes_)\n",
    "disp = ConfusionMatrixDisplay(confusion_matrix=cm, display_labels=rf.classes_)\n",
    "disp.plot()\n",
    "plt.title('Матрица ошибок')\n",
    "plt.show()"
   ]
  },
  {
   "cell_type": "markdown",
   "metadata": {},
   "source": [
    "Построим _ROC_ - кривую и расчитаем плошадь под ней:"
   ]
  },
  {
   "cell_type": "code",
   "execution_count": 89,
   "metadata": {},
   "outputs": [
    {
     "data": {
      "text/plain": [
       "0.8490160717524821"
      ]
     },
     "execution_count": 89,
     "metadata": {},
     "output_type": "execute_result"
    }
   ],
   "source": [
    "np.trapz(tpr,fpr)"
   ]
  },
  {
   "cell_type": "code",
   "execution_count": 87,
   "metadata": {},
   "outputs": [
    {
     "data": {
      "image/png": "[encoded data removed]",
      "text/plain": [
       "<Figure size 640x480 with 1 Axes>"
      ]
     },
     "metadata": {},
     "output_type": "display_data"
    }
   ],
   "source": [
    "probs = rfc.predict_proba(features_test_scale)\n",
    "preds = probs[:,1]\n",
    "fpr, tpr, threshold = roc_curve(target_test, preds)\n",
    "\n",
    "plt.title('Receiver Operating Characteristic')\n",
    "plt.plot(fpr, tpr, 'b') #label = 'AUC = %0.2f' % roc_auc\n",
    "plt.plot([0, 1], [0, 1],'r--')\n",
    "plt.xlim([0, 1])\n",
    "plt.ylim([0, 1])\n",
    "plt.ylabel('True Positive Rate')\n",
    "plt.xlabel('False Positive Rate')\n",
    "plt.show()"
   ]
  },
  {
   "cell_type": "markdown",
   "metadata": {},
   "source": [
    "Площадь под кривой примерно равна 0.84 - уже неплохо)"
   ]
  },
  {
   "cell_type": "markdown",
   "metadata": {},
   "source": [
    "## Вывод"
   ]
  },
  {
   "cell_type": "markdown",
   "metadata": {},
   "source": [
    "В ходе работы удалось получить модель, которая соотвествует заданным метрикам качества.\n",
    "\n",
    "В качестве такой модели выступает модель случайного леса, обучавшаяся на данных, в которых дисбаланс был устранен методом увеличения выборки. В результате метрики получились:"
   ]
  },
  {
   "cell_type": "code",
   "execution_count": 88,
   "metadata": {},
   "outputs": [
    {
     "data": {
      "text/html": [
       "<div>\n",
       "<style scoped>\n",
       "    .dataframe tbody tr th:only-of-type {\n",
       "        vertical-align: middle;\n",
       "    }\n",
       "\n",
       "    .dataframe tbody tr th {\n",
       "        vertical-align: top;\n",
       "    }\n",
       "\n",
       "    .dataframe thead th {\n",
       "        text-align: right;\n",
       "    }\n",
       "</style>\n",
       "<table border=\"1\" class=\"dataframe\">\n",
       "  <thead>\n",
       "    <tr style=\"text-align: right;\">\n",
       "      <th></th>\n",
       "      <th>recall_train</th>\n",
       "      <th>precision_train</th>\n",
       "      <th>f1_train</th>\n",
       "      <th>recall_valid</th>\n",
       "      <th>precision_valid</th>\n",
       "      <th>f1_valid</th>\n",
       "      <th>recall_test</th>\n",
       "      <th>precision_test</th>\n",
       "      <th>f1_test</th>\n",
       "    </tr>\n",
       "  </thead>\n",
       "  <tbody>\n",
       "    <tr>\n",
       "      <th>RandomForestClassifier</th>\n",
       "      <td>0.959866</td>\n",
       "      <td>0.943497</td>\n",
       "      <td>0.951611</td>\n",
       "      <td>0.65311</td>\n",
       "      <td>0.58209</td>\n",
       "      <td>0.615558</td>\n",
       "      <td>0.628842</td>\n",
       "      <td>0.578261</td>\n",
       "      <td>0.602492</td>\n",
       "    </tr>\n",
       "  </tbody>\n",
       "</table>\n",
       "</div>"
      ],
      "text/plain": [
       "                       recall_train precision_train  f1_train recall_valid  \\\n",
       "RandomForestClassifier     0.959866        0.943497  0.951611      0.65311   \n",
       "\n",
       "                       precision_valid  f1_valid recall_test precision_test  \\\n",
       "RandomForestClassifier         0.58209  0.615558    0.628842       0.578261   \n",
       "\n",
       "                         f1_test  \n",
       "RandomForestClassifier  0.602492  "
      ]
     },
     "execution_count": 88,
     "metadata": {},
     "output_type": "execute_result"
    }
   ],
   "source": [
    "result"
   ]
  },
  {
   "cell_type": "markdown",
   "metadata": {},
   "source": [
    "При этом метрика _AUC-ROC_ = 0.76, а значение метрики _F1_ = 0.61."
   ]
  },
  {
   "cell_type": "markdown",
   "metadata": {},
   "source": [
    "Из возможных идей, как улучшить проект есть две:\n",
    "1. Попробовать устранить дисбаланс ,играя с порогом.\n",
    "2. Подробнее исследовать ROC-кривую."
   ]
  },
  {
   "cell_type": "markdown",
   "metadata": {},
   "source": [
    "### Ссылка на GitHub\n",
    "\n",
    "https://github.com/alserezhin/supervised_learning"
   ]
  }
 ],
 "metadata": {
  "ExecuteTimeLog": [
   {
    "duration": 424,
    "start_time": "2023-08-14T11:09:15.061Z"
   },
   {
    "duration": 160,
    "start_time": "2023-08-14T11:09:50.014Z"
   },
   {
    "duration": 22,
    "start_time": "2023-08-14T11:09:56.895Z"
   },
   {
    "duration": 5,
    "start_time": "2023-08-14T11:10:38.962Z"
   },
   {
    "duration": 70,
    "start_time": "2023-08-14T11:10:49.357Z"
   },
   {
    "duration": 7,
    "start_time": "2023-08-14T11:10:54.692Z"
   },
   {
    "duration": 11,
    "start_time": "2023-08-14T11:11:02.317Z"
   },
   {
    "duration": 7,
    "start_time": "2023-08-14T11:11:39.465Z"
   },
   {
    "duration": 5,
    "start_time": "2023-08-14T11:15:26.457Z"
   },
   {
    "duration": 5,
    "start_time": "2023-08-14T11:15:37.705Z"
   },
   {
    "duration": 5,
    "start_time": "2023-08-14T11:15:48.357Z"
   },
   {
    "duration": 4,
    "start_time": "2023-08-14T11:19:03.134Z"
   },
   {
    "duration": 3,
    "start_time": "2023-08-14T11:20:22.789Z"
   },
   {
    "duration": 8,
    "start_time": "2023-08-14T11:20:36.854Z"
   },
   {
    "duration": 4,
    "start_time": "2023-08-14T11:20:43.429Z"
   },
   {
    "duration": 20,
    "start_time": "2023-08-14T11:22:18.383Z"
   },
   {
    "duration": 16,
    "start_time": "2023-08-14T11:22:31.529Z"
   },
   {
    "duration": 10,
    "start_time": "2023-08-14T11:23:26.362Z"
   },
   {
    "duration": 9,
    "start_time": "2023-08-14T11:23:48.096Z"
   },
   {
    "duration": 19,
    "start_time": "2023-08-14T11:24:58.022Z"
   },
   {
    "duration": 11,
    "start_time": "2023-08-14T11:25:07.911Z"
   },
   {
    "duration": 4,
    "start_time": "2023-08-14T11:29:08.431Z"
   },
   {
    "duration": 14,
    "start_time": "2023-08-14T11:30:48.085Z"
   },
   {
    "duration": 1071,
    "start_time": "2023-08-14T11:35:49.405Z"
   },
   {
    "duration": 8,
    "start_time": "2023-08-14T11:36:00.082Z"
   },
   {
    "duration": 5,
    "start_time": "2023-08-14T11:36:17.782Z"
   },
   {
    "duration": 10,
    "start_time": "2023-08-14T11:37:00.283Z"
   },
   {
    "duration": 1544,
    "start_time": "2023-08-14T11:40:42.869Z"
   },
   {
    "duration": 851,
    "start_time": "2023-08-14T11:41:12.259Z"
   },
   {
    "duration": 1160,
    "start_time": "2023-08-14T11:41:22.883Z"
   },
   {
    "duration": 1501,
    "start_time": "2023-08-14T11:41:34.030Z"
   },
   {
    "duration": 1653,
    "start_time": "2023-08-14T11:43:39.056Z"
   },
   {
    "duration": 53,
    "start_time": "2023-08-15T08:34:37.808Z"
   },
   {
    "duration": 366,
    "start_time": "2023-08-15T08:34:47.525Z"
   },
   {
    "duration": 148,
    "start_time": "2023-08-15T08:34:47.893Z"
   },
   {
    "duration": 21,
    "start_time": "2023-08-15T08:34:48.150Z"
   },
   {
    "duration": 13,
    "start_time": "2023-08-15T08:34:48.299Z"
   },
   {
    "duration": 3,
    "start_time": "2023-08-15T08:34:48.606Z"
   },
   {
    "duration": 5,
    "start_time": "2023-08-15T08:34:48.774Z"
   },
   {
    "duration": 4,
    "start_time": "2023-08-15T08:34:48.945Z"
   },
   {
    "duration": 9,
    "start_time": "2023-08-15T08:34:49.259Z"
   },
   {
    "duration": 6,
    "start_time": "2023-08-15T08:34:49.603Z"
   },
   {
    "duration": 10,
    "start_time": "2023-08-15T08:34:49.772Z"
   },
   {
    "duration": 13,
    "start_time": "2023-08-15T08:34:50.130Z"
   },
   {
    "duration": 4,
    "start_time": "2023-08-15T08:34:50.654Z"
   },
   {
    "duration": 2015,
    "start_time": "2023-08-15T08:34:51.344Z"
   },
   {
    "duration": 43,
    "start_time": "2023-08-15T08:34:53.361Z"
   },
   {
    "duration": 20,
    "start_time": "2023-08-15T08:35:05.318Z"
   },
   {
    "duration": 8,
    "start_time": "2023-08-15T08:35:27.591Z"
   },
   {
    "duration": 9,
    "start_time": "2023-08-15T08:35:31.560Z"
   },
   {
    "duration": 19,
    "start_time": "2023-08-15T08:36:59.258Z"
   },
   {
    "duration": 39,
    "start_time": "2023-08-15T08:37:14.144Z"
   },
   {
    "duration": 5,
    "start_time": "2023-08-15T08:39:40.228Z"
   },
   {
    "duration": 11,
    "start_time": "2023-08-15T08:43:36.843Z"
   },
   {
    "duration": 11,
    "start_time": "2023-08-15T08:44:12.100Z"
   },
   {
    "duration": 14,
    "start_time": "2023-08-15T09:05:43.976Z"
   },
   {
    "duration": 20,
    "start_time": "2023-08-15T09:06:08.835Z"
   },
   {
    "duration": 6,
    "start_time": "2023-08-15T09:07:01.292Z"
   },
   {
    "duration": 7,
    "start_time": "2023-08-15T09:07:39.360Z"
   },
   {
    "duration": 954,
    "start_time": "2023-08-15T09:28:44.105Z"
   },
   {
    "duration": 79,
    "start_time": "2023-08-15T09:28:48.513Z"
   },
   {
    "duration": 3,
    "start_time": "2023-08-15T09:29:00.338Z"
   },
   {
    "duration": 17,
    "start_time": "2023-08-15T09:29:34.333Z"
   },
   {
    "duration": 3,
    "start_time": "2023-08-15T09:30:07.661Z"
   },
   {
    "duration": 6,
    "start_time": "2023-08-15T09:53:50.807Z"
   },
   {
    "duration": 15,
    "start_time": "2023-08-15T10:52:36.709Z"
   },
   {
    "duration": 14,
    "start_time": "2023-08-15T10:52:47.255Z"
   },
   {
    "duration": 5,
    "start_time": "2023-08-15T10:53:36.717Z"
   },
   {
    "duration": 15,
    "start_time": "2023-08-15T10:54:08.270Z"
   },
   {
    "duration": 5,
    "start_time": "2023-08-15T10:54:09.014Z"
   },
   {
    "duration": 62,
    "start_time": "2023-08-15T10:56:20.769Z"
   },
   {
    "duration": 22,
    "start_time": "2023-08-15T10:57:11.561Z"
   },
   {
    "duration": 3,
    "start_time": "2023-08-15T10:57:30.272Z"
   },
   {
    "duration": 4,
    "start_time": "2023-08-15T10:57:44.466Z"
   },
   {
    "duration": 12,
    "start_time": "2023-08-15T10:57:46.524Z"
   },
   {
    "duration": 11,
    "start_time": "2023-08-15T10:58:06.546Z"
   },
   {
    "duration": 5,
    "start_time": "2023-08-15T10:58:33.377Z"
   },
   {
    "duration": 13,
    "start_time": "2023-08-15T10:58:42.871Z"
   },
   {
    "duration": 4,
    "start_time": "2023-08-15T10:58:43.122Z"
   },
   {
    "duration": 1168,
    "start_time": "2023-08-15T10:58:55.637Z"
   },
   {
    "duration": 41,
    "start_time": "2023-08-15T10:58:56.807Z"
   },
   {
    "duration": 23,
    "start_time": "2023-08-15T10:58:56.850Z"
   },
   {
    "duration": 13,
    "start_time": "2023-08-15T10:58:56.876Z"
   },
   {
    "duration": 20,
    "start_time": "2023-08-15T10:58:56.891Z"
   },
   {
    "duration": 23,
    "start_time": "2023-08-15T10:58:56.913Z"
   },
   {
    "duration": 16,
    "start_time": "2023-08-15T10:58:56.938Z"
   },
   {
    "duration": 26,
    "start_time": "2023-08-15T10:58:56.955Z"
   },
   {
    "duration": 9,
    "start_time": "2023-08-15T10:58:56.983Z"
   },
   {
    "duration": 23,
    "start_time": "2023-08-15T10:58:56.994Z"
   },
   {
    "duration": 28,
    "start_time": "2023-08-15T10:58:57.019Z"
   },
   {
    "duration": 4,
    "start_time": "2023-08-15T10:58:57.049Z"
   },
   {
    "duration": 1778,
    "start_time": "2023-08-15T10:58:57.054Z"
   },
   {
    "duration": 125,
    "start_time": "2023-08-15T10:58:58.834Z"
   },
   {
    "duration": 0,
    "start_time": "2023-08-15T10:58:58.961Z"
   },
   {
    "duration": 0,
    "start_time": "2023-08-15T10:58:58.962Z"
   },
   {
    "duration": 0,
    "start_time": "2023-08-15T10:58:58.963Z"
   },
   {
    "duration": 0,
    "start_time": "2023-08-15T10:58:58.963Z"
   },
   {
    "duration": 0,
    "start_time": "2023-08-15T10:58:58.967Z"
   },
   {
    "duration": 3,
    "start_time": "2023-08-15T10:59:02.540Z"
   },
   {
    "duration": 47,
    "start_time": "2023-08-15T10:59:02.894Z"
   },
   {
    "duration": 16,
    "start_time": "2023-08-15T10:59:03.268Z"
   },
   {
    "duration": 14,
    "start_time": "2023-08-15T10:59:03.406Z"
   },
   {
    "duration": 4,
    "start_time": "2023-08-15T10:59:03.824Z"
   },
   {
    "duration": 4,
    "start_time": "2023-08-15T10:59:04.012Z"
   },
   {
    "duration": 5,
    "start_time": "2023-08-15T10:59:04.257Z"
   },
   {
    "duration": 9,
    "start_time": "2023-08-15T10:59:04.602Z"
   },
   {
    "duration": 5,
    "start_time": "2023-08-15T10:59:04.982Z"
   },
   {
    "duration": 9,
    "start_time": "2023-08-15T10:59:05.187Z"
   },
   {
    "duration": 14,
    "start_time": "2023-08-15T10:59:05.563Z"
   },
   {
    "duration": 6,
    "start_time": "2023-08-15T10:59:06.280Z"
   },
   {
    "duration": 1462,
    "start_time": "2023-08-15T10:59:06.852Z"
   },
   {
    "duration": 11,
    "start_time": "2023-08-15T10:59:08.650Z"
   },
   {
    "duration": 10,
    "start_time": "2023-08-15T11:00:00.232Z"
   },
   {
    "duration": 9,
    "start_time": "2023-08-15T11:00:09.449Z"
   },
   {
    "duration": 4,
    "start_time": "2023-08-15T11:00:12.034Z"
   },
   {
    "duration": 18,
    "start_time": "2023-08-15T11:00:13.877Z"
   },
   {
    "duration": 5,
    "start_time": "2023-08-15T11:00:27.780Z"
   },
   {
    "duration": 1239,
    "start_time": "2023-08-15T11:01:52.158Z"
   },
   {
    "duration": 42,
    "start_time": "2023-08-15T11:01:53.399Z"
   },
   {
    "duration": 22,
    "start_time": "2023-08-15T11:01:53.443Z"
   },
   {
    "duration": 17,
    "start_time": "2023-08-15T11:01:53.467Z"
   },
   {
    "duration": 4,
    "start_time": "2023-08-15T11:01:53.486Z"
   },
   {
    "duration": 13,
    "start_time": "2023-08-15T11:01:53.504Z"
   },
   {
    "duration": 6,
    "start_time": "2023-08-15T11:01:53.691Z"
   },
   {
    "duration": 11,
    "start_time": "2023-08-15T11:01:54.097Z"
   },
   {
    "duration": 6,
    "start_time": "2023-08-15T11:01:54.470Z"
   },
   {
    "duration": 8,
    "start_time": "2023-08-15T11:01:54.691Z"
   },
   {
    "duration": 12,
    "start_time": "2023-08-15T11:01:55.309Z"
   },
   {
    "duration": 4,
    "start_time": "2023-08-15T11:01:55.833Z"
   },
   {
    "duration": 1729,
    "start_time": "2023-08-15T11:01:56.363Z"
   },
   {
    "duration": 11,
    "start_time": "2023-08-15T11:01:58.094Z"
   },
   {
    "duration": 30,
    "start_time": "2023-08-15T11:01:58.107Z"
   },
   {
    "duration": 11,
    "start_time": "2023-08-15T11:02:02.466Z"
   },
   {
    "duration": 5,
    "start_time": "2023-08-15T11:02:03.831Z"
   },
   {
    "duration": 111,
    "start_time": "2023-08-15T11:03:28.656Z"
   },
   {
    "duration": 12,
    "start_time": "2023-08-15T11:03:37.194Z"
   },
   {
    "duration": 4,
    "start_time": "2023-08-15T11:04:05.077Z"
   },
   {
    "duration": 6,
    "start_time": "2023-08-15T11:05:42.915Z"
   },
   {
    "duration": 5,
    "start_time": "2023-08-15T11:06:07.638Z"
   },
   {
    "duration": 12,
    "start_time": "2023-08-15T11:06:17.653Z"
   },
   {
    "duration": 5,
    "start_time": "2023-08-15T11:06:40.276Z"
   },
   {
    "duration": 6,
    "start_time": "2023-08-15T11:09:32.872Z"
   },
   {
    "duration": 6,
    "start_time": "2023-08-15T11:11:37.368Z"
   },
   {
    "duration": 4,
    "start_time": "2023-08-15T11:12:32.771Z"
   },
   {
    "duration": 4,
    "start_time": "2023-08-15T11:12:45.418Z"
   },
   {
    "duration": 5,
    "start_time": "2023-08-15T11:13:19.120Z"
   },
   {
    "duration": 4,
    "start_time": "2023-08-15T11:13:19.742Z"
   },
   {
    "duration": 7,
    "start_time": "2023-08-15T11:17:26.705Z"
   },
   {
    "duration": 5,
    "start_time": "2023-08-15T11:17:34.229Z"
   },
   {
    "duration": 11,
    "start_time": "2023-08-15T11:17:36.772Z"
   },
   {
    "duration": 16,
    "start_time": "2023-08-15T11:17:53.700Z"
   },
   {
    "duration": 1332,
    "start_time": "2023-08-15T14:20:17.970Z"
   },
   {
    "duration": 3,
    "start_time": "2023-08-15T14:20:28.098Z"
   },
   {
    "duration": 173,
    "start_time": "2023-08-15T14:20:31.570Z"
   },
   {
    "duration": 19,
    "start_time": "2023-08-15T14:20:31.916Z"
   },
   {
    "duration": 14,
    "start_time": "2023-08-15T14:20:32.083Z"
   },
   {
    "duration": 3,
    "start_time": "2023-08-15T14:20:32.410Z"
   },
   {
    "duration": 3,
    "start_time": "2023-08-15T14:20:32.605Z"
   },
   {
    "duration": 4,
    "start_time": "2023-08-15T14:20:32.771Z"
   },
   {
    "duration": 9,
    "start_time": "2023-08-15T14:20:33.109Z"
   },
   {
    "duration": 6,
    "start_time": "2023-08-15T14:20:33.481Z"
   },
   {
    "duration": 17,
    "start_time": "2023-08-15T14:20:33.650Z"
   },
   {
    "duration": 13,
    "start_time": "2023-08-15T14:20:34.024Z"
   },
   {
    "duration": 4,
    "start_time": "2023-08-15T14:20:34.570Z"
   },
   {
    "duration": 1944,
    "start_time": "2023-08-15T14:20:35.124Z"
   },
   {
    "duration": 10,
    "start_time": "2023-08-15T14:20:37.071Z"
   },
   {
    "duration": 23,
    "start_time": "2023-08-15T14:20:37.083Z"
   },
   {
    "duration": 22,
    "start_time": "2023-08-15T14:20:37.108Z"
   },
   {
    "duration": 9,
    "start_time": "2023-08-15T14:20:37.131Z"
   },
   {
    "duration": 9,
    "start_time": "2023-08-15T14:20:37.142Z"
   },
   {
    "duration": 15,
    "start_time": "2023-08-15T14:20:37.153Z"
   },
   {
    "duration": 5,
    "start_time": "2023-08-15T14:20:37.252Z"
   },
   {
    "duration": 7,
    "start_time": "2023-08-15T14:20:38.960Z"
   },
   {
    "duration": 7,
    "start_time": "2023-08-15T14:20:40.270Z"
   },
   {
    "duration": 13,
    "start_time": "2023-08-15T14:20:43.865Z"
   },
   {
    "duration": 3,
    "start_time": "2023-08-15T14:22:55.848Z"
   },
   {
    "duration": 1264,
    "start_time": "2023-08-15T19:50:42.170Z"
   },
   {
    "duration": 93,
    "start_time": "2023-08-15T19:50:43.436Z"
   },
   {
    "duration": 28,
    "start_time": "2023-08-15T19:50:44.129Z"
   },
   {
    "duration": 21,
    "start_time": "2023-08-15T19:50:44.428Z"
   },
   {
    "duration": 4,
    "start_time": "2023-08-15T19:50:44.955Z"
   },
   {
    "duration": 5,
    "start_time": "2023-08-15T19:50:45.160Z"
   },
   {
    "duration": 8,
    "start_time": "2023-08-15T19:50:45.346Z"
   },
   {
    "duration": 13,
    "start_time": "2023-08-15T19:50:45.717Z"
   },
   {
    "duration": 6,
    "start_time": "2023-08-15T19:50:46.100Z"
   },
   {
    "duration": 10,
    "start_time": "2023-08-15T19:50:46.298Z"
   },
   {
    "duration": 15,
    "start_time": "2023-08-15T19:50:46.685Z"
   },
   {
    "duration": 7,
    "start_time": "2023-08-15T19:50:47.273Z"
   },
   {
    "duration": 2253,
    "start_time": "2023-08-15T19:50:47.846Z"
   },
   {
    "duration": 12,
    "start_time": "2023-08-15T19:50:50.102Z"
   },
   {
    "duration": 32,
    "start_time": "2023-08-15T19:50:50.116Z"
   },
   {
    "duration": 31,
    "start_time": "2023-08-15T19:50:50.151Z"
   },
   {
    "duration": 26,
    "start_time": "2023-08-15T19:50:50.184Z"
   },
   {
    "duration": 20,
    "start_time": "2023-08-15T19:50:50.213Z"
   },
   {
    "duration": 33,
    "start_time": "2023-08-15T19:50:50.235Z"
   },
   {
    "duration": 23,
    "start_time": "2023-08-15T19:50:50.271Z"
   },
   {
    "duration": 6,
    "start_time": "2023-08-15T19:50:50.385Z"
   },
   {
    "duration": 7,
    "start_time": "2023-08-15T19:50:53.213Z"
   },
   {
    "duration": 14,
    "start_time": "2023-08-15T19:51:03.196Z"
   },
   {
    "duration": 142,
    "start_time": "2023-08-15T19:55:10.389Z"
   },
   {
    "duration": 5,
    "start_time": "2023-08-15T19:55:15.696Z"
   },
   {
    "duration": 10,
    "start_time": "2023-08-15T19:55:16.279Z"
   },
   {
    "duration": 109,
    "start_time": "2023-08-15T19:57:43.083Z"
   },
   {
    "duration": 80,
    "start_time": "2023-08-15T19:58:01.775Z"
   },
   {
    "duration": 14,
    "start_time": "2023-08-15T19:58:10.624Z"
   },
   {
    "duration": 21,
    "start_time": "2023-08-15T19:58:22.213Z"
   },
   {
    "duration": 22,
    "start_time": "2023-08-15T20:04:23.306Z"
   },
   {
    "duration": 4,
    "start_time": "2023-08-15T20:13:38.717Z"
   },
   {
    "duration": 5,
    "start_time": "2023-08-15T20:16:27.657Z"
   },
   {
    "duration": 4,
    "start_time": "2023-08-15T20:23:18.185Z"
   },
   {
    "duration": 4,
    "start_time": "2023-08-15T20:25:17.583Z"
   },
   {
    "duration": 1148,
    "start_time": "2023-08-16T08:55:28.646Z"
   },
   {
    "duration": 93,
    "start_time": "2023-08-16T08:55:29.796Z"
   },
   {
    "duration": 20,
    "start_time": "2023-08-16T08:55:29.891Z"
   },
   {
    "duration": 15,
    "start_time": "2023-08-16T08:55:29.913Z"
   },
   {
    "duration": 8,
    "start_time": "2023-08-16T08:55:29.930Z"
   },
   {
    "duration": 3,
    "start_time": "2023-08-16T08:55:30.001Z"
   },
   {
    "duration": 4,
    "start_time": "2023-08-16T08:55:30.164Z"
   },
   {
    "duration": 9,
    "start_time": "2023-08-16T08:55:30.493Z"
   },
   {
    "duration": 6,
    "start_time": "2023-08-16T08:55:30.845Z"
   },
   {
    "duration": 9,
    "start_time": "2023-08-16T08:55:31.002Z"
   },
   {
    "duration": 12,
    "start_time": "2023-08-16T08:55:31.352Z"
   },
   {
    "duration": 4,
    "start_time": "2023-08-16T08:55:31.830Z"
   },
   {
    "duration": 2243,
    "start_time": "2023-08-16T08:55:32.358Z"
   },
   {
    "duration": 10,
    "start_time": "2023-08-16T08:55:34.603Z"
   },
   {
    "duration": 9,
    "start_time": "2023-08-16T08:55:34.615Z"
   },
   {
    "duration": 30,
    "start_time": "2023-08-16T08:55:34.626Z"
   },
   {
    "duration": 6,
    "start_time": "2023-08-16T08:55:34.658Z"
   },
   {
    "duration": 12,
    "start_time": "2023-08-16T08:55:34.665Z"
   },
   {
    "duration": 21,
    "start_time": "2023-08-16T08:55:34.679Z"
   },
   {
    "duration": 25,
    "start_time": "2023-08-16T08:55:34.701Z"
   },
   {
    "duration": 20,
    "start_time": "2023-08-16T08:55:34.728Z"
   },
   {
    "duration": 6,
    "start_time": "2023-08-16T08:55:35.340Z"
   },
   {
    "duration": 12,
    "start_time": "2023-08-16T08:55:36.174Z"
   },
   {
    "duration": 3,
    "start_time": "2023-08-16T08:55:36.688Z"
   },
   {
    "duration": 9,
    "start_time": "2023-08-16T08:55:37.230Z"
   },
   {
    "duration": 18,
    "start_time": "2023-08-16T08:55:38.092Z"
   },
   {
    "duration": 19,
    "start_time": "2023-08-16T08:55:38.633Z"
   },
   {
    "duration": 4,
    "start_time": "2023-08-16T08:55:42.508Z"
   },
   {
    "duration": 2,
    "start_time": "2023-08-16T08:58:59.434Z"
   },
   {
    "duration": 3,
    "start_time": "2023-08-16T08:59:00.424Z"
   },
   {
    "duration": 14760,
    "start_time": "2023-08-16T08:59:01.403Z"
   },
   {
    "duration": 3,
    "start_time": "2023-08-16T09:01:44.295Z"
   },
   {
    "duration": 120,
    "start_time": "2023-08-16T09:01:44.668Z"
   },
   {
    "duration": 12,
    "start_time": "2023-08-16T09:01:45.004Z"
   },
   {
    "duration": 3,
    "start_time": "2023-08-16T09:02:16.934Z"
   },
   {
    "duration": 5,
    "start_time": "2023-08-16T09:02:26.459Z"
   },
   {
    "duration": 2936,
    "start_time": "2023-08-16T09:02:27.563Z"
   },
   {
    "duration": 4,
    "start_time": "2023-08-16T09:03:13.044Z"
   },
   {
    "duration": 3,
    "start_time": "2023-08-16T09:04:56.323Z"
   },
   {
    "duration": 4,
    "start_time": "2023-08-16T09:04:56.853Z"
   },
   {
    "duration": 32483,
    "start_time": "2023-08-16T09:04:58.000Z"
   },
   {
    "duration": 5,
    "start_time": "2023-08-16T09:05:32.769Z"
   },
   {
    "duration": 3,
    "start_time": "2023-08-16T09:11:03.752Z"
   },
   {
    "duration": 36,
    "start_time": "2023-08-16T09:12:41.018Z"
   },
   {
    "duration": 11,
    "start_time": "2023-08-16T09:13:21.143Z"
   },
   {
    "duration": 1110,
    "start_time": "2023-08-16T09:14:01.151Z"
   },
   {
    "duration": 48,
    "start_time": "2023-08-16T09:14:02.263Z"
   },
   {
    "duration": 43,
    "start_time": "2023-08-16T09:14:02.313Z"
   },
   {
    "duration": 42,
    "start_time": "2023-08-16T09:14:02.358Z"
   },
   {
    "duration": 37,
    "start_time": "2023-08-16T09:14:02.402Z"
   },
   {
    "duration": 25,
    "start_time": "2023-08-16T09:14:02.444Z"
   },
   {
    "duration": 4,
    "start_time": "2023-08-16T09:14:02.612Z"
   },
   {
    "duration": 10,
    "start_time": "2023-08-16T09:14:02.944Z"
   },
   {
    "duration": 5,
    "start_time": "2023-08-16T09:14:03.300Z"
   },
   {
    "duration": 8,
    "start_time": "2023-08-16T09:14:03.472Z"
   },
   {
    "duration": 13,
    "start_time": "2023-08-16T09:14:03.844Z"
   },
   {
    "duration": 4,
    "start_time": "2023-08-16T09:14:04.378Z"
   },
   {
    "duration": 1828,
    "start_time": "2023-08-16T09:14:04.931Z"
   },
   {
    "duration": 12,
    "start_time": "2023-08-16T09:14:06.762Z"
   },
   {
    "duration": 19,
    "start_time": "2023-08-16T09:14:06.776Z"
   },
   {
    "duration": 13,
    "start_time": "2023-08-16T09:14:06.797Z"
   },
   {
    "duration": 14,
    "start_time": "2023-08-16T09:14:06.811Z"
   },
   {
    "duration": 18,
    "start_time": "2023-08-16T09:14:06.826Z"
   },
   {
    "duration": 10,
    "start_time": "2023-08-16T09:14:06.845Z"
   },
   {
    "duration": 5,
    "start_time": "2023-08-16T09:14:07.055Z"
   },
   {
    "duration": 4,
    "start_time": "2023-08-16T09:14:07.242Z"
   },
   {
    "duration": 7,
    "start_time": "2023-08-16T09:14:08.366Z"
   },
   {
    "duration": 12,
    "start_time": "2023-08-16T09:14:13.109Z"
   },
   {
    "duration": 2,
    "start_time": "2023-08-16T09:14:14.225Z"
   },
   {
    "duration": 11,
    "start_time": "2023-08-16T09:14:14.506Z"
   },
   {
    "duration": 22,
    "start_time": "2023-08-16T09:14:14.847Z"
   },
   {
    "duration": 22,
    "start_time": "2023-08-16T09:14:15.213Z"
   },
   {
    "duration": 3,
    "start_time": "2023-08-16T09:14:15.838Z"
   },
   {
    "duration": 2,
    "start_time": "2023-08-16T09:14:17.365Z"
   },
   {
    "duration": 3,
    "start_time": "2023-08-16T09:14:17.889Z"
   },
   {
    "duration": 31647,
    "start_time": "2023-08-16T09:14:19.234Z"
   },
   {
    "duration": 4,
    "start_time": "2023-08-16T09:14:50.883Z"
   },
   {
    "duration": 3,
    "start_time": "2023-08-16T09:15:09.471Z"
   },
   {
    "duration": 33,
    "start_time": "2023-08-16T09:15:10.125Z"
   },
   {
    "duration": 9,
    "start_time": "2023-08-16T09:15:20.775Z"
   },
   {
    "duration": 88,
    "start_time": "2023-08-16T09:18:40.388Z"
   },
   {
    "duration": 110,
    "start_time": "2023-08-16T09:20:23.427Z"
   },
   {
    "duration": 2,
    "start_time": "2023-08-16T09:20:48.477Z"
   },
   {
    "duration": 3,
    "start_time": "2023-08-16T09:21:31.412Z"
   },
   {
    "duration": 1090490,
    "start_time": "2023-08-16T09:21:55.657Z"
   },
   {
    "duration": 4,
    "start_time": "2023-08-16T09:40:06.150Z"
   },
   {
    "duration": 154,
    "start_time": "2023-08-16T09:43:37.740Z"
   },
   {
    "duration": 3,
    "start_time": "2023-08-16T09:44:30.433Z"
   },
   {
    "duration": 277,
    "start_time": "2023-08-16T09:45:02.530Z"
   },
   {
    "duration": 3,
    "start_time": "2023-08-16T09:51:51.716Z"
   },
   {
    "duration": 11,
    "start_time": "2023-08-16T09:52:09.186Z"
   },
   {
    "duration": 9,
    "start_time": "2023-08-16T09:52:21.918Z"
   },
   {
    "duration": 29,
    "start_time": "2023-08-16T09:52:24.455Z"
   },
   {
    "duration": 9,
    "start_time": "2023-08-16T09:52:26.031Z"
   },
   {
    "duration": 3,
    "start_time": "2023-08-16T09:52:39.097Z"
   },
   {
    "duration": 3,
    "start_time": "2023-08-16T09:52:39.602Z"
   },
   {
    "duration": 521548,
    "start_time": "2023-08-16T09:52:42.053Z"
   },
   {
    "duration": 4,
    "start_time": "2023-08-16T10:01:23.603Z"
   },
   {
    "duration": 3,
    "start_time": "2023-08-16T10:02:08.980Z"
   },
   {
    "duration": 888,
    "start_time": "2023-08-16T10:02:10.467Z"
   },
   {
    "duration": 5,
    "start_time": "2023-08-16T10:02:41.919Z"
   },
   {
    "duration": 375,
    "start_time": "2023-08-16T10:02:42.659Z"
   },
   {
    "duration": 9,
    "start_time": "2023-08-16T10:02:49.169Z"
   },
   {
    "duration": 3,
    "start_time": "2023-08-16T10:12:59.507Z"
   },
   {
    "duration": 13,
    "start_time": "2023-08-16T10:14:58.309Z"
   },
   {
    "duration": 4,
    "start_time": "2023-08-16T10:15:04.791Z"
   },
   {
    "duration": 4,
    "start_time": "2023-08-16T10:16:28.815Z"
   },
   {
    "duration": 38161,
    "start_time": "2023-08-16T10:17:16.638Z"
   },
   {
    "duration": 4,
    "start_time": "2023-08-16T10:18:06.206Z"
   },
   {
    "duration": 35867,
    "start_time": "2023-08-16T10:18:40.232Z"
   },
   {
    "duration": 4,
    "start_time": "2023-08-16T10:19:16.194Z"
   },
   {
    "duration": 3,
    "start_time": "2023-08-16T10:20:36.880Z"
   },
   {
    "duration": 7534,
    "start_time": "2023-08-16T10:20:37.467Z"
   },
   {
    "duration": 3,
    "start_time": "2023-08-16T10:20:55.723Z"
   },
   {
    "duration": 3,
    "start_time": "2023-08-16T10:27:44.714Z"
   },
   {
    "duration": 21,
    "start_time": "2023-08-16T10:30:12.898Z"
   },
   {
    "duration": 48,
    "start_time": "2023-08-16T10:30:12.921Z"
   },
   {
    "duration": 793524,
    "start_time": "2023-08-16T10:30:12.972Z"
   },
   {
    "duration": 5,
    "start_time": "2023-08-16T10:43:26.499Z"
   },
   {
    "duration": 3,
    "start_time": "2023-08-16T10:48:22.604Z"
   },
   {
    "duration": 134,
    "start_time": "2023-08-16T10:48:50.069Z"
   },
   {
    "duration": 10,
    "start_time": "2023-08-16T10:48:55.245Z"
   },
   {
    "duration": 4,
    "start_time": "2023-08-16T11:03:52.964Z"
   },
   {
    "duration": 5,
    "start_time": "2023-08-16T11:30:15.061Z"
   },
   {
    "duration": 9,
    "start_time": "2023-08-16T11:31:52.969Z"
   },
   {
    "duration": 3,
    "start_time": "2023-08-16T11:34:22.184Z"
   },
   {
    "duration": 4,
    "start_time": "2023-08-16T11:34:45.117Z"
   },
   {
    "duration": 3,
    "start_time": "2023-08-16T11:34:46.177Z"
   },
   {
    "duration": 3,
    "start_time": "2023-08-16T11:34:49.466Z"
   },
   {
    "duration": 43095,
    "start_time": "2023-08-16T11:34:56.434Z"
   },
   {
    "duration": 5,
    "start_time": "2023-08-16T11:35:39.531Z"
   },
   {
    "duration": 3,
    "start_time": "2023-08-16T11:37:00.901Z"
   },
   {
    "duration": 47,
    "start_time": "2023-08-16T11:37:03.383Z"
   },
   {
    "duration": 9,
    "start_time": "2023-08-16T11:37:03.931Z"
   },
   {
    "duration": 9,
    "start_time": "2023-08-16T11:40:17.317Z"
   },
   {
    "duration": 3,
    "start_time": "2023-08-16T11:41:25.428Z"
   },
   {
    "duration": 3,
    "start_time": "2023-08-16T11:41:25.827Z"
   },
   {
    "duration": 722551,
    "start_time": "2023-08-16T11:41:26.441Z"
   },
   {
    "duration": 5,
    "start_time": "2023-08-16T11:53:28.994Z"
   },
   {
    "duration": 3,
    "start_time": "2023-08-16T11:54:28.365Z"
   },
   {
    "duration": 281,
    "start_time": "2023-08-16T11:54:29.217Z"
   },
   {
    "duration": 329,
    "start_time": "2023-08-16T11:54:47.688Z"
   },
   {
    "duration": 9,
    "start_time": "2023-08-16T11:54:48.991Z"
   },
   {
    "duration": 2,
    "start_time": "2023-08-16T11:58:54.013Z"
   },
   {
    "duration": 4,
    "start_time": "2023-08-16T11:58:54.493Z"
   },
   {
    "duration": 962517,
    "start_time": "2023-08-16T11:58:57.216Z"
   },
   {
    "duration": 4,
    "start_time": "2023-08-16T12:14:59.736Z"
   },
   {
    "duration": 3,
    "start_time": "2023-08-16T12:16:24.863Z"
   },
   {
    "duration": 51,
    "start_time": "2023-08-16T12:16:25.751Z"
   },
   {
    "duration": 9,
    "start_time": "2023-08-16T12:16:27.042Z"
   },
   {
    "duration": 1337,
    "start_time": "2023-08-16T12:25:07.379Z"
   },
   {
    "duration": 41,
    "start_time": "2023-08-16T12:25:10.194Z"
   },
   {
    "duration": 20,
    "start_time": "2023-08-16T12:25:12.580Z"
   },
   {
    "duration": 13,
    "start_time": "2023-08-16T12:25:13.602Z"
   },
   {
    "duration": 3,
    "start_time": "2023-08-16T12:25:18.011Z"
   },
   {
    "duration": 3,
    "start_time": "2023-08-16T12:25:19.032Z"
   },
   {
    "duration": 5,
    "start_time": "2023-08-16T12:25:20.282Z"
   },
   {
    "duration": 9,
    "start_time": "2023-08-16T12:25:22.673Z"
   },
   {
    "duration": 5,
    "start_time": "2023-08-16T12:25:26.059Z"
   },
   {
    "duration": 11,
    "start_time": "2023-08-16T12:25:26.707Z"
   },
   {
    "duration": 13,
    "start_time": "2023-08-16T12:25:29.397Z"
   },
   {
    "duration": 6,
    "start_time": "2023-08-16T12:25:31.667Z"
   },
   {
    "duration": 1733,
    "start_time": "2023-08-16T12:25:34.036Z"
   },
   {
    "duration": 11,
    "start_time": "2023-08-16T12:25:40.867Z"
   },
   {
    "duration": 4,
    "start_time": "2023-08-16T12:25:41.448Z"
   },
   {
    "duration": 10,
    "start_time": "2023-08-16T12:25:43.865Z"
   },
   {
    "duration": 5,
    "start_time": "2023-08-16T12:25:45.433Z"
   },
   {
    "duration": 6,
    "start_time": "2023-08-16T12:25:46.700Z"
   },
   {
    "duration": 8,
    "start_time": "2023-08-16T12:28:38.048Z"
   },
   {
    "duration": 4,
    "start_time": "2023-08-16T12:29:13.610Z"
   },
   {
    "duration": 4,
    "start_time": "2023-08-16T12:29:15.756Z"
   },
   {
    "duration": 6,
    "start_time": "2023-08-16T12:30:44.904Z"
   },
   {
    "duration": 13,
    "start_time": "2023-08-16T12:30:56.620Z"
   },
   {
    "duration": 3,
    "start_time": "2023-08-16T12:31:41.402Z"
   },
   {
    "duration": 10,
    "start_time": "2023-08-16T12:31:45.491Z"
   },
   {
    "duration": 26,
    "start_time": "2023-08-16T12:31:46.807Z"
   },
   {
    "duration": 117,
    "start_time": "2023-08-16T12:31:49.104Z"
   },
   {
    "duration": 9,
    "start_time": "2023-08-16T12:33:03.373Z"
   },
   {
    "duration": 3,
    "start_time": "2023-08-16T12:33:28.015Z"
   },
   {
    "duration": 8,
    "start_time": "2023-08-16T12:33:28.952Z"
   },
   {
    "duration": 19,
    "start_time": "2023-08-16T12:33:35.212Z"
   },
   {
    "duration": 20,
    "start_time": "2023-08-16T12:33:38.276Z"
   },
   {
    "duration": 20,
    "start_time": "2023-08-16T12:33:42.551Z"
   },
   {
    "duration": 4,
    "start_time": "2023-08-16T12:34:52.242Z"
   },
   {
    "duration": 3,
    "start_time": "2023-08-16T12:35:17.721Z"
   },
   {
    "duration": 3,
    "start_time": "2023-08-16T12:35:22.775Z"
   },
   {
    "duration": 12,
    "start_time": "2023-08-16T12:35:47.258Z"
   },
   {
    "duration": 11,
    "start_time": "2023-08-16T12:36:08.810Z"
   },
   {
    "duration": 2490,
    "start_time": "2023-08-16T12:36:19.150Z"
   },
   {
    "duration": 27354,
    "start_time": "2023-08-16T12:36:37.499Z"
   },
   {
    "duration": 5,
    "start_time": "2023-08-16T12:37:04.856Z"
   },
   {
    "duration": 3,
    "start_time": "2023-08-16T12:38:44.311Z"
   },
   {
    "duration": 3,
    "start_time": "2023-08-16T12:38:55.815Z"
   },
   {
    "duration": 32,
    "start_time": "2023-08-16T12:39:00.391Z"
   },
   {
    "duration": 11,
    "start_time": "2023-08-16T12:39:01.992Z"
   },
   {
    "duration": 3,
    "start_time": "2023-08-16T12:40:53.962Z"
   },
   {
    "duration": 3,
    "start_time": "2023-08-16T12:40:57.154Z"
   },
   {
    "duration": 461179,
    "start_time": "2023-08-16T12:41:04.024Z"
   },
   {
    "duration": 3,
    "start_time": "2023-08-16T12:48:45.205Z"
   },
   {
    "duration": 35,
    "start_time": "2023-08-16T12:50:15.445Z"
   },
   {
    "duration": 8,
    "start_time": "2023-08-16T12:50:16.460Z"
   },
   {
    "duration": 3,
    "start_time": "2023-08-16T12:50:35.299Z"
   },
   {
    "duration": 31,
    "start_time": "2023-08-16T12:50:35.761Z"
   },
   {
    "duration": 9,
    "start_time": "2023-08-16T12:50:36.148Z"
   },
   {
    "duration": 3,
    "start_time": "2023-08-16T12:51:25.536Z"
   },
   {
    "duration": 322,
    "start_time": "2023-08-16T12:51:26.146Z"
   },
   {
    "duration": 8,
    "start_time": "2023-08-16T12:51:27.710Z"
   },
   {
    "duration": 10,
    "start_time": "2023-08-16T12:51:33.471Z"
   },
   {
    "duration": 4,
    "start_time": "2023-08-16T12:52:42.298Z"
   },
   {
    "duration": 5,
    "start_time": "2023-08-16T12:52:44.036Z"
   },
   {
    "duration": 779393,
    "start_time": "2023-08-16T12:52:45.806Z"
   },
   {
    "duration": 91,
    "start_time": "2023-08-16T13:05:45.207Z"
   },
   {
    "duration": 10,
    "start_time": "2023-08-16T13:06:16.752Z"
   },
   {
    "duration": 4,
    "start_time": "2023-08-16T13:06:24.227Z"
   },
   {
    "duration": 242,
    "start_time": "2023-08-16T13:06:26.658Z"
   },
   {
    "duration": 15,
    "start_time": "2023-08-16T13:06:27.808Z"
   },
   {
    "duration": 4,
    "start_time": "2023-08-16T13:06:54.881Z"
   },
   {
    "duration": 45,
    "start_time": "2023-08-16T13:06:55.829Z"
   },
   {
    "duration": 3,
    "start_time": "2023-08-16T13:07:04.737Z"
   },
   {
    "duration": 3,
    "start_time": "2023-08-16T13:07:17.870Z"
   },
   {
    "duration": 7,
    "start_time": "2023-08-16T13:07:19.403Z"
   },
   {
    "duration": 37034,
    "start_time": "2023-08-16T13:07:24.459Z"
   },
   {
    "duration": 5,
    "start_time": "2023-08-16T13:08:01.496Z"
   },
   {
    "duration": 3,
    "start_time": "2023-08-16T13:09:02.022Z"
   },
   {
    "duration": 41,
    "start_time": "2023-08-16T13:09:05.009Z"
   },
   {
    "duration": 10,
    "start_time": "2023-08-16T13:09:05.357Z"
   },
   {
    "duration": 3,
    "start_time": "2023-08-16T13:09:20.240Z"
   },
   {
    "duration": 4,
    "start_time": "2023-08-16T13:09:24.806Z"
   },
   {
    "duration": 618803,
    "start_time": "2023-08-16T13:09:27.020Z"
   },
   {
    "duration": 4,
    "start_time": "2023-08-16T13:19:45.826Z"
   },
   {
    "duration": 28,
    "start_time": "2023-08-16T13:19:45.831Z"
   },
   {
    "duration": 291,
    "start_time": "2023-08-16T13:19:45.861Z"
   },
   {
    "duration": 10,
    "start_time": "2023-08-16T13:19:46.154Z"
   },
   {
    "duration": 13,
    "start_time": "2023-08-16T13:19:46.166Z"
   },
   {
    "duration": 11,
    "start_time": "2023-08-16T13:19:46.181Z"
   },
   {
    "duration": 904202,
    "start_time": "2023-08-16T13:19:46.194Z"
   },
   {
    "duration": 7,
    "start_time": "2023-08-16T13:34:50.398Z"
   },
   {
    "duration": 15,
    "start_time": "2023-08-16T13:34:50.496Z"
   },
   {
    "duration": 83,
    "start_time": "2023-08-16T13:34:50.513Z"
   },
   {
    "duration": 108,
    "start_time": "2023-08-16T13:34:50.598Z"
   },
   {
    "duration": 7,
    "start_time": "2023-08-16T13:46:26.037Z"
   },
   {
    "duration": 6,
    "start_time": "2023-08-16T13:48:36.994Z"
   },
   {
    "duration": 19,
    "start_time": "2023-08-16T13:48:37.690Z"
   },
   {
    "duration": 12,
    "start_time": "2023-08-16T13:49:40.331Z"
   },
   {
    "duration": 3,
    "start_time": "2023-08-16T13:49:57.753Z"
   },
   {
    "duration": 4,
    "start_time": "2023-08-16T13:49:58.154Z"
   },
   {
    "duration": 12,
    "start_time": "2023-08-16T13:49:59.182Z"
   },
   {
    "duration": 11,
    "start_time": "2023-08-16T13:50:05.336Z"
   },
   {
    "duration": 9,
    "start_time": "2023-08-16T13:50:15.677Z"
   },
   {
    "duration": 3,
    "start_time": "2023-08-16T13:50:17.448Z"
   },
   {
    "duration": 6,
    "start_time": "2023-08-16T13:50:17.903Z"
   },
   {
    "duration": 16297,
    "start_time": "2023-08-16T13:50:18.769Z"
   },
   {
    "duration": 5,
    "start_time": "2023-08-16T13:50:35.069Z"
   },
   {
    "duration": 4,
    "start_time": "2023-08-16T13:50:52.511Z"
   },
   {
    "duration": 24,
    "start_time": "2023-08-16T13:50:55.469Z"
   },
   {
    "duration": 14,
    "start_time": "2023-08-16T13:50:56.793Z"
   },
   {
    "duration": 2,
    "start_time": "2023-08-16T13:51:11.092Z"
   },
   {
    "duration": 4,
    "start_time": "2023-08-16T13:51:11.817Z"
   },
   {
    "duration": 314860,
    "start_time": "2023-08-16T13:51:26.676Z"
   },
   {
    "duration": 4,
    "start_time": "2023-08-16T13:56:41.538Z"
   },
   {
    "duration": 13,
    "start_time": "2023-08-16T13:56:41.543Z"
   },
   {
    "duration": 119,
    "start_time": "2023-08-16T13:56:41.557Z"
   },
   {
    "duration": 18,
    "start_time": "2023-08-16T13:56:41.678Z"
   },
   {
    "duration": 3,
    "start_time": "2023-08-16T13:57:41.080Z"
   },
   {
    "duration": 195,
    "start_time": "2023-08-16T13:57:41.668Z"
   },
   {
    "duration": 9,
    "start_time": "2023-08-16T13:57:43.466Z"
   },
   {
    "duration": 3,
    "start_time": "2023-08-16T13:58:17.113Z"
   },
   {
    "duration": 3,
    "start_time": "2023-08-16T13:58:19.497Z"
   },
   {
    "duration": 329665,
    "start_time": "2023-08-16T13:58:32.421Z"
   },
   {
    "duration": 8,
    "start_time": "2023-08-16T14:04:02.088Z"
   },
   {
    "duration": 3,
    "start_time": "2023-08-16T14:04:51.805Z"
   },
   {
    "duration": 16,
    "start_time": "2023-08-16T14:04:54.981Z"
   },
   {
    "duration": 13,
    "start_time": "2023-08-16T14:04:55.577Z"
   },
   {
    "duration": 1265,
    "start_time": "2023-08-16T14:06:45.845Z"
   },
   {
    "duration": 48,
    "start_time": "2023-08-16T14:06:47.113Z"
   },
   {
    "duration": 22,
    "start_time": "2023-08-16T14:06:47.163Z"
   },
   {
    "duration": 18,
    "start_time": "2023-08-16T14:06:47.187Z"
   },
   {
    "duration": 9,
    "start_time": "2023-08-16T14:06:47.207Z"
   },
   {
    "duration": 17,
    "start_time": "2023-08-16T14:06:47.218Z"
   },
   {
    "duration": 12,
    "start_time": "2023-08-16T14:06:47.237Z"
   },
   {
    "duration": 17,
    "start_time": "2023-08-16T14:06:47.251Z"
   },
   {
    "duration": 21,
    "start_time": "2023-08-16T14:06:47.269Z"
   },
   {
    "duration": 32,
    "start_time": "2023-08-16T14:06:47.292Z"
   },
   {
    "duration": 33,
    "start_time": "2023-08-16T14:06:47.326Z"
   },
   {
    "duration": 28,
    "start_time": "2023-08-16T14:06:47.360Z"
   },
   {
    "duration": 1859,
    "start_time": "2023-08-16T14:06:47.390Z"
   },
   {
    "duration": 12,
    "start_time": "2023-08-16T14:06:49.250Z"
   },
   {
    "duration": 25,
    "start_time": "2023-08-16T14:06:49.264Z"
   },
   {
    "duration": 41,
    "start_time": "2023-08-16T14:06:49.291Z"
   },
   {
    "duration": 6,
    "start_time": "2023-08-16T14:06:49.334Z"
   },
   {
    "duration": 31,
    "start_time": "2023-08-16T14:06:49.342Z"
   },
   {
    "duration": 33,
    "start_time": "2023-08-16T14:06:49.375Z"
   },
   {
    "duration": 18,
    "start_time": "2023-08-16T14:06:49.411Z"
   },
   {
    "duration": 16,
    "start_time": "2023-08-16T14:06:49.430Z"
   },
   {
    "duration": 17,
    "start_time": "2023-08-16T14:06:49.448Z"
   },
   {
    "duration": 27,
    "start_time": "2023-08-16T14:06:49.467Z"
   },
   {
    "duration": 32,
    "start_time": "2023-08-16T14:06:49.496Z"
   },
   {
    "duration": 23,
    "start_time": "2023-08-16T14:06:49.530Z"
   },
   {
    "duration": 35,
    "start_time": "2023-08-16T14:06:49.555Z"
   },
   {
    "duration": 21,
    "start_time": "2023-08-16T14:06:49.591Z"
   },
   {
    "duration": 21,
    "start_time": "2023-08-16T14:06:49.617Z"
   },
   {
    "duration": 4,
    "start_time": "2023-08-16T14:06:49.640Z"
   },
   {
    "duration": 10,
    "start_time": "2023-08-16T14:06:49.646Z"
   },
   {
    "duration": 13,
    "start_time": "2023-08-16T14:06:49.657Z"
   },
   {
    "duration": 29069,
    "start_time": "2023-08-16T14:06:49.671Z"
   },
   {
    "duration": 4,
    "start_time": "2023-08-16T14:07:18.742Z"
   },
   {
    "duration": 24,
    "start_time": "2023-08-16T14:07:18.747Z"
   },
   {
    "duration": 46,
    "start_time": "2023-08-16T14:07:18.773Z"
   },
   {
    "duration": 11,
    "start_time": "2023-08-16T14:07:18.821Z"
   },
   {
    "duration": 9,
    "start_time": "2023-08-16T14:07:18.833Z"
   },
   {
    "duration": 11,
    "start_time": "2023-08-16T14:07:18.844Z"
   },
   {
    "duration": 485930,
    "start_time": "2023-08-16T14:07:18.857Z"
   },
   {
    "duration": 8,
    "start_time": "2023-08-16T14:15:24.790Z"
   },
   {
    "duration": 52,
    "start_time": "2023-08-16T14:15:24.800Z"
   },
   {
    "duration": 346,
    "start_time": "2023-08-16T14:15:24.855Z"
   },
   {
    "duration": 10,
    "start_time": "2023-08-16T14:15:25.203Z"
   },
   {
    "duration": 14,
    "start_time": "2023-08-16T14:15:25.215Z"
   },
   {
    "duration": 21,
    "start_time": "2023-08-16T14:15:25.231Z"
   },
   {
    "duration": 142768,
    "start_time": "2023-08-16T14:15:25.254Z"
   },
   {
    "duration": 0,
    "start_time": "2023-08-16T14:17:48.025Z"
   },
   {
    "duration": 0,
    "start_time": "2023-08-16T14:17:48.027Z"
   },
   {
    "duration": 0,
    "start_time": "2023-08-16T14:17:48.028Z"
   },
   {
    "duration": 0,
    "start_time": "2023-08-16T14:17:48.030Z"
   },
   {
    "duration": 0,
    "start_time": "2023-08-16T14:17:48.031Z"
   },
   {
    "duration": 0,
    "start_time": "2023-08-16T14:17:48.032Z"
   },
   {
    "duration": 0,
    "start_time": "2023-08-16T14:17:48.034Z"
   },
   {
    "duration": 0,
    "start_time": "2023-08-16T14:17:48.035Z"
   },
   {
    "duration": 0,
    "start_time": "2023-08-16T14:17:48.037Z"
   },
   {
    "duration": 0,
    "start_time": "2023-08-16T14:17:48.038Z"
   },
   {
    "duration": 0,
    "start_time": "2023-08-16T14:17:48.040Z"
   },
   {
    "duration": 0,
    "start_time": "2023-08-16T14:17:48.041Z"
   },
   {
    "duration": 0,
    "start_time": "2023-08-16T14:17:48.042Z"
   },
   {
    "duration": 0,
    "start_time": "2023-08-16T14:17:48.044Z"
   },
   {
    "duration": 0,
    "start_time": "2023-08-16T14:17:48.045Z"
   },
   {
    "duration": 0,
    "start_time": "2023-08-16T14:17:48.048Z"
   },
   {
    "duration": 0,
    "start_time": "2023-08-16T14:17:48.049Z"
   },
   {
    "duration": 0,
    "start_time": "2023-08-16T14:17:48.051Z"
   },
   {
    "duration": 0,
    "start_time": "2023-08-16T14:17:48.053Z"
   },
   {
    "duration": 0,
    "start_time": "2023-08-16T14:17:48.095Z"
   },
   {
    "duration": 0,
    "start_time": "2023-08-16T14:17:48.097Z"
   },
   {
    "duration": 0,
    "start_time": "2023-08-16T14:17:48.098Z"
   },
   {
    "duration": 0,
    "start_time": "2023-08-16T14:17:48.100Z"
   },
   {
    "duration": 0,
    "start_time": "2023-08-16T14:17:48.101Z"
   },
   {
    "duration": 0,
    "start_time": "2023-08-16T14:17:48.103Z"
   },
   {
    "duration": 0,
    "start_time": "2023-08-16T14:17:48.105Z"
   },
   {
    "duration": 0,
    "start_time": "2023-08-16T14:17:48.106Z"
   },
   {
    "duration": 0,
    "start_time": "2023-08-16T14:17:48.108Z"
   },
   {
    "duration": 0,
    "start_time": "2023-08-16T14:17:48.109Z"
   },
   {
    "duration": 0,
    "start_time": "2023-08-16T14:17:48.111Z"
   },
   {
    "duration": 0,
    "start_time": "2023-08-16T14:17:48.112Z"
   },
   {
    "duration": 0,
    "start_time": "2023-08-16T14:17:48.114Z"
   },
   {
    "duration": 0,
    "start_time": "2023-08-16T14:17:48.115Z"
   },
   {
    "duration": 0,
    "start_time": "2023-08-16T14:17:48.116Z"
   },
   {
    "duration": 0,
    "start_time": "2023-08-16T14:17:48.118Z"
   },
   {
    "duration": 0,
    "start_time": "2023-08-16T14:17:48.119Z"
   },
   {
    "duration": 0,
    "start_time": "2023-08-16T14:17:48.121Z"
   },
   {
    "duration": 0,
    "start_time": "2023-08-16T14:17:48.122Z"
   },
   {
    "duration": 0,
    "start_time": "2023-08-16T14:17:48.123Z"
   },
   {
    "duration": 0,
    "start_time": "2023-08-16T14:17:48.125Z"
   },
   {
    "duration": 0,
    "start_time": "2023-08-16T14:17:48.126Z"
   },
   {
    "duration": 0,
    "start_time": "2023-08-16T14:17:48.127Z"
   },
   {
    "duration": 0,
    "start_time": "2023-08-16T14:17:48.129Z"
   },
   {
    "duration": 0,
    "start_time": "2023-08-16T14:17:48.130Z"
   },
   {
    "duration": 0,
    "start_time": "2023-08-16T14:17:48.132Z"
   },
   {
    "duration": 0,
    "start_time": "2023-08-16T14:17:48.195Z"
   },
   {
    "duration": 0,
    "start_time": "2023-08-16T14:17:48.197Z"
   },
   {
    "duration": 0,
    "start_time": "2023-08-16T14:17:48.199Z"
   },
   {
    "duration": 0,
    "start_time": "2023-08-16T14:17:48.200Z"
   },
   {
    "duration": 0,
    "start_time": "2023-08-16T14:17:48.202Z"
   },
   {
    "duration": 3,
    "start_time": "2023-08-16T14:20:22.734Z"
   },
   {
    "duration": 65,
    "start_time": "2023-08-16T14:20:22.739Z"
   },
   {
    "duration": 15,
    "start_time": "2023-08-16T14:20:22.807Z"
   },
   {
    "duration": 27,
    "start_time": "2023-08-16T14:20:22.823Z"
   },
   {
    "duration": 7,
    "start_time": "2023-08-16T14:20:22.852Z"
   },
   {
    "duration": 15,
    "start_time": "2023-08-16T14:20:22.861Z"
   },
   {
    "duration": 31,
    "start_time": "2023-08-16T14:20:22.879Z"
   },
   {
    "duration": 18,
    "start_time": "2023-08-16T14:20:22.912Z"
   },
   {
    "duration": 13,
    "start_time": "2023-08-16T14:20:22.931Z"
   },
   {
    "duration": 32,
    "start_time": "2023-08-16T14:20:22.946Z"
   },
   {
    "duration": 21,
    "start_time": "2023-08-16T14:20:22.981Z"
   },
   {
    "duration": 9,
    "start_time": "2023-08-16T14:20:23.004Z"
   },
   {
    "duration": 1510,
    "start_time": "2023-08-16T14:20:23.015Z"
   },
   {
    "duration": 10,
    "start_time": "2023-08-16T14:20:24.527Z"
   },
   {
    "duration": 35,
    "start_time": "2023-08-16T14:20:24.538Z"
   },
   {
    "duration": 27,
    "start_time": "2023-08-16T14:20:24.575Z"
   },
   {
    "duration": 17,
    "start_time": "2023-08-16T14:20:24.604Z"
   },
   {
    "duration": 13,
    "start_time": "2023-08-16T14:20:24.623Z"
   },
   {
    "duration": 27,
    "start_time": "2023-08-16T14:20:24.638Z"
   },
   {
    "duration": 14,
    "start_time": "2023-08-16T14:20:24.667Z"
   },
   {
    "duration": 19,
    "start_time": "2023-08-16T14:20:24.683Z"
   },
   {
    "duration": 20,
    "start_time": "2023-08-16T14:20:24.704Z"
   },
   {
    "duration": 45,
    "start_time": "2023-08-16T14:20:24.726Z"
   },
   {
    "duration": 16,
    "start_time": "2023-08-16T14:20:24.773Z"
   },
   {
    "duration": 16,
    "start_time": "2023-08-16T14:20:24.791Z"
   },
   {
    "duration": 41,
    "start_time": "2023-08-16T14:20:24.810Z"
   },
   {
    "duration": 19,
    "start_time": "2023-08-16T14:20:24.853Z"
   },
   {
    "duration": 23,
    "start_time": "2023-08-16T14:20:24.874Z"
   },
   {
    "duration": 4,
    "start_time": "2023-08-16T14:20:24.901Z"
   },
   {
    "duration": 16,
    "start_time": "2023-08-16T14:20:24.907Z"
   },
   {
    "duration": 17,
    "start_time": "2023-08-16T14:20:24.925Z"
   },
   {
    "duration": 29668,
    "start_time": "2023-08-16T14:20:24.943Z"
   },
   {
    "duration": 4,
    "start_time": "2023-08-16T14:20:54.613Z"
   },
   {
    "duration": 25,
    "start_time": "2023-08-16T14:20:54.619Z"
   },
   {
    "duration": 44,
    "start_time": "2023-08-16T14:20:54.646Z"
   },
   {
    "duration": 9,
    "start_time": "2023-08-16T14:20:54.692Z"
   },
   {
    "duration": 9,
    "start_time": "2023-08-16T14:20:54.703Z"
   },
   {
    "duration": 22,
    "start_time": "2023-08-16T14:20:54.713Z"
   },
   {
    "duration": 20753,
    "start_time": "2023-08-16T14:20:54.736Z"
   },
   {
    "duration": 0,
    "start_time": "2023-08-16T14:21:15.495Z"
   },
   {
    "duration": 0,
    "start_time": "2023-08-16T14:21:15.496Z"
   },
   {
    "duration": 0,
    "start_time": "2023-08-16T14:21:15.498Z"
   },
   {
    "duration": 0,
    "start_time": "2023-08-16T14:21:15.499Z"
   },
   {
    "duration": 0,
    "start_time": "2023-08-16T14:21:15.500Z"
   },
   {
    "duration": 0,
    "start_time": "2023-08-16T14:21:15.501Z"
   },
   {
    "duration": 0,
    "start_time": "2023-08-16T14:21:15.502Z"
   },
   {
    "duration": 0,
    "start_time": "2023-08-16T14:21:15.503Z"
   },
   {
    "duration": 0,
    "start_time": "2023-08-16T14:21:15.504Z"
   },
   {
    "duration": 0,
    "start_time": "2023-08-16T14:21:15.506Z"
   },
   {
    "duration": 0,
    "start_time": "2023-08-16T14:21:15.507Z"
   },
   {
    "duration": 0,
    "start_time": "2023-08-16T14:21:15.508Z"
   },
   {
    "duration": 0,
    "start_time": "2023-08-16T14:21:15.509Z"
   },
   {
    "duration": 0,
    "start_time": "2023-08-16T14:21:15.510Z"
   },
   {
    "duration": 0,
    "start_time": "2023-08-16T14:21:15.511Z"
   },
   {
    "duration": 0,
    "start_time": "2023-08-16T14:21:15.512Z"
   },
   {
    "duration": 0,
    "start_time": "2023-08-16T14:21:15.514Z"
   },
   {
    "duration": 0,
    "start_time": "2023-08-16T14:21:15.515Z"
   },
   {
    "duration": 0,
    "start_time": "2023-08-16T14:21:15.516Z"
   },
   {
    "duration": 0,
    "start_time": "2023-08-16T14:21:15.518Z"
   },
   {
    "duration": 0,
    "start_time": "2023-08-16T14:21:15.519Z"
   },
   {
    "duration": 0,
    "start_time": "2023-08-16T14:21:15.520Z"
   },
   {
    "duration": 0,
    "start_time": "2023-08-16T14:21:15.522Z"
   },
   {
    "duration": 0,
    "start_time": "2023-08-16T14:21:15.523Z"
   },
   {
    "duration": 0,
    "start_time": "2023-08-16T14:21:15.525Z"
   },
   {
    "duration": 0,
    "start_time": "2023-08-16T14:21:15.526Z"
   },
   {
    "duration": 0,
    "start_time": "2023-08-16T14:21:15.527Z"
   },
   {
    "duration": 0,
    "start_time": "2023-08-16T14:21:15.528Z"
   },
   {
    "duration": 0,
    "start_time": "2023-08-16T14:21:15.530Z"
   },
   {
    "duration": 0,
    "start_time": "2023-08-16T14:21:15.531Z"
   },
   {
    "duration": 0,
    "start_time": "2023-08-16T14:21:15.534Z"
   },
   {
    "duration": 1,
    "start_time": "2023-08-16T14:21:15.534Z"
   },
   {
    "duration": 0,
    "start_time": "2023-08-16T14:21:15.595Z"
   },
   {
    "duration": 0,
    "start_time": "2023-08-16T14:21:15.596Z"
   },
   {
    "duration": 3,
    "start_time": "2023-08-16T14:21:40.482Z"
   },
   {
    "duration": 28,
    "start_time": "2023-08-16T14:21:41.231Z"
   },
   {
    "duration": 11,
    "start_time": "2023-08-16T14:21:43.204Z"
   },
   {
    "duration": 3,
    "start_time": "2023-08-16T14:22:02.443Z"
   },
   {
    "duration": 4,
    "start_time": "2023-08-16T14:22:02.645Z"
   },
   {
    "duration": 489611,
    "start_time": "2023-08-16T14:22:02.832Z"
   },
   {
    "duration": 4,
    "start_time": "2023-08-16T14:30:12.444Z"
   },
   {
    "duration": 3,
    "start_time": "2023-08-16T14:31:44.899Z"
   },
   {
    "duration": 356,
    "start_time": "2023-08-16T14:31:46.480Z"
   },
   {
    "duration": 10,
    "start_time": "2023-08-16T14:31:47.551Z"
   },
   {
    "duration": 7,
    "start_time": "2023-08-16T14:32:05.000Z"
   },
   {
    "duration": 10,
    "start_time": "2023-08-16T14:32:06.460Z"
   },
   {
    "duration": 2,
    "start_time": "2023-08-16T14:32:13.330Z"
   },
   {
    "duration": 3,
    "start_time": "2023-08-16T14:32:14.070Z"
   },
   {
    "duration": 37973,
    "start_time": "2023-08-16T14:32:15.736Z"
   },
   {
    "duration": 4,
    "start_time": "2023-08-16T14:32:53.711Z"
   },
   {
    "duration": 4,
    "start_time": "2023-08-16T14:33:23.816Z"
   },
   {
    "duration": 3,
    "start_time": "2023-08-16T14:33:25.739Z"
   },
   {
    "duration": 46,
    "start_time": "2023-08-16T14:33:26.255Z"
   },
   {
    "duration": 10,
    "start_time": "2023-08-16T14:33:28.128Z"
   },
   {
    "duration": 1173,
    "start_time": "2023-08-16T14:37:39.159Z"
   },
   {
    "duration": 41,
    "start_time": "2023-08-16T14:37:40.334Z"
   },
   {
    "duration": 20,
    "start_time": "2023-08-16T14:37:40.376Z"
   },
   {
    "duration": 16,
    "start_time": "2023-08-16T14:37:40.399Z"
   },
   {
    "duration": 4,
    "start_time": "2023-08-16T14:37:40.535Z"
   },
   {
    "duration": 3,
    "start_time": "2023-08-16T14:37:40.750Z"
   },
   {
    "duration": 5,
    "start_time": "2023-08-16T14:37:40.943Z"
   },
   {
    "duration": 9,
    "start_time": "2023-08-16T14:37:41.350Z"
   },
   {
    "duration": 5,
    "start_time": "2023-08-16T14:37:41.754Z"
   },
   {
    "duration": 9,
    "start_time": "2023-08-16T14:37:41.970Z"
   },
   {
    "duration": 13,
    "start_time": "2023-08-16T14:37:42.403Z"
   },
   {
    "duration": 5,
    "start_time": "2023-08-16T14:37:43.106Z"
   },
   {
    "duration": 1686,
    "start_time": "2023-08-16T14:37:43.714Z"
   },
   {
    "duration": 10,
    "start_time": "2023-08-16T14:37:45.402Z"
   },
   {
    "duration": 90,
    "start_time": "2023-08-16T14:37:45.414Z"
   },
   {
    "duration": 56,
    "start_time": "2023-08-16T14:37:45.506Z"
   },
   {
    "duration": 68,
    "start_time": "2023-08-16T14:37:45.563Z"
   },
   {
    "duration": 47,
    "start_time": "2023-08-16T14:37:45.633Z"
   },
   {
    "duration": 56,
    "start_time": "2023-08-16T14:37:45.681Z"
   },
   {
    "duration": 4,
    "start_time": "2023-08-16T14:37:46.218Z"
   },
   {
    "duration": 4,
    "start_time": "2023-08-16T14:37:46.476Z"
   },
   {
    "duration": 6,
    "start_time": "2023-08-16T14:37:47.723Z"
   },
   {
    "duration": 12,
    "start_time": "2023-08-16T14:37:49.295Z"
   },
   {
    "duration": 4,
    "start_time": "2023-08-16T14:37:50.387Z"
   },
   {
    "duration": 9,
    "start_time": "2023-08-16T14:37:51.425Z"
   },
   {
    "duration": 20,
    "start_time": "2023-08-16T14:37:51.967Z"
   },
   {
    "duration": 21,
    "start_time": "2023-08-16T14:37:53.446Z"
   },
   {
    "duration": 20,
    "start_time": "2023-08-16T14:37:55.096Z"
   },
   {
    "duration": 4,
    "start_time": "2023-08-16T14:37:57.310Z"
   },
   {
    "duration": 3,
    "start_time": "2023-08-16T14:38:01.765Z"
   },
   {
    "duration": 3,
    "start_time": "2023-08-16T14:38:02.324Z"
   },
   {
    "duration": 27550,
    "start_time": "2023-08-16T14:38:06.023Z"
   },
   {
    "duration": 4,
    "start_time": "2023-08-16T14:38:33.574Z"
   },
   {
    "duration": 3,
    "start_time": "2023-08-16T14:38:53.493Z"
   },
   {
    "duration": 27,
    "start_time": "2023-08-16T14:38:53.711Z"
   },
   {
    "duration": 9,
    "start_time": "2023-08-16T14:38:53.974Z"
   },
   {
    "duration": 3,
    "start_time": "2023-08-16T14:39:20.211Z"
   },
   {
    "duration": 3,
    "start_time": "2023-08-16T14:39:20.700Z"
   },
   {
    "duration": 500918,
    "start_time": "2023-08-16T14:39:22.391Z"
   },
   {
    "duration": 7,
    "start_time": "2023-08-16T14:47:43.311Z"
   },
   {
    "duration": 3,
    "start_time": "2023-08-16T14:50:17.669Z"
   },
   {
    "duration": 344,
    "start_time": "2023-08-16T14:50:18.176Z"
   },
   {
    "duration": 14,
    "start_time": "2023-08-16T14:50:18.694Z"
   },
   {
    "duration": 4,
    "start_time": "2023-08-16T14:50:36.322Z"
   },
   {
    "duration": 6,
    "start_time": "2023-08-16T14:50:36.541Z"
   },
   {
    "duration": 843600,
    "start_time": "2023-08-16T14:50:41.113Z"
   },
   {
    "duration": 6,
    "start_time": "2023-08-16T15:04:44.797Z"
   },
   {
    "duration": 3,
    "start_time": "2023-08-16T15:08:28.354Z"
   },
   {
    "duration": 129,
    "start_time": "2023-08-16T15:08:28.679Z"
   },
   {
    "duration": 13,
    "start_time": "2023-08-16T15:08:29.017Z"
   },
   {
    "duration": 4,
    "start_time": "2023-08-16T15:08:35.330Z"
   },
   {
    "duration": 28,
    "start_time": "2023-08-16T15:08:37.655Z"
   },
   {
    "duration": 3,
    "start_time": "2023-08-16T15:08:39.498Z"
   },
   {
    "duration": 4,
    "start_time": "2023-08-16T15:08:40.088Z"
   },
   {
    "duration": 39611,
    "start_time": "2023-08-16T15:09:02.243Z"
   },
   {
    "duration": 5,
    "start_time": "2023-08-16T15:09:41.857Z"
   },
   {
    "duration": 4,
    "start_time": "2023-08-16T15:09:55.448Z"
   },
   {
    "duration": 40,
    "start_time": "2023-08-16T15:09:56.144Z"
   },
   {
    "duration": 13,
    "start_time": "2023-08-16T15:09:56.647Z"
   },
   {
    "duration": 3,
    "start_time": "2023-08-16T15:10:15.613Z"
   },
   {
    "duration": 30,
    "start_time": "2023-08-16T15:10:15.970Z"
   },
   {
    "duration": 10,
    "start_time": "2023-08-16T15:10:17.231Z"
   },
   {
    "duration": 3,
    "start_time": "2023-08-16T15:10:25.165Z"
   },
   {
    "duration": 22,
    "start_time": "2023-08-16T15:10:26.909Z"
   },
   {
    "duration": 13,
    "start_time": "2023-08-16T15:10:27.454Z"
   },
   {
    "duration": 3,
    "start_time": "2023-08-16T15:10:36.391Z"
   },
   {
    "duration": 37,
    "start_time": "2023-08-16T15:10:36.761Z"
   },
   {
    "duration": 13,
    "start_time": "2023-08-16T15:10:37.105Z"
   },
   {
    "duration": 3,
    "start_time": "2023-08-16T15:11:00.601Z"
   },
   {
    "duration": 59,
    "start_time": "2023-08-16T15:11:00.955Z"
   },
   {
    "duration": 11,
    "start_time": "2023-08-16T15:11:01.256Z"
   },
   {
    "duration": 3,
    "start_time": "2023-08-16T15:12:07.389Z"
   },
   {
    "duration": 28,
    "start_time": "2023-08-16T15:12:07.559Z"
   },
   {
    "duration": 11,
    "start_time": "2023-08-16T15:12:08.085Z"
   },
   {
    "duration": 3,
    "start_time": "2023-08-16T15:12:11.476Z"
   },
   {
    "duration": 38,
    "start_time": "2023-08-16T15:12:11.682Z"
   },
   {
    "duration": 13,
    "start_time": "2023-08-16T15:12:11.895Z"
   },
   {
    "duration": 3,
    "start_time": "2023-08-16T15:12:17.815Z"
   },
   {
    "duration": 30,
    "start_time": "2023-08-16T15:12:18.018Z"
   },
   {
    "duration": 13,
    "start_time": "2023-08-16T15:12:18.309Z"
   },
   {
    "duration": 3,
    "start_time": "2023-08-16T15:12:22.083Z"
   },
   {
    "duration": 35,
    "start_time": "2023-08-16T15:12:22.303Z"
   },
   {
    "duration": 12,
    "start_time": "2023-08-16T15:12:22.567Z"
   },
   {
    "duration": 3,
    "start_time": "2023-08-16T15:12:26.102Z"
   },
   {
    "duration": 45,
    "start_time": "2023-08-16T15:12:26.326Z"
   },
   {
    "duration": 13,
    "start_time": "2023-08-16T15:12:26.583Z"
   },
   {
    "duration": 3,
    "start_time": "2023-08-16T15:12:29.445Z"
   },
   {
    "duration": 35,
    "start_time": "2023-08-16T15:12:29.652Z"
   },
   {
    "duration": 9,
    "start_time": "2023-08-16T15:12:29.903Z"
   },
   {
    "duration": 3,
    "start_time": "2023-08-16T15:12:33.173Z"
   },
   {
    "duration": 46,
    "start_time": "2023-08-16T15:12:33.419Z"
   },
   {
    "duration": 10,
    "start_time": "2023-08-16T15:12:33.711Z"
   },
   {
    "duration": 3,
    "start_time": "2023-08-16T15:12:38.262Z"
   },
   {
    "duration": 38,
    "start_time": "2023-08-16T15:12:38.463Z"
   },
   {
    "duration": 12,
    "start_time": "2023-08-16T15:12:38.838Z"
   },
   {
    "duration": 3,
    "start_time": "2023-08-16T15:12:42.595Z"
   },
   {
    "duration": 29,
    "start_time": "2023-08-16T15:12:42.845Z"
   },
   {
    "duration": 9,
    "start_time": "2023-08-16T15:12:43.199Z"
   },
   {
    "duration": 4,
    "start_time": "2023-08-16T15:12:47.023Z"
   },
   {
    "duration": 28,
    "start_time": "2023-08-16T15:12:47.271Z"
   },
   {
    "duration": 10,
    "start_time": "2023-08-16T15:12:47.518Z"
   },
   {
    "duration": 2,
    "start_time": "2023-08-16T15:12:51.178Z"
   },
   {
    "duration": 33,
    "start_time": "2023-08-16T15:12:51.411Z"
   },
   {
    "duration": 9,
    "start_time": "2023-08-16T15:12:51.646Z"
   },
   {
    "duration": 3,
    "start_time": "2023-08-16T15:13:42.707Z"
   },
   {
    "duration": 4,
    "start_time": "2023-08-16T15:13:42.974Z"
   },
   {
    "duration": 656973,
    "start_time": "2023-08-16T15:13:43.453Z"
   },
   {
    "duration": 4,
    "start_time": "2023-08-16T15:24:40.428Z"
   },
   {
    "duration": 4,
    "start_time": "2023-08-16T15:25:06.854Z"
   },
   {
    "duration": 397,
    "start_time": "2023-08-16T15:25:07.254Z"
   },
   {
    "duration": 10,
    "start_time": "2023-08-16T15:25:08.117Z"
   },
   {
    "duration": 3,
    "start_time": "2023-08-16T15:25:19.458Z"
   },
   {
    "duration": 250,
    "start_time": "2023-08-16T15:25:20.316Z"
   },
   {
    "duration": 11,
    "start_time": "2023-08-16T15:25:20.569Z"
   },
   {
    "duration": 4,
    "start_time": "2023-08-16T15:25:24.960Z"
   },
   {
    "duration": 263,
    "start_time": "2023-08-16T15:25:25.271Z"
   },
   {
    "duration": 9,
    "start_time": "2023-08-16T15:25:25.536Z"
   },
   {
    "duration": 8,
    "start_time": "2023-08-16T15:25:28.701Z"
   },
   {
    "duration": 299,
    "start_time": "2023-08-16T15:25:28.959Z"
   },
   {
    "duration": 9,
    "start_time": "2023-08-16T15:25:29.265Z"
   },
   {
    "duration": 4,
    "start_time": "2023-08-16T15:25:32.887Z"
   },
   {
    "duration": 284,
    "start_time": "2023-08-16T15:25:33.117Z"
   },
   {
    "duration": 9,
    "start_time": "2023-08-16T15:25:33.429Z"
   },
   {
    "duration": 4,
    "start_time": "2023-08-16T15:25:37.517Z"
   },
   {
    "duration": 334,
    "start_time": "2023-08-16T15:25:37.811Z"
   },
   {
    "duration": 10,
    "start_time": "2023-08-16T15:25:38.147Z"
   },
   {
    "duration": 4,
    "start_time": "2023-08-16T15:25:42.686Z"
   },
   {
    "duration": 357,
    "start_time": "2023-08-16T15:25:42.964Z"
   },
   {
    "duration": 9,
    "start_time": "2023-08-16T15:25:43.323Z"
   },
   {
    "duration": 3,
    "start_time": "2023-08-16T15:25:49.044Z"
   },
   {
    "duration": 348,
    "start_time": "2023-08-16T15:25:49.292Z"
   },
   {
    "duration": 9,
    "start_time": "2023-08-16T15:25:49.642Z"
   },
   {
    "duration": 3,
    "start_time": "2023-08-16T15:26:40.714Z"
   },
   {
    "duration": 4,
    "start_time": "2023-08-16T15:26:41.709Z"
   },
   {
    "duration": 1006155,
    "start_time": "2023-08-16T15:26:42.055Z"
   },
   {
    "duration": 4,
    "start_time": "2023-08-16T15:43:28.211Z"
   },
   {
    "duration": 4,
    "start_time": "2023-08-16T15:44:13.225Z"
   },
   {
    "duration": 29,
    "start_time": "2023-08-16T15:44:13.858Z"
   },
   {
    "duration": 8,
    "start_time": "2023-08-16T15:44:16.464Z"
   },
   {
    "duration": 3,
    "start_time": "2023-08-16T15:44:32.911Z"
   },
   {
    "duration": 3,
    "start_time": "2023-08-16T15:44:44.610Z"
   },
   {
    "duration": 23,
    "start_time": "2023-08-16T15:44:45.033Z"
   },
   {
    "duration": 10,
    "start_time": "2023-08-16T15:44:45.439Z"
   },
   {
    "duration": 3,
    "start_time": "2023-08-16T15:44:56.465Z"
   },
   {
    "duration": 24,
    "start_time": "2023-08-16T15:44:56.759Z"
   },
   {
    "duration": 9,
    "start_time": "2023-08-16T15:44:57.087Z"
   },
   {
    "duration": 3,
    "start_time": "2023-08-16T15:45:07.064Z"
   },
   {
    "duration": 27,
    "start_time": "2023-08-16T15:45:07.395Z"
   },
   {
    "duration": 10,
    "start_time": "2023-08-16T15:45:08.124Z"
   },
   {
    "duration": 2,
    "start_time": "2023-08-16T15:45:10.776Z"
   },
   {
    "duration": 10,
    "start_time": "2023-08-16T15:45:26.265Z"
   },
   {
    "duration": 5,
    "start_time": "2023-08-16T15:45:39.673Z"
   },
   {
    "duration": 10,
    "start_time": "2023-08-16T15:45:41.855Z"
   },
   {
    "duration": 2,
    "start_time": "2023-08-16T15:46:05.883Z"
   },
   {
    "duration": 19,
    "start_time": "2023-08-16T15:46:07.778Z"
   },
   {
    "duration": 12,
    "start_time": "2023-08-16T15:46:08.195Z"
   },
   {
    "duration": 2,
    "start_time": "2023-08-16T15:46:18.143Z"
   },
   {
    "duration": 18,
    "start_time": "2023-08-16T15:46:18.447Z"
   },
   {
    "duration": 9,
    "start_time": "2023-08-16T15:46:18.761Z"
   },
   {
    "duration": 3,
    "start_time": "2023-08-16T15:46:24.144Z"
   },
   {
    "duration": 20,
    "start_time": "2023-08-16T15:46:24.333Z"
   },
   {
    "duration": 8,
    "start_time": "2023-08-16T15:46:24.567Z"
   },
   {
    "duration": 4,
    "start_time": "2023-08-16T15:46:37.939Z"
   },
   {
    "duration": 16,
    "start_time": "2023-08-16T15:46:38.169Z"
   },
   {
    "duration": 10,
    "start_time": "2023-08-16T15:46:38.678Z"
   },
   {
    "duration": 3,
    "start_time": "2023-08-16T15:47:18.814Z"
   },
   {
    "duration": 3,
    "start_time": "2023-08-16T15:48:08.968Z"
   },
   {
    "duration": 161,
    "start_time": "2023-08-16T15:48:09.179Z"
   },
   {
    "duration": 8,
    "start_time": "2023-08-16T15:48:09.580Z"
   },
   {
    "duration": 3,
    "start_time": "2023-08-16T15:49:24.555Z"
   },
   {
    "duration": 3,
    "start_time": "2023-08-16T15:49:26.995Z"
   },
   {
    "duration": 17,
    "start_time": "2023-08-16T15:49:27.178Z"
   },
   {
    "duration": 9,
    "start_time": "2023-08-16T15:49:27.396Z"
   },
   {
    "duration": 3,
    "start_time": "2023-08-16T15:52:38.905Z"
   },
   {
    "duration": 9,
    "start_time": "2023-08-16T15:52:49.031Z"
   },
   {
    "duration": 8,
    "start_time": "2023-08-16T15:52:59.828Z"
   },
   {
    "duration": 9,
    "start_time": "2023-08-16T15:53:23.102Z"
   },
   {
    "duration": 15,
    "start_time": "2023-08-16T15:59:10.033Z"
   },
   {
    "duration": 6,
    "start_time": "2023-08-16T16:05:36.843Z"
   },
   {
    "duration": 4,
    "start_time": "2023-08-16T16:07:58.577Z"
   },
   {
    "duration": 2,
    "start_time": "2023-08-16T16:07:59.134Z"
   },
   {
    "duration": 74,
    "start_time": "2023-08-16T16:07:59.771Z"
   },
   {
    "duration": 430,
    "start_time": "2023-08-16T16:08:06.110Z"
   },
   {
    "duration": 10,
    "start_time": "2023-08-16T16:08:14.875Z"
   },
   {
    "duration": 4,
    "start_time": "2023-08-16T16:15:55.751Z"
   },
   {
    "duration": 22,
    "start_time": "2023-08-16T16:19:28.133Z"
   },
   {
    "duration": 239,
    "start_time": "2023-08-16T16:19:28.983Z"
   },
   {
    "duration": 4,
    "start_time": "2023-08-16T16:20:37.984Z"
   },
   {
    "duration": 134,
    "start_time": "2023-08-16T16:20:49.279Z"
   },
   {
    "duration": 11,
    "start_time": "2023-08-16T16:24:38.232Z"
   },
   {
    "duration": 4,
    "start_time": "2023-08-16T16:25:07.255Z"
   },
   {
    "duration": 131,
    "start_time": "2023-08-16T16:25:13.884Z"
   },
   {
    "duration": 14,
    "start_time": "2023-08-16T16:26:01.477Z"
   },
   {
    "duration": 266,
    "start_time": "2023-08-16T16:26:36.307Z"
   },
   {
    "duration": 136,
    "start_time": "2023-08-16T16:26:47.061Z"
   },
   {
    "duration": 156,
    "start_time": "2023-08-16T16:28:02.899Z"
   },
   {
    "duration": 11,
    "start_time": "2023-08-16T16:33:05.912Z"
   },
   {
    "duration": 118,
    "start_time": "2023-08-16T17:34:14.313Z"
   },
   {
    "duration": 2534,
    "start_time": "2023-08-16T17:37:55.031Z"
   },
   {
    "duration": 180,
    "start_time": "2023-08-16T17:37:57.570Z"
   },
   {
    "duration": 23,
    "start_time": "2023-08-16T17:37:57.752Z"
   },
   {
    "duration": 19,
    "start_time": "2023-08-16T17:37:57.777Z"
   },
   {
    "duration": 3,
    "start_time": "2023-08-16T17:37:57.798Z"
   },
   {
    "duration": 4,
    "start_time": "2023-08-16T17:37:57.804Z"
   },
   {
    "duration": 6,
    "start_time": "2023-08-16T17:37:57.810Z"
   },
   {
    "duration": 9,
    "start_time": "2023-08-16T17:37:57.818Z"
   },
   {
    "duration": 35,
    "start_time": "2023-08-16T17:37:57.828Z"
   },
   {
    "duration": 9,
    "start_time": "2023-08-16T17:37:57.873Z"
   },
   {
    "duration": 13,
    "start_time": "2023-08-16T17:37:57.884Z"
   },
   {
    "duration": 4,
    "start_time": "2023-08-16T17:37:57.899Z"
   },
   {
    "duration": 1668,
    "start_time": "2023-08-16T17:37:57.904Z"
   },
   {
    "duration": 13,
    "start_time": "2023-08-16T17:37:59.574Z"
   },
   {
    "duration": 8,
    "start_time": "2023-08-16T17:37:59.589Z"
   },
   {
    "duration": 13,
    "start_time": "2023-08-16T17:37:59.598Z"
   },
   {
    "duration": 4,
    "start_time": "2023-08-16T17:37:59.613Z"
   },
   {
    "duration": 6,
    "start_time": "2023-08-16T17:37:59.619Z"
   },
   {
    "duration": 11,
    "start_time": "2023-08-16T17:37:59.627Z"
   },
   {
    "duration": 9,
    "start_time": "2023-08-16T17:37:59.658Z"
   },
   {
    "duration": 4,
    "start_time": "2023-08-16T17:37:59.668Z"
   },
   {
    "duration": 6,
    "start_time": "2023-08-16T17:37:59.674Z"
   },
   {
    "duration": 19,
    "start_time": "2023-08-16T17:37:59.682Z"
   },
   {
    "duration": 7,
    "start_time": "2023-08-16T17:37:59.703Z"
   },
   {
    "duration": 14,
    "start_time": "2023-08-16T17:37:59.712Z"
   },
   {
    "duration": 41,
    "start_time": "2023-08-16T17:37:59.728Z"
   },
   {
    "duration": 20,
    "start_time": "2023-08-16T17:37:59.770Z"
   },
   {
    "duration": 20,
    "start_time": "2023-08-16T17:37:59.794Z"
   },
   {
    "duration": 4,
    "start_time": "2023-08-16T17:37:59.816Z"
   },
   {
    "duration": 10,
    "start_time": "2023-08-16T17:37:59.821Z"
   },
   {
    "duration": 8,
    "start_time": "2023-08-16T17:37:59.833Z"
   },
   {
    "duration": 27538,
    "start_time": "2023-08-16T17:37:59.843Z"
   },
   {
    "duration": 4,
    "start_time": "2023-08-16T17:38:27.383Z"
   },
   {
    "duration": 4,
    "start_time": "2023-08-16T17:38:27.389Z"
   },
   {
    "duration": 28,
    "start_time": "2023-08-16T17:38:27.395Z"
   },
   {
    "duration": 8,
    "start_time": "2023-08-16T17:38:27.425Z"
   },
   {
    "duration": 27,
    "start_time": "2023-08-16T17:38:27.434Z"
   },
   {
    "duration": 6,
    "start_time": "2023-08-16T17:38:27.465Z"
   },
   {
    "duration": 455743,
    "start_time": "2023-08-16T17:38:27.473Z"
   },
   {
    "duration": 4,
    "start_time": "2023-08-16T17:46:03.218Z"
   },
   {
    "duration": 21,
    "start_time": "2023-08-16T17:46:03.223Z"
   },
   {
    "duration": 322,
    "start_time": "2023-08-16T17:46:03.246Z"
   },
   {
    "duration": 10,
    "start_time": "2023-08-16T17:46:03.572Z"
   },
   {
    "duration": 32,
    "start_time": "2023-08-16T17:46:03.584Z"
   },
   {
    "duration": 24,
    "start_time": "2023-08-16T17:46:03.619Z"
   },
   {
    "duration": 47,
    "start_time": "2023-08-16T18:06:26.048Z"
   },
   {
    "duration": 39,
    "start_time": "2023-08-16T18:06:39.994Z"
   },
   {
    "duration": 38,
    "start_time": "2023-08-16T18:06:46.977Z"
   },
   {
    "duration": 72,
    "start_time": "2023-08-16T18:07:12.015Z"
   },
   {
    "duration": 1737,
    "start_time": "2023-08-16T18:07:16.978Z"
   },
   {
    "duration": 34,
    "start_time": "2023-08-16T18:07:20.165Z"
   },
   {
    "duration": 182,
    "start_time": "2023-08-16T18:07:21.376Z"
   },
   {
    "duration": 21,
    "start_time": "2023-08-16T18:07:23.126Z"
   },
   {
    "duration": 30,
    "start_time": "2023-08-16T18:07:23.872Z"
   },
   {
    "duration": 4,
    "start_time": "2023-08-16T18:07:27.175Z"
   },
   {
    "duration": 5,
    "start_time": "2023-08-16T18:07:29.576Z"
   },
   {
    "duration": 5,
    "start_time": "2023-08-16T18:07:30.698Z"
   },
   {
    "duration": 10,
    "start_time": "2023-08-16T18:07:36.613Z"
   },
   {
    "duration": 4,
    "start_time": "2023-08-16T18:21:52.040Z"
   },
   {
    "duration": 10,
    "start_time": "2023-08-16T18:22:34.112Z"
   },
   {
    "duration": 11,
    "start_time": "2023-08-16T18:22:37.240Z"
   },
   {
    "duration": 15,
    "start_time": "2023-08-16T18:22:40.002Z"
   },
   {
    "duration": 5,
    "start_time": "2023-08-16T18:22:42.306Z"
   },
   {
    "duration": 1813,
    "start_time": "2023-08-16T18:22:45.952Z"
   },
   {
    "duration": 1540,
    "start_time": "2023-08-17T10:22:56.836Z"
   },
   {
    "duration": 39,
    "start_time": "2023-08-17T10:22:58.378Z"
   },
   {
    "duration": 169,
    "start_time": "2023-08-17T10:23:01.334Z"
   },
   {
    "duration": 16,
    "start_time": "2023-08-17T10:23:02.626Z"
   },
   {
    "duration": 13,
    "start_time": "2023-08-17T10:23:04.578Z"
   },
   {
    "duration": 4,
    "start_time": "2023-08-17T10:23:07.393Z"
   },
   {
    "duration": 4,
    "start_time": "2023-08-17T10:23:08.341Z"
   },
   {
    "duration": 4,
    "start_time": "2023-08-17T10:23:08.764Z"
   },
   {
    "duration": 10,
    "start_time": "2023-08-17T10:23:11.342Z"
   },
   {
    "duration": 2,
    "start_time": "2023-08-17T10:23:14.594Z"
   },
   {
    "duration": 2,
    "start_time": "2023-08-17T10:23:17.762Z"
   },
   {
    "duration": 4,
    "start_time": "2023-08-17T10:23:18.300Z"
   },
   {
    "duration": 13087,
    "start_time": "2023-08-17T10:24:31.802Z"
   },
   {
    "duration": 9,
    "start_time": "2023-08-17T10:24:47.137Z"
   },
   {
    "duration": 11,
    "start_time": "2023-08-17T10:24:49.716Z"
   },
   {
    "duration": 5,
    "start_time": "2023-08-17T10:24:52.427Z"
   },
   {
    "duration": 1451,
    "start_time": "2023-08-17T10:25:03.205Z"
   },
   {
    "duration": 9,
    "start_time": "2023-08-17T10:26:13.463Z"
   },
   {
    "duration": 15,
    "start_time": "2023-08-17T10:26:16.293Z"
   },
   {
    "duration": 5,
    "start_time": "2023-08-17T10:26:18.010Z"
   },
   {
    "duration": 1308,
    "start_time": "2023-08-17T10:26:21.623Z"
   },
   {
    "duration": 9,
    "start_time": "2023-08-17T10:26:23.292Z"
   },
   {
    "duration": 3,
    "start_time": "2023-08-17T10:30:12.274Z"
   },
   {
    "duration": 11,
    "start_time": "2023-08-17T10:30:12.570Z"
   },
   {
    "duration": 6,
    "start_time": "2023-08-17T10:30:15.219Z"
   },
   {
    "duration": 7,
    "start_time": "2023-08-17T10:30:15.612Z"
   },
   {
    "duration": 7,
    "start_time": "2023-08-17T10:30:18.841Z"
   },
   {
    "duration": 5,
    "start_time": "2023-08-17T10:30:23.362Z"
   },
   {
    "duration": 5,
    "start_time": "2023-08-17T10:30:24.092Z"
   },
   {
    "duration": 6,
    "start_time": "2023-08-17T10:30:28.764Z"
   },
   {
    "duration": 16,
    "start_time": "2023-08-17T10:30:33.100Z"
   },
   {
    "duration": 3,
    "start_time": "2023-08-17T10:30:44.000Z"
   },
   {
    "duration": 10,
    "start_time": "2023-08-17T10:30:44.369Z"
   },
   {
    "duration": 30,
    "start_time": "2023-08-17T10:30:44.692Z"
   },
   {
    "duration": 28,
    "start_time": "2023-08-17T10:32:00.301Z"
   },
   {
    "duration": 25,
    "start_time": "2023-08-17T10:32:02.958Z"
   },
   {
    "duration": 4,
    "start_time": "2023-08-17T10:32:19.120Z"
   },
   {
    "duration": 3,
    "start_time": "2023-08-17T10:32:29.705Z"
   },
   {
    "duration": 3,
    "start_time": "2023-08-17T10:32:30.242Z"
   },
   {
    "duration": 3,
    "start_time": "2023-08-17T10:34:58.735Z"
   },
   {
    "duration": 28,
    "start_time": "2023-08-17T10:34:59.294Z"
   },
   {
    "duration": 8,
    "start_time": "2023-08-17T10:35:21.614Z"
   },
   {
    "duration": 3,
    "start_time": "2023-08-17T10:35:27.197Z"
   },
   {
    "duration": 3,
    "start_time": "2023-08-17T10:35:28.145Z"
   },
   {
    "duration": 3,
    "start_time": "2023-08-17T10:35:31.075Z"
   },
   {
    "duration": 291,
    "start_time": "2023-08-17T10:35:31.714Z"
   },
   {
    "duration": 8,
    "start_time": "2023-08-17T10:35:33.119Z"
   },
   {
    "duration": 3,
    "start_time": "2023-08-17T10:35:40.034Z"
   },
   {
    "duration": 3,
    "start_time": "2023-08-17T10:35:42.826Z"
   },
   {
    "duration": 723,
    "start_time": "2023-08-17T10:35:43.165Z"
   },
   {
    "duration": 10,
    "start_time": "2023-08-17T10:35:45.193Z"
   },
   {
    "duration": 5,
    "start_time": "2023-08-17T10:35:52.529Z"
   },
   {
    "duration": 10,
    "start_time": "2023-08-17T10:35:53.121Z"
   },
   {
    "duration": 6,
    "start_time": "2023-08-17T10:41:02.839Z"
   },
   {
    "duration": 71,
    "start_time": "2023-08-17T10:41:44.498Z"
   },
   {
    "duration": 3,
    "start_time": "2023-08-17T10:42:16.999Z"
   },
   {
    "duration": 3,
    "start_time": "2023-08-17T10:42:17.512Z"
   },
   {
    "duration": 3,
    "start_time": "2023-08-17T10:42:20.039Z"
   },
   {
    "duration": 35,
    "start_time": "2023-08-17T10:42:20.270Z"
   },
   {
    "duration": 9,
    "start_time": "2023-08-17T10:42:20.849Z"
   },
   {
    "duration": 4,
    "start_time": "2023-08-17T10:43:50.312Z"
   },
   {
    "duration": 3,
    "start_time": "2023-08-17T10:43:50.762Z"
   },
   {
    "duration": 2,
    "start_time": "2023-08-17T10:43:53.059Z"
   },
   {
    "duration": 376,
    "start_time": "2023-08-17T10:43:53.549Z"
   },
   {
    "duration": 8,
    "start_time": "2023-08-17T10:43:55.263Z"
   },
   {
    "duration": 3,
    "start_time": "2023-08-17T10:43:57.069Z"
   },
   {
    "duration": 3,
    "start_time": "2023-08-17T10:43:59.275Z"
   },
   {
    "duration": 76,
    "start_time": "2023-08-17T10:43:59.600Z"
   },
   {
    "duration": 12,
    "start_time": "2023-08-17T10:44:00.973Z"
   },
   {
    "duration": 13,
    "start_time": "2023-08-17T10:44:10.075Z"
   },
   {
    "duration": 4,
    "start_time": "2023-08-17T10:44:18.247Z"
   },
   {
    "duration": 8,
    "start_time": "2023-08-17T10:44:18.943Z"
   },
   {
    "duration": 2,
    "start_time": "2023-08-17T10:44:45.515Z"
   },
   {
    "duration": 4,
    "start_time": "2023-08-17T10:44:46.512Z"
   },
   {
    "duration": 3,
    "start_time": "2023-08-17T10:44:49.360Z"
   },
   {
    "duration": 21,
    "start_time": "2023-08-17T10:44:49.537Z"
   },
   {
    "duration": 14,
    "start_time": "2023-08-17T10:44:49.696Z"
   },
   {
    "duration": 3,
    "start_time": "2023-08-17T10:44:57.194Z"
   },
   {
    "duration": 3,
    "start_time": "2023-08-17T10:44:57.496Z"
   },
   {
    "duration": 3,
    "start_time": "2023-08-17T10:44:59.840Z"
   },
   {
    "duration": 168,
    "start_time": "2023-08-17T10:45:00.031Z"
   },
   {
    "duration": 12,
    "start_time": "2023-08-17T10:45:00.245Z"
   },
   {
    "duration": 3,
    "start_time": "2023-08-17T10:45:09.443Z"
   },
   {
    "duration": 3,
    "start_time": "2023-08-17T10:45:12.040Z"
   },
   {
    "duration": 180,
    "start_time": "2023-08-17T10:45:12.296Z"
   },
   {
    "duration": 13,
    "start_time": "2023-08-17T10:45:14.394Z"
   },
   {
    "duration": 6,
    "start_time": "2023-08-17T10:45:16.204Z"
   },
   {
    "duration": 9,
    "start_time": "2023-08-17T10:45:16.594Z"
   },
   {
    "duration": 10,
    "start_time": "2023-08-17T10:45:17.811Z"
   },
   {
    "duration": 13,
    "start_time": "2023-08-17T10:45:27.906Z"
   },
   {
    "duration": 8,
    "start_time": "2023-08-17T10:45:28.272Z"
   },
   {
    "duration": 4,
    "start_time": "2023-08-17T10:45:30.828Z"
   },
   {
    "duration": 478,
    "start_time": "2023-08-17T10:45:30.834Z"
   },
   {
    "duration": 10,
    "start_time": "2023-08-17T10:45:31.315Z"
   },
   {
    "duration": 23,
    "start_time": "2023-08-17T10:46:23.205Z"
   },
   {
    "duration": 156,
    "start_time": "2023-08-17T10:46:23.644Z"
   },
   {
    "duration": 130,
    "start_time": "2023-08-17T10:46:30.131Z"
   },
   {
    "duration": 67,
    "start_time": "2023-08-17T10:47:51.604Z"
   },
   {
    "duration": 119,
    "start_time": "2023-08-17T10:47:56.770Z"
   },
   {
    "duration": 10,
    "start_time": "2023-08-17T10:57:25.623Z"
   },
   {
    "duration": 12,
    "start_time": "2023-08-17T10:57:50.461Z"
   },
   {
    "duration": 3,
    "start_time": "2023-08-17T10:58:13.236Z"
   },
   {
    "duration": 436,
    "start_time": "2023-08-17T10:58:13.963Z"
   },
   {
    "duration": 11,
    "start_time": "2023-08-17T10:58:15.088Z"
   },
   {
    "duration": 54,
    "start_time": "2023-08-17T10:58:20.955Z"
   },
   {
    "duration": 13,
    "start_time": "2023-08-17T10:58:24.700Z"
   },
   {
    "duration": 150,
    "start_time": "2023-08-17T10:58:48.919Z"
   },
   {
    "duration": 20,
    "start_time": "2023-08-17T11:00:56.598Z"
   },
   {
    "duration": 230,
    "start_time": "2023-08-17T11:00:57.218Z"
   },
   {
    "duration": 141,
    "start_time": "2023-08-17T11:01:09.876Z"
   },
   {
    "duration": 27,
    "start_time": "2023-08-17T11:01:28.630Z"
   },
   {
    "duration": 31,
    "start_time": "2023-08-17T11:01:38.225Z"
   },
   {
    "duration": 31,
    "start_time": "2023-08-17T11:01:44.693Z"
   },
   {
    "duration": 37,
    "start_time": "2023-08-17T11:07:35.062Z"
   },
   {
    "duration": 26,
    "start_time": "2023-08-17T11:08:07.556Z"
   },
   {
    "duration": 13,
    "start_time": "2023-08-17T11:08:18.027Z"
   },
   {
    "duration": 129,
    "start_time": "2023-08-17T11:11:34.524Z"
   },
   {
    "duration": 34,
    "start_time": "2023-08-17T11:12:43.203Z"
   },
   {
    "duration": 33,
    "start_time": "2023-08-17T11:14:25.067Z"
   },
   {
    "duration": 36,
    "start_time": "2023-08-17T11:15:56.769Z"
   },
   {
    "duration": 29,
    "start_time": "2023-08-17T11:16:44.607Z"
   },
   {
    "duration": 127,
    "start_time": "2023-08-17T11:19:19.454Z"
   },
   {
    "duration": 4149,
    "start_time": "2023-08-17T16:30:41.392Z"
   },
   {
    "duration": 93,
    "start_time": "2023-08-17T16:30:45.543Z"
   },
   {
    "duration": 83,
    "start_time": "2023-08-17T16:30:46.786Z"
   },
   {
    "duration": 3,
    "start_time": "2023-08-17T16:30:52.654Z"
   },
   {
    "duration": 3,
    "start_time": "2023-08-17T16:30:53.316Z"
   },
   {
    "duration": 13710,
    "start_time": "2023-08-17T16:30:59.791Z"
   },
   {
    "duration": 11,
    "start_time": "2023-08-17T16:31:13.503Z"
   },
   {
    "duration": 5,
    "start_time": "2023-08-17T16:31:13.516Z"
   },
   {
    "duration": 31,
    "start_time": "2023-08-17T16:31:13.523Z"
   },
   {
    "duration": 7,
    "start_time": "2023-08-17T16:31:17.042Z"
   },
   {
    "duration": 9,
    "start_time": "2023-08-17T16:31:19.342Z"
   },
   {
    "duration": 3,
    "start_time": "2023-08-17T16:31:27.012Z"
   },
   {
    "duration": 11,
    "start_time": "2023-08-17T16:31:27.322Z"
   },
   {
    "duration": 27,
    "start_time": "2023-08-17T16:31:29.663Z"
   },
   {
    "duration": 32,
    "start_time": "2023-08-17T16:31:32.301Z"
   },
   {
    "duration": 29,
    "start_time": "2023-08-17T16:31:34.322Z"
   },
   {
    "duration": 4,
    "start_time": "2023-08-17T16:31:37.313Z"
   },
   {
    "duration": 6,
    "start_time": "2023-08-17T16:31:47.161Z"
   },
   {
    "duration": 14,
    "start_time": "2023-08-17T16:31:47.517Z"
   },
   {
    "duration": 6,
    "start_time": "2023-08-17T16:31:58.299Z"
   },
   {
    "duration": 11,
    "start_time": "2023-08-17T16:31:59.083Z"
   },
   {
    "duration": 9,
    "start_time": "2023-08-17T16:32:19.242Z"
   },
   {
    "duration": 3,
    "start_time": "2023-08-17T16:32:19.981Z"
   },
   {
    "duration": 544,
    "start_time": "2023-08-17T16:32:27.766Z"
   },
   {
    "duration": 13,
    "start_time": "2023-08-17T16:32:33.652Z"
   },
   {
    "duration": 448,
    "start_time": "2023-08-17T16:32:36.353Z"
   },
   {
    "duration": 16,
    "start_time": "2023-08-17T16:32:38.394Z"
   },
   {
    "duration": 22,
    "start_time": "2023-08-17T16:32:42.807Z"
   },
   {
    "duration": 13,
    "start_time": "2023-08-17T16:32:43.372Z"
   },
   {
    "duration": 2,
    "start_time": "2023-08-17T16:32:57.437Z"
   },
   {
    "duration": 172,
    "start_time": "2023-08-17T16:32:59.471Z"
   },
   {
    "duration": 178,
    "start_time": "2023-08-17T16:34:04.582Z"
   },
   {
    "duration": 171,
    "start_time": "2023-08-17T16:34:07.512Z"
   },
   {
    "duration": 32,
    "start_time": "2023-08-17T16:34:13.312Z"
   },
   {
    "duration": 8,
    "start_time": "2023-08-17T16:34:19.811Z"
   },
   {
    "duration": 7,
    "start_time": "2023-08-17T16:34:26.483Z"
   },
   {
    "duration": 7,
    "start_time": "2023-08-17T16:34:57.252Z"
   },
   {
    "duration": 5,
    "start_time": "2023-08-17T16:36:53.882Z"
   }
  ],
  "kernelspec": {
   "display_name": "Python 3 (ipykernel)",
   "language": "python",
   "name": "python3"
  },
  "language_info": {
   "codemirror_mode": {
    "name": "ipython",
    "version": 3
   },
   "file_extension": ".py",
   "mimetype": "text/x-python",
   "name": "python",
   "nbconvert_exporter": "python",
   "pygments_lexer": "ipython3",
   "version": "3.10.9"
  },
  "toc": {
   "base_numbering": 1,
   "nav_menu": {},
   "number_sections": true,
   "sideBar": true,
   "skip_h1_title": true,
   "title_cell": "Содержание",
   "title_sidebar": "Contents",
   "toc_cell": true,
   "toc_position": {},
   "toc_section_display": true,
   "toc_window_display": false
  }
 },
 "nbformat": 4,
 "nbformat_minor": 2
}
